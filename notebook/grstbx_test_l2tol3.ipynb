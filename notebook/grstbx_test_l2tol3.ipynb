{
 "cells": [
  {
   "cell_type": "markdown",
   "id": "6d9d6a8f-bfc4-401b-a209-26bcfc3a449c",
   "metadata": {},
   "source": [
    "# Explore GRS images"
   ]
  },
  {
   "cell_type": "markdown",
   "id": "77e62aa9-fd0f-44cd-bc83-9b5c03660456",
   "metadata": {},
   "source": [
    "## Load python libraries"
   ]
  },
  {
   "cell_type": "code",
   "execution_count": null,
   "id": "18e076d0-205a-4808-9616-d93baab19cd6",
   "metadata": {
    "tags": []
   },
   "outputs": [],
   "source": [
    "import glob\n",
    "import os\n",
    "import numpy as np\n",
    "import pandas as pd\n",
    "import geopandas as gpd\n",
    "import xarray as xr\n",
    "import rioxarray  # activate the rio accessor\n",
    "\n",
    "#import cartopy\n",
    "import cartopy.crs as ccrs\n",
    "#import cartopy.feature as cfeature\n",
    "#import locale\n",
    "#locale.setlocale(locale.LC_ALL, 'en_US.utf8')\n",
    "import matplotlib.pyplot as plt\n",
    "import matplotlib as mpl\n",
    "#mpl.use('TkAgg')\n",
    "\n",
    "\n",
    "import pyproj as ppj\n",
    "import rasterio\n",
    "from affine import Affine\n",
    "from shapely.geometry import box,Point, mapping\n",
    "from shapely.ops import transform\n",
    "\n",
    "\n",
    "import grstbx\n",
    "from grstbx import visual\n",
    "\n",
    "u = grstbx.utils\n",
    "opj = os.path.join\n",
    "\n",
    "grstbx.__version__"
   ]
  },
  {
   "cell_type": "code",
   "execution_count": null,
   "id": "7440a10c-e456-4f18-9b8c-b17d9dde64d4",
   "metadata": {
    "tags": []
   },
   "outputs": [],
   "source": [
    "import hvplot.xarray\n",
    "\n",
    "import holoviews as hv\n",
    "import holoviews.operation.datashader as hd\n",
    "from holoviews import opts\n",
    "hv.extension('bokeh')\n",
    "import datashader as ds\n",
    "from datashader import transfer_functions as tf \n",
    "import colorcet as cc\n",
    "import panel as pn\n",
    "import panel.widgets as pnw\n",
    "#import ipywidgets as widgets\n"
   ]
  },
  {
   "cell_type": "markdown",
   "id": "8c491db3-e60a-49fe-b729-b0606206d401",
   "metadata": {
    "tags": []
   },
   "source": [
    "## Set Dask local cluster"
   ]
  },
  {
   "cell_type": "code",
   "execution_count": null,
   "id": "b3bcde51-5a87-4803-9aa4-eb2939e97530",
   "metadata": {
    "tags": []
   },
   "outputs": [],
   "source": [
    "import dask.distributed\n",
    "cluster = dask.distributed.LocalCluster()\n",
    "client = dask.distributed.Client(cluster)\n",
    "cluster.dashboard_link"
   ]
  },
  {
   "cell_type": "markdown",
   "id": "f8b337f6-4f0e-4d45-befc-fb142f8a83e8",
   "metadata": {},
   "source": [
    "## Set PROJ path if necessary"
   ]
  },
  {
   "cell_type": "code",
   "execution_count": null,
   "id": "2039dd1e-7c7d-43e0-95bc-9c1100781ec9",
   "metadata": {},
   "outputs": [],
   "source": [
    "ppj.datadir.get_data_dir()\n",
    "#ppj.datadir.set_data_dir('/work/scratch/harmelt/envs/grstbx/share/proj')"
   ]
  },
  {
   "cell_type": "markdown",
   "id": "23387cde-9362-4b4e-8489-62717b47259a",
   "metadata": {},
   "source": [
    "## Set the images you want to play with"
   ]
  },
  {
   "cell_type": "code",
   "execution_count": null,
   "id": "cb277565-c488-4a7b-89b2-acdec9211221",
   "metadata": {
    "tags": []
   },
   "outputs": [],
   "source": [
    "\n",
    "tile='37PGN'\n",
    "idir='/media/harmel/vol1/Dropbox/satellite/S2'\n",
    "select =grstbx.select_files()\n",
    "\n",
    "# if you need to change the root path\n",
    "select.root=idir\n",
    "select.list_tile(tile=tile,product='cnes',pattern='*15.nc')\n",
    "files = select.list_file_path(('2022-11','2022-12-31'))\n",
    "files\n",
    "\n",
    "pn.widgets.DataFrame(select.file_list, height=250,width=1000)"
   ]
  },
  {
   "cell_type": "markdown",
   "id": "c329b52b-3878-441c-a109-fd436dd5f831",
   "metadata": {},
   "source": [
    "## Load and subset image series"
   ]
  },
  {
   "cell_type": "code",
   "execution_count": null,
   "id": "42226f02-cfaf-435b-ab57-c5026e37b33a",
   "metadata": {
    "tags": []
   },
   "outputs": [],
   "source": [
    "# central coordinate\n",
    "lon, lat = 41.77, 11.18 \n",
    "# size in meter of the rectangle of interest\n",
    "width, height = 13000, 15000\n",
    "aspect=width/height\n",
    "\n",
    "ust = grstbx.utils.spatiotemp()\n",
    "box = ust.wktbox(lon,lat, width=width, height=height, ellps='WGS84')\n",
    "bbox = gpd.GeoSeries.from_wkt([box]).set_crs(epsg=4326)\n",
    "# reproject lon lat in xy coordinates\n",
    "#bbox = bbox.to_crs(epsg=32631)\n",
    "\n",
    "# generate datacube\n",
    "dc = grstbx.l2grs(files)\n",
    "dc.load(subset=bbox,reshape=False, reproject=False)"
   ]
  },
  {
   "cell_type": "markdown",
   "id": "edeb6247-91dd-4347-935e-f385b411b29f",
   "metadata": {
    "tags": []
   },
   "source": [
    "## Check data/metadata"
   ]
  },
  {
   "cell_type": "code",
   "execution_count": null,
   "id": "d46ab02e-c71d-4a24-b54a-0e1f24271459",
   "metadata": {
    "tags": []
   },
   "outputs": [],
   "source": [
    "masking_ = grstbx.masking(dc.datacube)\n"
   ]
  },
  {
   "cell_type": "code",
   "execution_count": null,
   "id": "bc6f1327-03f8-4f49-bd01-81cbab45ac6e",
   "metadata": {},
   "outputs": [],
   "source": [
    "dc.datacube"
   ]
  },
  {
   "cell_type": "markdown",
   "id": "0ad4be78-3f95-49ad-a93e-6595050e26f5",
   "metadata": {},
   "source": [
    "## Mask datacube\n",
    "Mask pixels from chosen flags and remove empty dates"
   ]
  },
  {
   "cell_type": "code",
   "execution_count": null,
   "id": "2bd94a11-43fa-46c8-9d9e-03dcb2af79f0",
   "metadata": {
    "tags": []
   },
   "outputs": [],
   "source": [
    "mask = (masking_.get_mask(high_nir=True) | masking_.get_mask(hicld=True)) | (dc.datacube.Rrs_B3 < 0.0002)\n",
    "#mask.compute()\n"
   ]
  },
  {
   "cell_type": "code",
   "execution_count": null,
   "id": "978ba6f2-fb0f-46bb-965d-7693c1b15bc1",
   "metadata": {},
   "outputs": [],
   "source": [
    "# compute number of valid pixels per date\n",
    "mask_ts =  (~mask).sum(['x','y']).compute()\n",
    "\n"
   ]
  },
  {
   "cell_type": "code",
   "execution_count": null,
   "id": "f84f9a9d-7cf1-47f9-b793-cfc9b4ad07b9",
   "metadata": {},
   "outputs": [],
   "source": [
    "valid_pix = mask_ts / mask_ts.max()\n",
    "valid_pix.plot()"
   ]
  },
  {
   "cell_type": "markdown",
   "id": "569c4bdf-cff0-4792-a00b-6c3b2d7722fa",
   "metadata": {},
   "source": [
    "Drop dates with valid pixel below a threshold, for example keep date when valid pixels are at least 60%"
   ]
  },
  {
   "cell_type": "code",
   "execution_count": null,
   "id": "258a832f-81df-4d6e-b601-66193e92f157",
   "metadata": {},
   "outputs": [],
   "source": [
    "threshold = 0.6\n",
    "dc.datacube = dc.datacube.where(valid_pix>threshold,drop=True)\n",
    "\n"
   ]
  },
  {
   "cell_type": "markdown",
   "id": "63951d7f-e835-4448-b876-bedb0c6b88c9",
   "metadata": {},
   "source": [
    "Mask raster for each remaining date"
   ]
  },
  {
   "cell_type": "code",
   "execution_count": null,
   "id": "9c616741-1a14-4bce-9cf1-62b954d67ff1",
   "metadata": {},
   "outputs": [],
   "source": [
    "dc.datacube = dc.datacube.where(mask==0,drop=True)"
   ]
  },
  {
   "cell_type": "markdown",
   "id": "f8f04837-1022-49ee-a103-50a92f547054",
   "metadata": {},
   "source": [
    "reproject desired variables into desired epsg (by default 3857 for basemap projection)"
   ]
  },
  {
   "cell_type": "code",
   "execution_count": null,
   "id": "89f32894-3106-4579-bfcc-dce73dc65256",
   "metadata": {},
   "outputs": [],
   "source": [
    "dc.reproject_data_vars()"
   ]
  },
  {
   "cell_type": "markdown",
   "id": "5d0e983f-2a12-4ebf-9f4c-92511a49a628",
   "metadata": {},
   "source": [
    "reshape your raster to add the wavelength diemension to the requested Rrs"
   ]
  },
  {
   "cell_type": "code",
   "execution_count": null,
   "id": "d9ca03df-1a67-4bb9-9132-0fe19b1d152b",
   "metadata": {},
   "outputs": [],
   "source": [
    "dc.reshape_raster()"
   ]
  },
  {
   "cell_type": "markdown",
   "id": "0bac4b55-3162-49fc-aea9-09fc0c1af2a1",
   "metadata": {},
   "source": [
    "## **Fast checking of the RGB images**"
   ]
  },
  {
   "cell_type": "markdown",
   "id": "5726528c-6fc2-41e2-b22c-b6f657ac20e6",
   "metadata": {},
   "source": [
    "You are done with your datacube:"
   ]
  },
  {
   "cell_type": "code",
   "execution_count": null,
   "id": "940b2629-7b99-45ba-b484-0ea8e44ace22",
   "metadata": {},
   "outputs": [],
   "source": [
    "coarsening = 3\n",
    "fig = dc.raster.Rrs.isel(wl=2)[:,::coarsening, ::coarsening].plot(col='time', col_wrap=4,robust=True,cmap=cc.cm.CET_D13,aspect=aspect)\n",
    "for ax in fig.axs.flat:\n",
    "    ax.set(xticks=[], yticks=[])\n",
    "    ax.set_ylabel('')\n",
    "    ax.set_xlabel('')\n",
    "fig\n"
   ]
  },
  {
   "cell_type": "code",
   "execution_count": null,
   "id": "04e071ff-ef14-4910-a529-d39223292ed3",
   "metadata": {},
   "outputs": [],
   "source": [
    "coarsening = 2\n",
    "fig=dc.raster.BRDFg[:,::coarsening, ::coarsening].plot(col='time', col_wrap=4,vmax=0.01,robust=True,cmap=cc.cm.gray,aspect=aspect)\n",
    "for ax in fig.axs.flat:\n",
    "    ax.set(xticks=[], yticks=[])\n",
    "    ax.set_ylabel('')\n",
    "    ax.set_xlabel('')\n",
    "fig\n"
   ]
  },
  {
   "cell_type": "code",
   "execution_count": null,
   "id": "fb006788-3d0e-4c73-9ecb-45c0446bc7b1",
   "metadata": {},
   "outputs": [],
   "source": [
    "bands=[4,2,1]\n",
    "#bands=[3,2,1]\n",
    "coarsening = 2\n",
    "brightness_factor = 5\n",
    "gamma=2\n",
    "fig = (dc.raster.Rrs.isel(wl=bands)[:,:,::coarsening, ::coarsening]**(1/gamma)*brightness_factor).plot.imshow(col='time', col_wrap=4,robust=True,aspect=aspect)\n",
    "for ax in fig.axs.flat:\n",
    "    ax.set(xticks=[], yticks=[])\n",
    "    ax.set_ylabel('')\n",
    "    ax.set_xlabel('')\n",
    "fig\n"
   ]
  },
  {
   "cell_type": "markdown",
   "id": "2d09c5c5-8176-4b5e-97ba-be20dde7429e",
   "metadata": {},
   "source": [
    "## Export your data cube into netcdf (you can try other format, not tested so far)"
   ]
  },
  {
   "cell_type": "code",
   "execution_count": null,
   "id": "42cf45dc-7d5b-442e-8daa-0c38208a15fa",
   "metadata": {},
   "outputs": [],
   "source": [
    "ds = dc.raster\n",
    "comp = dict(zlib=True, complevel=5)\n",
    "encoding = {'Rrs':comp} #{var: comp for var in ds.data_vars}\n",
    "filename='/sat_data/satellite/sentinel2/L3/test_abhe_2022_nov-dec.nc'\n",
    "ds.to_netcdf(filename, encoding=encoding)"
   ]
  },
  {
   "cell_type": "code",
   "execution_count": null,
   "id": "e7ea84d6-0b28-4d72-aafa-0d5d8ec886f7",
   "metadata": {},
   "outputs": [],
   "source": []
  },
  {
   "cell_type": "markdown",
   "id": "d350e2de-785c-4956-ace3-feaf04c4c0f6",
   "metadata": {},
   "source": [
    "## **Check spectral datacube** (i.e., Remote Sensing Reflectance, R<sub>rs</sub>, sr<sup>-1</sup>)"
   ]
  },
  {
   "cell_type": "markdown",
   "id": "d86d2783-016b-46be-b29f-542f7445948c",
   "metadata": {},
   "source": [
    "To quickly check your data visually, you can use the *visual* module of *grstbx*"
   ]
  },
  {
   "cell_type": "code",
   "execution_count": null,
   "id": "632955e0-f90b-41b4-b5cf-d2d23a927021",
   "metadata": {},
   "outputs": [],
   "source": [
    "v=visual.view_spectral(dc.raster.Rrs)"
   ]
  },
  {
   "cell_type": "code",
   "execution_count": null,
   "id": "44cc5e13-c692-43c0-8fe1-6be3c59210c0",
   "metadata": {},
   "outputs": [],
   "source": [
    "v.visu()\n"
   ]
  },
  {
   "cell_type": "code",
   "execution_count": null,
   "id": "91944438-727c-4093-871a-73b7cf3bbfc2",
   "metadata": {},
   "outputs": [],
   "source": [
    "v.aoi_stream.data"
   ]
  },
  {
   "cell_type": "code",
   "execution_count": null,
   "id": "4aa83759-0a98-4153-9ae8-c6c0bb10cba3",
   "metadata": {},
   "outputs": [],
   "source": [
    "v.aoi_stream.element.geom()"
   ]
  },
  {
   "cell_type": "code",
   "execution_count": null,
   "id": "3161fda4-2e78-4e81-a66e-05775e7f5b68",
   "metadata": {},
   "outputs": [],
   "source": [
    "from shapely.geometry import Polygon\n",
    "geom = v.aoi_stream.data\n",
    "ys,xs=geom['ys'][-1],geom['xs'][-1]\n",
    "polygon_geom = Polygon(zip(xs, ys))\n",
    "polygon = gpd.GeoDataFrame(index=[0], crs=3857, geometry=[polygon_geom]) \n",
    "geom_ = polygon.to_crs(3857)#Rrs_masked.rio.crs) #4326)#32631)#4326)\n",
    "geom_.to_crs(4326).bounds\n",
    "\n",
    "# if you want to subset within the box (defined from the polygon) uncomment the following lines\n",
    "#minx, miny, maxx, maxy = geom_.bounds.values[0]\n",
    "#Rrs_masked.sel(x=slice(minx, maxx), y=slice(maxy, miny))\n",
    "\n",
    "# if projected uncomment\n",
    "#geom_=geom_.to_crs(Rrs_masked.rio.crs)\n"
   ]
  },
  {
   "cell_type": "code",
   "execution_count": null,
   "id": "185e3154-aa46-48b2-b2e8-195d552f5d27",
   "metadata": {},
   "outputs": [],
   "source": [
    "Rrs_clipped = Rrs_masked.rio.clip(geom_.geometry.values)"
   ]
  },
  {
   "cell_type": "code",
   "execution_count": null,
   "id": "08883c9d-d987-48cc-9e02-d1271efa0926",
   "metadata": {},
   "outputs": [],
   "source": [
    "Rrs_clipped = Rrs_masked"
   ]
  },
  {
   "cell_type": "code",
   "execution_count": null,
   "id": "b5fbc371-d989-42b1-ad03-ae49d989db69",
   "metadata": {},
   "outputs": [],
   "source": [
    "comp = dict(zlib=True, complevel=5)\n",
    "encoding = {var: comp for var in ds.data_vars}\n",
    "filename='/sat_data/satellite/sentinel2/L3/test_abhe_2022.nc'\n",
    "Rrs_clipped.to_netcdf(filename, encoding=encoding)"
   ]
  },
  {
   "cell_type": "code",
   "execution_count": null,
   "id": "2c2fb0d6-5b1b-44fc-9d46-e5b95c6edc89",
   "metadata": {},
   "outputs": [],
   "source": [
    "stacked = Rrs_clipped.dropna('time',thresh=0).stack(gridcell=[\"y\", \"x\"]).dropna('gridcell',thresh=0)\n"
   ]
  },
  {
   "cell_type": "code",
   "execution_count": null,
   "id": "5b762b1d-73a7-4c11-bf39-2a2baaa43b64",
   "metadata": {},
   "outputs": [],
   "source": [
    "group_coord ='wl'\n",
    "stat_coord='gridcell'\n",
    "stats = xr.Dataset({'median':stacked.groupby(group_coord).median(stat_coord)})\n",
    "stats['q25'] = stacked.groupby(group_coord).quantile(0.25,dim=stat_coord)\n",
    "stats['q75'] = stacked.groupby(group_coord).quantile(0.75,dim=stat_coord)\n",
    "stats['min'] = stacked.groupby(group_coord).min(stat_coord)\n",
    "stats['max'] = stacked.groupby(group_coord).max(stat_coord)\n",
    "stats['mean'] = stacked.groupby(group_coord).mean(stat_coord)\n",
    "stats['std'] = stacked.groupby(group_coord).std(stat_coord)\n",
    "stats['pix_num'] = stacked.count(stat_coord)"
   ]
  },
  {
   "cell_type": "code",
   "execution_count": null,
   "id": "d41a0cdf-18e4-4418-9e2c-074ca6ff76a8",
   "metadata": {},
   "outputs": [],
   "source": [
    "%matplotlib inline\n",
    "num_items = len(stats.time)\n",
    "col_wrap=4\n",
    "rows=int(np.ceil(num_items/col_wrap))\n",
    "\n",
    "fig, axs = plt.subplots(nrows=rows,ncols=col_wrap, sharex=True,sharey=True, figsize=(20, rows*3.5))#,sharey=True\n",
    "fig.subplots_adjust(hspace=0.1,wspace=0.1)\n",
    "axs_ = axs.ravel()\n",
    "[axi.set_axis_off() for axi in axs_]\n",
    "for iax,(_,group) in enumerate(stats.groupby('time')): \n",
    "    date = group.time.dt.date.values\n",
    "    \n",
    "    axs_[iax].set_axis_on()\n",
    "    axs_[iax].axhline(y=0,color='k',lw=1)\n",
    "    axs_[iax].plot(group.wl,group['median'],c='k')\n",
    "    axs_[iax].plot(group.wl,group['mean'],c='red',ls='--')\n",
    "    axs_[iax].fill_between(group.wl, group['q25'], group['q75'],alpha=0.3,color='grey')\n",
    "    axs_[iax].set_title(date)\n",
    "plt.show()"
   ]
  },
  {
   "cell_type": "code",
   "execution_count": null,
   "id": "a45d1e71-35bf-44f9-b275-400a44ef81dc",
   "metadata": {},
   "outputs": [],
   "source": [
    "from datetime import datetime\n",
    "raster = Rrs_masked#.time.values\n",
    "dates=raster.time.dt.date.values#.to_pandas() #.astype(datetime)#dt.date.values\n",
    "\n",
    "\n",
    "dates#[0].datetime#.to_datetime()"
   ]
  },
  {
   "cell_type": "code",
   "execution_count": null,
   "id": "ed8b4850-394f-422d-aea0-fb252d35695c",
   "metadata": {},
   "outputs": [],
   "source": [
    "datetime_picker = pn.widgets.DatetimePicker()#,start=dates[0])#,\n",
    "                                  #  end=dates[-1], \n",
    "                                   # value=dates[0])#, enabled_dates=(datetime.datetime(2021, 3, 2, 12, 10)))#dates)\n",
    "                                          #  value=)"
   ]
  },
  {
   "cell_type": "code",
   "execution_count": null,
   "id": "b15966ce-6d59-4d82-a92c-089a35f5d965",
   "metadata": {},
   "outputs": [],
   "source": [
    "\n",
    "dataarrays, datasets, images, minmaxes = {}, {}, {}, {}\n",
    "bands = raster.wl.values\n",
    "\n",
    "for itime, time in enumerate(raster.time.values):\n",
    "    dataarrays_={}\n",
    "    raster_ =raster.sel(time=time)\n",
    "    for iband,band in enumerate(bands):\n",
    "        dataarrays[itime,iband] = raster_.sel(wl=band).rio.reproject(3857,nodata=np.nan )\n",
    "    #dataarrays[itime]=dataarrays_\n",
    "    "
   ]
  },
  {
   "cell_type": "code",
   "execution_count": null,
   "id": "99a2a2ce-4b89-45db-bac4-eea77eb6fef2",
   "metadata": {},
   "outputs": [],
   "source": [
    "image_width, image_height = 400, 600\n",
    "map_width, map_height = 1200, 700\n",
    "\n",
    "key_dimensions = ['x', 'y']\n",
    "\n",
    "\n",
    "import bokeh \n",
    "formatter_code = \"\"\"\n",
    "  var digits = 4;\n",
    "  var projections = Bokeh.require(\"core/util/projections\");\n",
    "  var x = special_vars.x; var y = special_vars.y;\n",
    "  var coords = projections.wgs84_mercator.invert(x, y);\n",
    "  return \"\" + (Math.round(coords[%d] * 10**digits) / 10**digits).toFixed(digits)+ \"\";\n",
    "\"\"\"\n",
    "formatter_code_x, formatter_code_y = formatter_code % 0, formatter_code % 1\n",
    "custom_tooltips = [ ('Lon', '@x{custom}'), ('Lat', '@y{custom}'), ('Value', '@image{0.0000}')]\n",
    "custom_formatters = { \n",
    "  '@x' : bokeh.models.CustomJSHover(code=formatter_code_x), \n",
    "  '@y' : bokeh.models.CustomJSHover(code=formatter_code_y)\n",
    "}\n",
    "custom_hover = bokeh.models.HoverTool(tooltips=custom_tooltips, formatters=custom_formatters)\n",
    "\n",
    "\n",
    "hv.opts.defaults(\n",
    "  hv.opts.Image(height=image_height, width=image_width, \n",
    "                colorbar=True, tools=[custom_hover], active_tools=['wheel_zoom'], \n",
    "                clipping_colors={'NaN': '#00000000'}),\n",
    "  hv.opts.Tiles(active_tools=['wheel_zoom'])\n",
    ")\n",
    "gopts = hv.opts.Tiles(xaxis=None, yaxis=None, bgcolor='black', show_grid=False)\n",
    "\n",
    "titles ={}\n",
    "for idate,date in enumerate(dates):\n",
    "    for iband,band in enumerate(bands):\n",
    "\n",
    "        titles[date,iband]=str(date)+', wl = {:.2f} nm '.format(band)\n",
    "        datasets = hv.Dataset(dataarrays[idate,iband].squeeze(),  kdims=key_dimensions)\n",
    "        images[date,iband] = hv.Image(datasets).opts(gopts)"
   ]
  },
  {
   "cell_type": "code",
   "execution_count": null,
   "id": "0d736e3e-4cc2-43bf-86cc-0120053e7ddc",
   "metadata": {},
   "outputs": [],
   "source": [
    "minmax=(0,0.02)\n",
    "bases = [name for name, ts in hv.element.tiles.tile_sources.items()]\n",
    "pn_band = pn.widgets.RadioButtonGroup(value=2,options=list(range(len(bands))))\n",
    "pn_colormap = pn.widgets.Select( value='CET_D13',options=['kbc','blues_r', 'kb', 'rainbow', 'fire', 'kgy','bky','bjy','CET_D13'])\n",
    "pn_opacity = pn.widgets.FloatSlider(name='Opacity', value=0.95, start=0, end=1, step=0.05) \n",
    "range_slider = pn.widgets.RangeSlider(name='Range Slider', start=0, end=.06,value=minmax,step=0.0001)\n",
    "pn_basemaps = pn.widgets.Select(value='StamenTerrainRetina',options=bases)\n",
    "pn_date = pn.widgets.DatePicker(value=dates[0],start=dates[0],enabled_dates=dates.tolist())#.date, end=dates[-1],value=dates[0])\n",
    "\n",
    "@pn.depends(\n",
    "  pn_date_value=pn_date.param.value,\n",
    "  pn_band_value = pn_band.param.value, \n",
    "  pn_colormap_value = pn_colormap.param.value, \n",
    "  pn_opacity_value = pn_opacity.param.value,\n",
    "  range_slider_value = range_slider.param.value\n",
    "    \n",
    ")\n",
    "def load_map(pn_date_value,pn_band_value, pn_colormap_value, pn_opacity_value,range_slider_value):\n",
    "    \n",
    "    image = images[pn_date_value,pn_band_value]\n",
    "    \n",
    "    used_colormap = cc.cm[pn_colormap_value]\n",
    "    \n",
    "    image.opts(cmap=used_colormap, alpha=pn_opacity_value,clim=range_slider_value,title= titles[pn_date_value,pn_band_value])\n",
    "    return image\n",
    "\n",
    "@pn.depends(\n",
    "    basemap_value=pn_basemaps.param.value)\n",
    "def load_tiles(basemap_value):\n",
    "    tiles = hv.element.tiles.tile_sources[basemap_value]()\n",
    "    return tiles.options(height=map_height, width=map_width).opts(gopts)\n",
    "\n",
    "dynmap = hd.regrid(hv.DynamicMap(load_map))\n",
    "combined = hv.DynamicMap(load_tiles) * dynmap\n",
    "\n",
    "pn.Column(\n",
    "  pn.WidgetBox(\n",
    "    '## S2 L2A', \n",
    "    pn.Column(\n",
    "        pn.Row(\n",
    "            pn.Row('### Band', pn_band), \n",
    "            pn.Row('### Date',pn_date),\n",
    "            pn.Row('#### Basemap',pn_basemaps)\n",
    "            ), \n",
    "        pn.Row(\n",
    "            pn.Row('',range_slider),\n",
    "            pn.Row('#### Opacity', pn_opacity),\n",
    "            pn.Row('#### Colormap', pn_colormap))      \n",
    "  )), \n",
    "  combined\n",
    ")\n"
   ]
  },
  {
   "cell_type": "code",
   "execution_count": null,
   "id": "b558e326-eaa7-4d62-a889-5f22a0119eaa",
   "metadata": {},
   "outputs": [],
   "source": []
  },
  {
   "cell_type": "code",
   "execution_count": null,
   "id": "0fb302f2-3ffb-47c6-b7fd-61fe9af1b965",
   "metadata": {},
   "outputs": [],
   "source": []
  },
  {
   "cell_type": "code",
   "execution_count": null,
   "id": "f253f8e0-82df-4bf5-9013-27d6e60d86af",
   "metadata": {},
   "outputs": [],
   "source": [
    "hv.Layout([ts().relabel(name) for name, ts in hv.element.tiles.tile_sources.items()]).opts(\n",
    "    opts.Tiles(xaxis=None, yaxis=None, width=225, height=225)).cols(4)"
   ]
  },
  {
   "cell_type": "code",
   "execution_count": null,
   "id": "e3710741-a013-4673-b63b-9c49f8934252",
   "metadata": {
    "tags": []
   },
   "outputs": [],
   "source": [
    "from holoviews import opts\n",
    "\n",
    "opts.defaults(\n",
    "    opts.GridSpace(shared_xaxis=True, shared_yaxis=True),\n",
    "    opts.Image(cmap='binary_r', width=800, height=700),\n",
    "    opts.Labels(text_color='white', text_font_size='8pt', text_align='left', text_baseline='bottom'),\n",
    "    opts.Path(color='white'),\n",
    "    opts.Spread(width=900),\n",
    "    opts.Overlay(show_legend=True))\n",
    "# set the parameter for spectra extraction\n",
    "hv.extension('bokeh')\n",
    "pn.extension()\n",
    "\n",
    "visual.image_viewer().Rrs_date(Rrs_masked)"
   ]
  },
  {
   "cell_type": "code",
   "execution_count": null,
   "id": "00881453-a93d-4a0e-8c43-e5b7f69e3f4b",
   "metadata": {},
   "outputs": [],
   "source": []
  },
  {
   "cell_type": "code",
   "execution_count": null,
   "id": "6342bcf3-71f4-4bca-b2f4-3125ce4c9ff1",
   "metadata": {
    "tags": []
   },
   "outputs": [],
   "source": [
    "import datashader as ds\n",
    "from datashader import transfer_functions as tf \n",
    "from colorcet import palette\n",
    "\n",
    "\n",
    "shaded = []\n",
    "for name, raster in Rrs_masked.isel(wl=2).groupby('time'):\n",
    "    img = tf.shade(raster.rio.reproject(3857,nodata=np.nan).squeeze(),cmap=cc.kbc)\n",
    "    img.name = str(name)\n",
    "    shaded.append(img)"
   ]
  },
  {
   "cell_type": "code",
   "execution_count": null,
   "id": "e8ab9644-dee7-4093-ba63-bfd136a50911",
   "metadata": {
    "tags": []
   },
   "outputs": [],
   "source": [
    "imgs = tf.Images(*shaded)\n",
    "imgs.num_cols = 3\n",
    "imgs"
   ]
  },
  {
   "cell_type": "code",
   "execution_count": null,
   "id": "737fcd5e-5515-44c9-8ff7-d4561d026d1d",
   "metadata": {
    "tags": []
   },
   "outputs": [],
   "source": []
  },
  {
   "cell_type": "code",
   "execution_count": null,
   "id": "9ecdc668-122d-4755-a42b-9fe023f32f30",
   "metadata": {
    "tags": []
   },
   "outputs": [],
   "source": []
  },
  {
   "cell_type": "code",
   "execution_count": null,
   "id": "6601e7b8-778b-4918-9b33-a2d9b55ac5d8",
   "metadata": {},
   "outputs": [],
   "source": [
    "from holoviews import opts\n",
    "\n",
    "opts.defaults(\n",
    "    opts.GridSpace(shared_xaxis=True, shared_yaxis=True),\n",
    "    opts.Image(cmap='binary_r', width=800, height=700),\n",
    "    opts.Labels(text_color='white', text_font_size='8pt', text_align='left', text_baseline='bottom'),\n",
    "    opts.Path(color='white'),\n",
    "    opts.Spread(width=900),\n",
    "    opts.Overlay(show_legend=True))\n",
    "# set the parameter for spectra extraction\n",
    "hv.extension('bokeh')\n",
    "pn.extension()\n",
    "\n",
    "raster = Rrs_masked#.isel(time=-1,drop=True)\n",
    "ds = hv.Dataset(raster.persist())\n",
    "im= ds.to(hv.Image, ['x', 'y'], dynamic=True).opts(cmap= 'RdBu_r',colorbar=True)#.hist(bin_range=(0,0.02) ) \n",
    "widget = pn.widgets.RangeSlider(start=0, end=0.1,step=0.001)\n",
    "\n",
    "jscode = \"\"\"\n",
    "    color_mapper.low = cb_obj.value[0];\n",
    "    color_mapper.high = cb_obj.value[1];\n",
    "\"\"\"\n",
    "link = widget.jslink(im, code={'value': jscode})\n",
    "pn.Column(widget, im)"
   ]
  },
  {
   "cell_type": "code",
   "execution_count": null,
   "id": "a33ffa02-5ffa-473c-b732-5bd8b55c5270",
   "metadata": {},
   "outputs": [],
   "source": [
    "\n",
    "param = 'Rrs'\n",
    "third_dim = 'wl'\n",
    "raster = Rrs_masked.isel(time=1,drop=True)\n",
    "wl= raster.wl.data\n",
    "Nwl = len(wl)\n",
    "ds = hv.Dataset(raster.persist())\n",
    "im= ds.to(hv.Image, ['x', 'y'], dynamic=True).opts(cmap= 'RdBu_r',colorbar=True,clim=(0,None)).hist(bin_range=(0,0.02) ) \n",
    "\n",
    "polys = hv.Polygons([])\n",
    "box_stream = hv.streams.BoxEdit(source=polys)\n",
    "dmap, dmap_std=[],[]\n",
    "\n",
    "def roi_curves(data,ds=ds):    \n",
    "    return hv.NdOverlay(curves)\n",
    "\n",
    "mean=hv.DynamicMap(roi_curves,streams=[box_stream])\n",
    "std =hv.DynamicMap(roi_spreads, streams=[box_stream])    \n",
    "hlines = hv.HoloMa\n",
    "\n",
    "\n",
    "\n",
    "    return hv.NdOverlay(curves)\n",
    "\n",
    "mean=hv.DynamicMap(roi_curves,streams=[box_stream])\n",
    "std =hv.DynamicMap(roi_spreads, streams=[box_stream])    \n",
    "hlines = hv.HoloMa\n",
    "    if not data or not any(len(d) for d in data.values()):\n",
    "        return hv.NdOverlay({0: hv.Curve([],'Wavelength (nm)', 'Rrs')})\n",
    "\n",
    "    curves,envelope = {},{}\n",
    "    data = zip(data['x0'], data['x1'], data['y0'], data['y1'])\n",
    "    for i, (x0, x1, y0, y1) in enumerate(data):\n",
    "    return hv.NdOverlay(curves)\n",
    "\n",
    "mean=hv.DynamicMap(roi_curves,streams=[box_stream])\n",
    "std =hv.DynamicMap(roi_spreads, streams=[box_stream])    \n",
    "hlines = hv.HoloMa\n",
    "    return hv.NdOverlay(curves)\n",
    "\n",
    "mean=hv.DynamicMap(roi_curves,streams=[box_stream])\n",
    "    return hv.NdOverlay(curves)\n",
    "\n",
    "mean=hv.DynamicMap(roi_curves,streams=[box_stream])\n",
    "std =hv.DynamicMap(roi_spreads, streams=[box_stream])    \n",
    "hlines = hv.HoloMa\n",
    "std =hv.DynamicMap(roi_spreads, streams=[box_stream])    \n",
    "    return hv.NdOverlay(curves)\n",
    "\n",
    "mean=hv.DynamicMap(roi_curves,streams=[box_stream])\n",
    "std =hv.DynamicMap(roi_spreads, streams=[box_stream])    \n",
    "hlines = hv.HoloMa\n",
    "hlines = hv.HoloMa\n",
    "        selection = ds.select(x=(x0, x1), y=(y0, y1))\n",
    "        mean = selection.aggregate(third_dim, np.mean).data\n",
    "    return hv.NdOverlay(curves)\n",
    "\n",
    "mean=hv.DynamicMap(roi_curves,streams=[box_stream])\n",
    "std =hv.DynamicMap(roi_spreads, streams=[box_stream])    \n",
    "hlines = hv.HoloMa\n",
    "        std = selection.aggregate(third_dim, np.std).data\n",
    "    return hv.NdOverlay(curves)\n",
    "\n",
    "mean=hv.DynamicMap(roi_curves,streams=[box_stream])\n",
    "std =hv.DynamicMap(roi_spreads, streams=[box_stream])    \n",
    "hlines = hv.HoloMa\n",
    "        wl = mean.wl\n",
    "\n",
    "        curves[i]= hv.Curve((wl,mean[param]),'Wavelength (nm)', 'Rrs') \n",
    "\n",
    "    return hv.NdOverlay(curves)\n",
    "\n",
    "\n",
    "# a bit dirty to have two similar function, but holoviews does not like mixing Curve and Spread for the same stream\n",
    "def roi_spreads(data,ds=ds):    \n",
    "    if not data or not any(len(d) for d in data.values()):\n",
    "        return hv.NdOverlay({0: hv.Curve([],'Wavelength (nm)', 'Rrs')})\n",
    "\n",
    "    curves,envelope = {},{}\n",
    "    return hv.NdOverlay(curves)\n",
    "\n",
    "mean=hv.DynamicMap(roi_curves,streams=[box_stream])\n",
    "std =hv.DynamicMap(roi_spreads, streams=[box_stream])    \n",
    "hlines = hv.HoloMa\n",
    "    return hv.NdOverlay(curves)\n",
    "\n",
    "mean=hv.DynamicMap(roi_curves,streams=[box_stream])\n",
    "std =hv.DynamicMap(roi_spreads, streams=[box_stream])    \n",
    "hlines = hv.HoloMa\n",
    "    data = zip(data['x0'], data['x1'], data['y0'], data['y1'])\n",
    "    for i, (x0, x1, y0, y1) in enumerate(data):\n",
    "        selection = ds.select(x=(x0, x1), y=(y0, y1))\n",
    "        mean = selection.aggregate(third_dim, np.mean).data\n",
    "        std = selection.aggregate(third_dim, np.std).data\n",
    "        wl = mean.wl\n",
    "\n",
    "        curves[i]=  hv.Spread((wl,mean[param],std[param]),fill_alpha=0.3)\n",
    "\n",
    "    return hv.NdOverlay(curves)\n",
    "\n",
    "mean=hv.DynamicMap(roi_curves,streams=[box_stream])\n",
    "std =hv.DynamicMap(roi_spreads, streams=[box_stream])    \n",
    "hlines = hv.HoloMap({wl[i]: hv.VLine(wl[i]) for i in range(Nwl)},third_dim )\n"
   ]
  },
  {
   "cell_type": "code",
   "execution_count": null,
   "id": "0270c0e3-8f5b-4ab1-ac4c-c471bae1a2b2",
   "metadata": {},
   "outputs": [],
   "source": [
    "\n",
    "# visualize and play\n",
    "graphs = ((mean* std *hlines).relabel('Rrs'))\n",
    "layout = (im * polys +graphs    ).opts(\n",
    "    opts.Curve(width=600, framewise=True,xlim=(400,1000)), \n",
    "    opts.Polygons(fill_alpha=0.2, color='green',line_color='black'), \n",
    "    opts.VLine(color='black')).cols(2)\n",
    "layout "
   ]
  },
  {
   "cell_type": "markdown",
   "id": "e077158e-5a5d-4e5b-aeca-58876edf8a06",
   "metadata": {},
   "source": [
    "# Check surface rugosity via sunglint BRDF"
   ]
  },
  {
   "cell_type": "code",
   "execution_count": null,
   "id": "b78f8501-eadd-4236-a7eb-cbad50ef1426",
   "metadata": {},
   "outputs": [],
   "source": [
    "\n",
    "raster = BRDFg#.isel(time=-1,drop=True)\n",
    "ds = hv.Dataset(raster.persist())\n",
    "im= ds.to(hv.Image, ['x', 'y'], dynamic=True).opts(cmap= 'gray',colorbar=True)#.hist(bin_range=(0,0.02) ) \n",
    "widget = pn.widgets.RangeSlider(start=0, end=0.01,step=0.0005)\n",
    "\n",
    "jscode = \"\"\"\n",
    "    color_mapper.low = cb_obj.value[0];\n",
    "    color_mapper.high = cb_obj.value[1];\n",
    "\"\"\"\n",
    "link = widget.jslink(im, code={'value': jscode})\n",
    "pn.Column(widget, im)"
   ]
  },
  {
   "cell_type": "code",
   "execution_count": null,
   "id": "2a29535a-715e-4fc6-a57c-08d68319018f",
   "metadata": {},
   "outputs": [],
   "source": [
    "\n",
    "shaded = []\n",
    "for name, raster in BRDFg.groupby('time'):\n",
    "    img = tf.shade(raster.squeeze(),cmap=cc.gray)\n",
    "    img.name = str(name)\n",
    "    shaded.append(img)\n",
    "\n",
    "imgs = tf.Images(*shaded)\n",
    "imgs.num_cols = 5\n",
    "imgs"
   ]
  },
  {
   "cell_type": "markdown",
   "id": "2e2e8cac-0963-4371-a422-3303dcc8c3f9",
   "metadata": {},
   "source": [
    "## Check blue over green ratio for Chl retrieval with OC2 from NASA\n",
    "$log_{10}(chlor\\_a) = a_0 + \\sum\\limits_{i=1}^4 a_i \\left(log_{10}\\left(\\frac{R_{rs}(\\lambda_{blue})}{R_{rs}(\\lambda_{green})}\\right)\\right)^i$"
   ]
  },
  {
   "cell_type": "code",
   "execution_count": null,
   "id": "38643734-3636-4bb5-8a5c-e652c2c24dbf",
   "metadata": {
    "tags": []
   },
   "outputs": [],
   "source": [
    "# NASA OC2 fro MODIS; bands 488, 547 nm\n",
    "a = [0.2500,-2.4752,1.4061,-2.8233,0.5405]\n",
    "# NASA OC2 for OCTS; bands 490, 565 nm\n",
    "a = [0.2236,-1.8296,1.9094,-2.9481,-0.1718]\n",
    "\n",
    "ratio = np.log10(Rrs_masked.isel(wl=1)/Rrs_masked.isel(wl=2))\n",
    "logchl=0\n",
    "for i in range(len(a)):\n",
    "    logchl+=a[i]*ratio**i\n",
    "chl = 10**(logchl)\n",
    "chl.name='chl in mg.m-3 from OC2'"
   ]
  },
  {
   "cell_type": "markdown",
   "id": "d0759105-1ce1-48dc-821f-a5f0fa86a79f",
   "metadata": {},
   "source": [
    "Set range of valid values"
   ]
  },
  {
   "cell_type": "code",
   "execution_count": null,
   "id": "c8b22982-0808-4f4b-9eab-f554e2d5c2d9",
   "metadata": {
    "tags": []
   },
   "outputs": [],
   "source": [
    "chl = chl.where((chl >= 0) & (chl <= 80))\n",
    "chl.persist()\n",
    "\n"
   ]
  },
  {
   "cell_type": "code",
   "execution_count": null,
   "id": "6590cdf6-552a-4b29-a53c-828954ac6f84",
   "metadata": {
    "tags": []
   },
   "outputs": [],
   "source": [
    "visual.image_viewer().param_date(chl,cmap='bgyw')"
   ]
  },
  {
   "cell_type": "code",
   "execution_count": null,
   "id": "63868209-1b65-428f-aac2-49bb1364676b",
   "metadata": {
    "tags": []
   },
   "outputs": [],
   "source": []
  },
  {
   "cell_type": "code",
   "execution_count": null,
   "id": "e522b9eb-dd9b-4013-bd8d-32621bdad31a",
   "metadata": {
    "tags": []
   },
   "outputs": [],
   "source": [
    "raster = chl\n",
    "\n",
    "shaded = []\n",
    "for name, raster in chl.groupby('time'):\n",
    "    img = tf.shade(raster.squeeze(),cmap=cc.bgyw, span=(0,10),how='log')\n",
    "    img.name = str(name)\n",
    "    shaded.append(img)\n",
    "\n",
    "imgs = tf.Images(*shaded)\n",
    "imgs.num_cols = 4\n",
    "imgs"
   ]
  },
  {
   "cell_type": "markdown",
   "id": "dcf69a64-654f-4426-ab82-e22b0cf4cd8b",
   "metadata": {},
   "source": [
    "# CDOM retrieval based on Brezonik et al, 2015\n"
   ]
  },
  {
   "cell_type": "code",
   "execution_count": null,
   "id": "97ecc081-cc39-4437-88a5-a5ce8526d218",
   "metadata": {},
   "outputs": [],
   "source": [
    "a = [1.872,-0.83]\n",
    "acdom = np.exp(a[0] + a[1] * np.log(Rrs_masked.isel(wl=1)/Rrs_masked.isel(wl=5)))\n",
    "acdom.name='CDOM absorption at 440 nm-1'\n",
    "acdom= acdom.where((acdom >= 0) & (acdom <= 10))\n",
    "acdom.persist()"
   ]
  },
  {
   "cell_type": "code",
   "execution_count": null,
   "id": "f68f5a42-6948-42b6-98d4-5693dc0366a0",
   "metadata": {},
   "outputs": [],
   "source": [
    "visual.image_viewer().param_date(acdom,cmap='bgyw')"
   ]
  },
  {
   "cell_type": "markdown",
   "id": "3be5aec8-4d6e-4d97-abdd-8a623e39d908",
   "metadata": {},
   "source": [
    "# Total suspended particulate matter (SPM) from Nechad et al., 2010, 2016 formulation\n",
    "spm in mg/L"
   ]
  },
  {
   "cell_type": "code",
   "execution_count": null,
   "id": "dd90de13-6855-44f9-98ae-434d7bfa8502",
   "metadata": {},
   "outputs": [],
   "source": [
    "a = [610.94*np.pi, 0.2324/np.pi]\n",
    "Rrs_ = Rrs_masked.isel(wl=3)\n",
    "spm = a[0] * Rrs_ / (1 - ( Rrs_/ a[1]))\n",
    "spm.name='CDOM absorption at 440 nm-1'\n",
    "spm= spm.where((spm >= 0) & (spm <= 150))\n",
    "spm.persist()"
   ]
  },
  {
   "cell_type": "code",
   "execution_count": null,
   "id": "28034374-73c6-45c9-b4c1-574960ec3761",
   "metadata": {},
   "outputs": [],
   "source": [
    "visual.image_viewer().param_date(spm,cmap='bgyw')"
   ]
  },
  {
   "cell_type": "code",
   "execution_count": null,
   "id": "57a4eaf7-2578-440e-ae90-5e03c2aeb432",
   "metadata": {
    "tags": []
   },
   "outputs": [],
   "source": [
    "\n",
    "shaded = []\n",
    "for name, raster in dc.Rrs.Rrs.isel(time=-1).groupby('wl'):\n",
    "    img = tf.shade(raster,cmap=cc.kbc)\n",
    "    img.name = '{:.2f}'.format(name)+' nm'\n",
    "    shaded.append(img)\n",
    "\n",
    "imgs = tf.Images(*shaded)\n",
    "imgs.num_cols = 5\n",
    "imgs"
   ]
  },
  {
   "cell_type": "code",
   "execution_count": null,
   "id": "459a562c-51fa-43cf-86e4-8f1242dd2a09",
   "metadata": {},
   "outputs": [],
   "source": [
    "shaded = []\n",
    "for name, raster in BRDFg.groupby('time'):\n",
    "    img = tf.shade(raster,cmap=cc.gray, span=(0,0.025),how='log')\n",
    "    img.name = str(name)\n",
    "    shaded.append(img)\n",
    "\n",
    "imgs = tf.Images(*shaded)\n",
    "imgs.num_cols = 4\n",
    "imgs"
   ]
  },
  {
   "cell_type": "markdown",
   "id": "bc9eabfe-5853-42ec-8709-a5ad7d876787",
   "metadata": {},
   "source": [
    "# Play with time series"
   ]
  },
  {
   "cell_type": "code",
   "execution_count": null,
   "id": "ce351fe6-d256-461a-aaee-834a612d760d",
   "metadata": {},
   "outputs": [],
   "source": [
    "raster = spm\n",
    "\n",
    "param = raster.name\n",
    "third_dim = 'time'\n",
    "time= raster.time.data\n",
    "Ntime = len(time)\n",
    "ds = hv.Dataset(raster.persist())\n",
    "im= ds.to(hv.Image, ['x', 'y'], dynamic=True).opts(cmap= 'RdBu_r',colorbar=True,clim=(0,100))#.hist(bin_range=(0,0.02) ) \n",
    "\n",
    "polys = hv.Polygons([])\n",
    "box_stream = hv.streams.BoxEdit(source=polys)\n",
    "dmap, dmap_std=[],[]\n",
    "\n",
    "def roi_curves(data,ds=ds):    \n",
    "    if not data or not any(len(d) for d in data.values()):\n",
    "        return hv.NdOverlay({0: hv.Curve([],'time', param)})\n",
    "\n",
    "    curves,envelope = {},{}\n",
    "    data = zip(data['x0'], data['x1'], data['y0'], data['y1'])\n",
    "    for i, (x0, x1, y0, y1) in enumerate(data):\n",
    "        selection = ds.select(x=(x0, x1), y=(y0, y1))\n",
    "        mean = selection.aggregate(third_dim, np.nanmean).data\n",
    "        print(mean)\n",
    "        #std = selection.aggregate(third_dim, np.std).data\n",
    "        time = mean[third_dim]\n",
    "\n",
    "        curves[i]= hv.Curve((time,mean[param]),'time', param) \n",
    "\n",
    "    return hv.NdOverlay(curves)\n",
    "\n",
    "\n",
    "# a bit dirty to have two similar function, but holoviews does not like mixing Curve and Spread for the same stream\n",
    "def roi_spreads(data,ds=ds):    \n",
    "    if not data or not any(len(d) for d in data.values()):\n",
    "        return hv.NdOverlay({0: hv.Curve([],'time', param)})\n",
    "\n",
    "    curves,envelope = {},{}\n",
    "    data = zip(data['x0'], data['x1'], data['y0'], data['y1'])\n",
    "    for i, (x0, x1, y0, y1) in enumerate(data):\n",
    "        selection = ds.select(x=(x0, x1), y=(y0, y1))\n",
    "        mean = selection.aggregate(third_dim, np.nanmean).data\n",
    "        std = selection.aggregate(third_dim, np.nanstd).data\n",
    "        time = mean[third_dim]\n",
    "\n",
    "        curves[i]=  hv.Spread((time,mean[param],std[param]),fill_alpha=0.3)\n",
    "\n",
    "    return hv.NdOverlay(curves)\n",
    "\n",
    "mean=hv.DynamicMap(roi_curves,streams=[box_stream])\n",
    "std =hv.DynamicMap(roi_spreads, streams=[box_stream])    \n"
   ]
  },
  {
   "cell_type": "code",
   "execution_count": null,
   "id": "e564ea4e-ddbf-4f91-9c59-737b629cd5f7",
   "metadata": {},
   "outputs": [],
   "source": [
    "# visualize and play\n",
    "graphs = ((mean*std ).relabel(param))\n",
    "layout = (im * polys +graphs    ).opts(\n",
    "    opts.Curve(width=600, framewise=True), \n",
    "    opts.Polygons(fill_alpha=0.2, color='green',line_color='black'), \n",
    "    ).cols(2)\n",
    "layout "
   ]
  },
  {
   "cell_type": "code",
   "execution_count": null,
   "id": "ddde8b98-e369-4b04-ac5d-33361240fbbe",
   "metadata": {},
   "outputs": [],
   "source": []
  }
 ],
 "metadata": {
  "kernelspec": {
   "display_name": "Python 3 (ipykernel)",
   "language": "python",
   "name": "python3"
  },
  "language_info": {
   "codemirror_mode": {
    "name": "ipython",
    "version": 3
   },
   "file_extension": ".py",
   "mimetype": "text/x-python",
   "name": "python",
   "nbconvert_exporter": "python",
   "pygments_lexer": "ipython3",
   "version": "3.9.15"
  }
 },
 "nbformat": 4,
 "nbformat_minor": 5
}
