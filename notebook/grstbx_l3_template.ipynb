{
 "cells": [
  {
   "cell_type": "markdown",
   "id": "6d9d6a8f-bfc4-401b-a209-26bcfc3a449c",
   "metadata": {},
   "source": [
    "# Explore GRS images"
   ]
  },
  {
   "cell_type": "markdown",
   "id": "77e62aa9-fd0f-44cd-bc83-9b5c03660456",
   "metadata": {},
   "source": [
    "## Load python libraries"
   ]
  },
  {
   "cell_type": "code",
   "execution_count": null,
   "id": "b8baeae6-5bc5-4243-ba7a-0c10257db2ee",
   "metadata": {
    "tags": []
   },
   "outputs": [],
   "source": [
    "\n",
    "import glob\n",
    "import os\n",
    "import numpy as np\n",
    "import pandas as pd\n",
    "import geopandas as gpd\n",
    "import xarray as xr\n",
    "import rioxarray as xrio # activate the rio accessor\n",
    "\n",
    "#import cartopy\n",
    "import cartopy.crs as ccrs\n",
    "#import cartopy.feature as cfeature\n",
    "#import locale\n",
    "#locale.setlocale(locale.LC_ALL, 'en_US.utf8')\n",
    "import matplotlib.pyplot as plt\n",
    "import matplotlib as mpl\n",
    "#mpl.use('TkAgg')\n",
    "import hvplot.xarray\n",
    "\n",
    "import holoviews as hv\n",
    "import holoviews.operation.datashader as hd\n",
    "from holoviews import opts\n",
    "\n",
    "import datashader as ds\n",
    "from datashader import transfer_functions as tf \n",
    "import colorcet as cc\n",
    "import panel as pn\n",
    "import panel.widgets as pnw\n",
    "#import ipywidgets as widgets\n",
    "\n",
    "import pyproj as ppj\n",
    "import rasterio\n",
    "from affine import Affine\n",
    "from shapely.geometry import box,Point, mapping\n",
    "from shapely.ops import transform\n",
    "\n",
    "\n",
    "import grstbx\n",
    "from grstbx import visual\n",
    "\n",
    "u = grstbx.utils\n",
    "opj = os.path.join\n",
    "hv.extension('bokeh')\n",
    "grstbx.__version__"
   ]
  },
  {
   "cell_type": "markdown",
   "id": "8c491db3-e60a-49fe-b729-b0606206d401",
   "metadata": {
    "tags": []
   },
   "source": [
    "## Set Dask local cluster"
   ]
  },
  {
   "cell_type": "code",
   "execution_count": null,
   "id": "b3bcde51-5a87-4803-9aa4-eb2939e97530",
   "metadata": {
    "tags": []
   },
   "outputs": [],
   "source": [
    "#import dask.distributed\n",
    "#cluster = dask.distributed.LocalCluster()\n",
    "#client = dask.distributed.Client(cluster)\n",
    "#cluster.dashboard_link"
   ]
  },
  {
   "cell_type": "markdown",
   "id": "f8b337f6-4f0e-4d45-befc-fb142f8a83e8",
   "metadata": {},
   "source": [
    "## Set PROJ path if necessary"
   ]
  },
  {
   "cell_type": "code",
   "execution_count": null,
   "id": "2039dd1e-7c7d-43e0-95bc-9c1100781ec9",
   "metadata": {},
   "outputs": [],
   "source": [
    "ppj.datadir.get_data_dir()\n",
    "#ppj.datadir.set_data_dir('/work/scratch/harmelt/envs/grstbx/share/proj')"
   ]
  },
  {
   "cell_type": "markdown",
   "id": "23387cde-9362-4b4e-8489-62717b47259a",
   "metadata": {},
   "source": [
    "## Set the images you want to play with"
   ]
  },
  {
   "cell_type": "code",
   "execution_count": null,
   "id": "cb277565-c488-4a7b-89b2-acdec9211221",
   "metadata": {
    "tags": []
   },
   "outputs": [],
   "source": [
    "odir ='/home/harmel/Dropbox/satellite/S2/cnes/datacube/'\n",
    "\n",
    "\n",
    "basename='31TGM_2022-01-01_2022-06-30_SHL2'\n",
    "ofile = opj(odir,basename+'.nc')\n",
    "\n",
    "# Open and load your datacube:\n",
    "# from netcdf format and interpret coordinate system\n",
    "raster = xr.open_dataset(ofile,decode_coords='all')\n",
    "dc =grstbx.l2grs()\n",
    "dc.raster=raster\n"
   ]
  },
  {
   "cell_type": "markdown",
   "id": "0bac4b55-3162-49fc-aea9-09fc0c1af2a1",
   "metadata": {},
   "source": [
    "## **Fast checking of the RGB images**"
   ]
  },
  {
   "cell_type": "code",
   "execution_count": null,
   "id": "fb006788-3d0e-4c73-9ecb-45c0446bc7b1",
   "metadata": {},
   "outputs": [],
   "source": [
    "bands=[4,2,1]\n",
    "#bands=[3,2,1]\n",
    "coarsening = 2\n",
    "brightness_factor = 5\n",
    "gamma=2\n",
    "fig = (dc.raster.Rrs.isel(wl=bands)[:,:,::coarsening, ::coarsening]**(1/gamma)*brightness_factor).plot.imshow(col='time', col_wrap=4,robust=True)\n",
    "for ax in fig.axs.flat:\n",
    "    ax.set(xticks=[], yticks=[])\n",
    "    ax.set_ylabel('')\n",
    "    ax.set_xlabel('')\n",
    "fig\n"
   ]
  },
  {
   "cell_type": "markdown",
   "id": "d350e2de-785c-4956-ace3-feaf04c4c0f6",
   "metadata": {},
   "source": [
    "## **Check spectral datacube** (i.e., Remote Sensing Reflectance, R<sub>rs</sub>, sr<sup>-1</sup>)"
   ]
  },
  {
   "cell_type": "markdown",
   "id": "d86d2783-016b-46be-b29f-542f7445948c",
   "metadata": {},
   "source": [
    "To quickly check your data visually, you can use the *visual* module of *grstbx*"
   ]
  },
  {
   "cell_type": "code",
   "execution_count": null,
   "id": "632955e0-f90b-41b4-b5cf-d2d23a927021",
   "metadata": {},
   "outputs": [],
   "source": [
    "v=visual.view_spectral(dc.raster.Rrs)"
   ]
  },
  {
   "cell_type": "code",
   "execution_count": null,
   "id": "44cc5e13-c692-43c0-8fe1-6be3c59210c0",
   "metadata": {},
   "outputs": [],
   "source": [
    "v.visu()\n"
   ]
  },
  {
   "cell_type": "markdown",
   "id": "d5e32526-70de-4eeb-a1b8-4c2e601bf088",
   "metadata": {},
   "source": [
    "## If you want to clip your raster for a specific (hand-drawn) region of interest"
   ]
  },
  {
   "cell_type": "code",
   "execution_count": null,
   "id": "91944438-727c-4093-871a-73b7cf3bbfc2",
   "metadata": {},
   "outputs": [],
   "source": [
    "v.aoi_stream.data"
   ]
  },
  {
   "cell_type": "code",
   "execution_count": null,
   "id": "4aa83759-0a98-4153-9ae8-c6c0bb10cba3",
   "metadata": {},
   "outputs": [],
   "source": [
    "v.aoi_stream.element.geom()"
   ]
  },
  {
   "cell_type": "code",
   "execution_count": null,
   "id": "3161fda4-2e78-4e81-a66e-05775e7f5b68",
   "metadata": {},
   "outputs": [],
   "source": [
    "from shapely.geometry import Polygon\n",
    "geom = v.aoi_stream.data\n",
    "ys,xs=geom['ys'][-1],geom['xs'][-1]\n",
    "polygon_geom = Polygon(zip(xs, ys))\n",
    "polygon = gpd.GeoDataFrame(index=[0], crs=3857, geometry=[polygon_geom]) \n",
    "geom_ = polygon.to_crs(3857)#Rrs_masked.rio.crs) #4326)#32631)#4326)\n",
    "geom_.to_crs(4326).bounds\n",
    "\n",
    "# if you want to subset within the box (defined from the polygon) uncomment the following lines\n",
    "#minx, miny, maxx, maxy = geom_.bounds.values[0]\n",
    "#Rrs_masked.sel(x=slice(minx, maxx), y=slice(maxy, miny))\n",
    "\n",
    "# if projected uncomment\n",
    "#geom_=geom_.to_crs(Rrs_masked.rio.crs)\n"
   ]
  },
  {
   "cell_type": "code",
   "execution_count": null,
   "id": "185e3154-aa46-48b2-b2e8-195d552f5d27",
   "metadata": {},
   "outputs": [],
   "source": [
    "Rrs_clipped = dc.raster.Rrs.rio.clip(geom_.geometry.values)"
   ]
  },
  {
   "cell_type": "markdown",
   "id": "992b5927-8fd0-49fc-a48f-1f424168dc97",
   "metadata": {},
   "source": [
    "## If you do not want to clip your raster, just copy it into the Rrs_clipped variable"
   ]
  },
  {
   "cell_type": "code",
   "execution_count": null,
   "id": "08883c9d-d987-48cc-9e02-d1271efa0926",
   "metadata": {},
   "outputs": [],
   "source": [
    "Rrs_clipped = dc.raster.Rrs"
   ]
  },
  {
   "cell_type": "markdown",
   "id": "a528c6c2-26a7-45a6-80e0-ffb3dd81d1fe",
   "metadata": {},
   "source": [
    "## Now you can check the Rrs time series"
   ]
  },
  {
   "cell_type": "code",
   "execution_count": null,
   "id": "2c2fb0d6-5b1b-44fc-9d46-e5b95c6edc89",
   "metadata": {},
   "outputs": [],
   "source": [
    "stacked = Rrs_clipped.dropna('time',thresh=0).stack(gridcell=[\"y\", \"x\"]).dropna('gridcell',thresh=0)\n"
   ]
  },
  {
   "cell_type": "code",
   "execution_count": null,
   "id": "5b762b1d-73a7-4c11-bf39-2a2baaa43b64",
   "metadata": {},
   "outputs": [],
   "source": [
    "group_coord ='wl'\n",
    "stat_coord='gridcell'\n",
    "stats = xr.Dataset({'median':stacked.groupby(group_coord).median(stat_coord)})\n",
    "stats['q25'] = stacked.groupby(group_coord).quantile(0.25,dim=stat_coord)\n",
    "stats['q75'] = stacked.groupby(group_coord).quantile(0.75,dim=stat_coord)\n",
    "stats['min'] = stacked.groupby(group_coord).min(stat_coord)\n",
    "stats['max'] = stacked.groupby(group_coord).max(stat_coord)\n",
    "stats['mean'] = stacked.groupby(group_coord).mean(stat_coord)\n",
    "stats['std'] = stacked.groupby(group_coord).std(stat_coord)\n",
    "stats['pix_num'] = stacked.count(stat_coord)"
   ]
  },
  {
   "cell_type": "code",
   "execution_count": null,
   "id": "d41a0cdf-18e4-4418-9e2c-074ca6ff76a8",
   "metadata": {},
   "outputs": [],
   "source": [
    "%matplotlib inline\n",
    "num_items = len(stats.time)\n",
    "col_wrap=4\n",
    "rows=int(np.ceil(num_items/col_wrap))\n",
    "\n",
    "fig, axs = plt.subplots(nrows=rows,ncols=col_wrap, sharex=True,sharey=True, figsize=(20, rows*3.5))#,sharey=True\n",
    "fig.subplots_adjust(hspace=0.1,wspace=0.1)\n",
    "axs_ = axs.ravel()\n",
    "[axi.set_axis_off() for axi in axs_]\n",
    "for iax,(_,group) in enumerate(stats.groupby('time')): \n",
    "    date = group.time.dt.date.values\n",
    "    \n",
    "    axs_[iax].set_axis_on()\n",
    "    axs_[iax].axhline(y=0,color='k',lw=1)\n",
    "    axs_[iax].plot(group.wl,group['median'],c='k')\n",
    "    axs_[iax].plot(group.wl,group['mean'],c='red',ls='--')\n",
    "    axs_[iax].fill_between(group.wl, group['q25'], group['q75'],alpha=0.3,color='grey')\n",
    "    axs_[iax].set_title(date)\n",
    "plt.show()"
   ]
  },
  {
   "cell_type": "markdown",
   "id": "e077158e-5a5d-4e5b-aeca-58876edf8a06",
   "metadata": {},
   "source": [
    "# Check surface rugosity via sunglint BRDF"
   ]
  },
  {
   "cell_type": "code",
   "execution_count": null,
   "id": "b78f8501-eadd-4236-a7eb-cbad50ef1426",
   "metadata": {},
   "outputs": [],
   "source": [
    "\n",
    "coarsening = 2\n",
    "fig=dc.raster.BRDFg[:,::coarsening, ::coarsening].plot(col='time', col_wrap=4,vmax=0.01,robust=True,cmap=cc.cm.gray)#,aspect=aspect)\n",
    "for ax in fig.axs.flat:\n",
    "    ax.set(xticks=[], yticks=[])\n",
    "    ax.set_ylabel('')\n",
    "    ax.set_xlabel('')\n",
    "fig"
   ]
  },
  {
   "cell_type": "markdown",
   "id": "4bedc82d-9f93-4b99-82d0-c9c7b6964753",
   "metadata": {},
   "source": [
    "# Apply L2B algorithms"
   ]
  },
  {
   "cell_type": "code",
   "execution_count": null,
   "id": "f0c0124d-8096-4b54-97cc-82c16c356fc1",
   "metadata": {},
   "outputs": [],
   "source": [
    "#simplify name of dc.raster.Rrs or Rrs_clipped\n",
    "Rrs = dc.raster.Rrs"
   ]
  },
  {
   "cell_type": "markdown",
   "id": "2e2e8cac-0963-4371-a422-3303dcc8c3f9",
   "metadata": {},
   "source": [
    "## Check blue over green ratio for Chl retrieval with OC2 from NASA\n",
    "$log_{10}(chlor\\_a) = a_0 + \\sum\\limits_{i=1}^4 a_i \\left(log_{10}\\left(\\frac{R_{rs}(\\lambda_{blue})}{R_{rs}(\\lambda_{green})}\\right)\\right)^i$"
   ]
  },
  {
   "cell_type": "code",
   "execution_count": null,
   "id": "38643734-3636-4bb5-8a5c-e652c2c24dbf",
   "metadata": {
    "tags": []
   },
   "outputs": [],
   "source": [
    "# NASA OC2 fro MODIS; bands 488, 547 nm\n",
    "a = [0.2500,-2.4752,1.4061,-2.8233,0.5405]\n",
    "# NASA OC2 for OCTS; bands 490, 565 nm\n",
    "a = [0.2236,-1.8296,1.9094,-2.9481,-0.1718]\n",
    "\n",
    "ratio = np.log10(Rrs.isel(wl=1)/Rrs.isel(wl=2))\n",
    "logchl=0\n",
    "for i in range(len(a)):\n",
    "    logchl+=a[i]*ratio**i\n",
    "chl = 10**(logchl)\n",
    "chl.name='chl in mg.m-3 from OC2'"
   ]
  },
  {
   "cell_type": "markdown",
   "id": "d0759105-1ce1-48dc-821f-a5f0fa86a79f",
   "metadata": {},
   "source": [
    "Set range of valid values"
   ]
  },
  {
   "cell_type": "code",
   "execution_count": null,
   "id": "c8b22982-0808-4f4b-9eab-f554e2d5c2d9",
   "metadata": {
    "tags": []
   },
   "outputs": [],
   "source": [
    "chl = chl.where((chl >= 0) & (chl <= 80))\n",
    "#chl.persist()\n",
    "\n"
   ]
  },
  {
   "cell_type": "code",
   "execution_count": null,
   "id": "63868209-1b65-428f-aac2-49bb1364676b",
   "metadata": {
    "tags": []
   },
   "outputs": [],
   "source": [
    "coarsening=1\n",
    "fig=chl[:,::coarsening, ::coarsening].plot(col='time', col_wrap=4,robust=True,cmap=cc.cm.CET_D13)#,aspect=aspect)\n",
    "for ax in fig.axs.flat:\n",
    "    ax.set(xticks=[], yticks=[])\n",
    "    ax.set_ylabel('')\n",
    "    ax.set_xlabel('')\n",
    "fig"
   ]
  },
  {
   "cell_type": "markdown",
   "id": "dcf69a64-654f-4426-ab82-e22b0cf4cd8b",
   "metadata": {},
   "source": [
    "# CDOM retrieval based on Brezonik et al, 2015\n"
   ]
  },
  {
   "cell_type": "code",
   "execution_count": null,
   "id": "97ecc081-cc39-4437-88a5-a5ce8526d218",
   "metadata": {},
   "outputs": [],
   "source": [
    "a = [1.872,-0.83]\n",
    "acdom = np.exp(a[0] + a[1] * np.log(Rrs.isel(wl=1)/Rrs.isel(wl=5)))\n",
    "acdom.name='CDOM absorption at 440 nm-1'\n",
    "acdom= acdom.where((acdom >= 0) & (acdom <= 10))\n",
    "#acdom.persist()"
   ]
  },
  {
   "cell_type": "code",
   "execution_count": null,
   "id": "f68f5a42-6948-42b6-98d4-5693dc0366a0",
   "metadata": {},
   "outputs": [],
   "source": [
    "fig=acdom[:,::coarsening, ::coarsening].plot(col='time', col_wrap=4,robust=True,cmap=cc.cm.CET_D13)#,aspect=aspect)\n",
    "for ax in fig.axs.flat:\n",
    "    ax.set(xticks=[], yticks=[])\n",
    "    ax.set_ylabel('')\n",
    "    ax.set_xlabel('')\n",
    "fig"
   ]
  },
  {
   "cell_type": "markdown",
   "id": "3be5aec8-4d6e-4d97-abdd-8a623e39d908",
   "metadata": {},
   "source": [
    "# Total suspended particulate matter (SPM) from Nechad et al., 2010, 2016 formulation\n",
    "spm in mg/L"
   ]
  },
  {
   "cell_type": "code",
   "execution_count": null,
   "id": "dd90de13-6855-44f9-98ae-434d7bfa8502",
   "metadata": {},
   "outputs": [],
   "source": [
    "a = [610.94*np.pi, 0.2324/np.pi]\n",
    "Rrs_ = Rrs.isel(wl=3)\n",
    "spm = a[0] * Rrs_ / (1 - ( Rrs_/ a[1]))\n",
    "spm.name='CDOM absorption at 440 nm-1'\n",
    "spm= spm.where((spm >= 0) & (spm <= 150))\n",
    "#spm.persist()"
   ]
  },
  {
   "cell_type": "code",
   "execution_count": null,
   "id": "28034374-73c6-45c9-b4c1-574960ec3761",
   "metadata": {},
   "outputs": [],
   "source": [
    "fig=spm[:,::coarsening, ::coarsening].plot(col='time', col_wrap=4,robust=True,cmap=cc.cm.bky)#,aspect=aspect)\n",
    "for ax in fig.axs.flat:\n",
    "    ax.set(xticks=[], yticks=[])\n",
    "    ax.set_ylabel('')\n",
    "    ax.set_xlabel('')\n",
    "fig\n"
   ]
  },
  {
   "cell_type": "markdown",
   "id": "bc9eabfe-5853-42ec-8709-a5ad7d876787",
   "metadata": {},
   "source": [
    "# Play with time series"
   ]
  },
  {
   "cell_type": "code",
   "execution_count": null,
   "id": "ddde8b98-e369-4b04-ac5d-33361240fbbe",
   "metadata": {},
   "outputs": [],
   "source": [
    "\n",
    "def compute_stats(xarr, stat_coord='gridcell',limits=[-np.inf,np.inf],dropna=True,time_coord='time'):\n",
    "    xarr = xarr.where((xarr>limits[0])&(xarr<limits[1]))\n",
    "    stats = xr.Dataset({'median':xarr.median(stat_coord)})\n",
    "    stats['q25'] = xarr.quantile(0.25,dim=stat_coord)\n",
    "    stats['q75'] = xarr.quantile(0.75,dim=stat_coord)\n",
    "    stats['min'] = xarr.min(stat_coord)\n",
    "    stats['max'] = xarr.max(stat_coord)\n",
    "    stats['mean'] = xarr.mean(stat_coord)\n",
    "    stats['std'] = xarr.std(stat_coord)\n",
    "    stats['pix_num'] = xarr.count(stat_coord)\n",
    "    if dropna:\n",
    "        return stats.dropna(time_coord)\n",
    "    else:\n",
    "        return stats\n"
   ]
  },
  {
   "cell_type": "code",
   "execution_count": null,
   "id": "f7f86b4b-6b8d-497f-a55f-15bc116cc983",
   "metadata": {},
   "outputs": [],
   "source": [
    "stacked = chl.stack(gridcell=[\"y\", \"x\"]).dropna('gridcell','all')\n",
    "stats = compute_stats(stacked,limits=[0.01,100])\n"
   ]
  },
  {
   "cell_type": "code",
   "execution_count": null,
   "id": "d94f2bda-52d1-4065-96f5-bf5849d47210",
   "metadata": {},
   "outputs": [],
   "source": [
    "df = stats.to_dataframe()#.reset_index()\n",
    "pn.widgets.DataFrame(df,height=300,width=1200)"
   ]
  },
  {
   "cell_type": "code",
   "execution_count": null,
   "id": "09e27247-4564-469c-97ae-cb52be7df654",
   "metadata": {},
   "outputs": [],
   "source": [
    "import pandas_bokeh\n",
    "df = stats.to_dataframe()\n",
    "df[['q25','median','q75']].plot_bokeh(ylabel=param,figsize=(1000, 500),plot_data_points=True,colormap=[\"grey\", \"black\",\"grey\"],rangetool=True)"
   ]
  },
  {
   "cell_type": "code",
   "execution_count": null,
   "id": "c94077dc-9ae8-4051-860d-be4c63ef4124",
   "metadata": {},
   "outputs": [],
   "source": []
  }
 ],
 "metadata": {
  "kernelspec": {
   "display_name": "Python 3 (ipykernel)",
   "language": "python",
   "name": "python3"
  },
  "language_info": {
   "codemirror_mode": {
    "name": "ipython",
    "version": 3
   },
   "file_extension": ".py",
   "mimetype": "text/x-python",
   "name": "python",
   "nbconvert_exporter": "python",
   "pygments_lexer": "ipython3",
   "version": "3.9.15"
  }
 },
 "nbformat": 4,
 "nbformat_minor": 5
}
