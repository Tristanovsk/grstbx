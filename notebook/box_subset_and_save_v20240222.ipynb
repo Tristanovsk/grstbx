{
 "cells": [
  {
   "cell_type": "code",
   "execution_count": null,
   "id": "27470c5f-3ec1-4cb3-808c-667fb6221560",
   "metadata": {},
   "outputs": [],
   "source": [
    "from pathlib import Path\n",
    "import os, shutil\n",
    "import zipfile\n",
    "import tarfile\n",
    "import glob\n",
    "\n",
    "import matplotlib as mpl\n",
    "import matplotlib.pyplot as plt\n",
    "\n",
    "import numpy as np\n",
    "import xarray as xr\n",
    "import pandas as pd\n",
    "import geopandas as gpd\n",
    "import logging\n",
    "\n",
    "import memory_profiler\n",
    "%load_ext memory_profiler\n",
    "import gc\n",
    "import cartopy.crs as ccrs\n",
    "\n",
    "from s2driver import driver_S2_SAFE as S2, __version__\n",
    "\n",
    "from s2cloudless import S2PixelCloudDetector, download_bands_and_valid_data_mask\n",
    "\n",
    "from grs import product\n",
    "\n",
    "import grstbx\n",
    "from grstbx import visual\n",
    "ust = grstbx.utils.spatiotemp()\n",
    "opj = os.path.join\n",
    "__version__"
   ]
  },
  {
   "cell_type": "code",
   "execution_count": null,
   "id": "f3414836-bd32-4c95-8735-1ede3f0fd988",
   "metadata": {},
   "outputs": [],
   "source": [
    "bandIds = range(13)\n",
    "resolution = 20\n",
    "datadir = '/data/satellite/Sentinel-2/L1C/'\n",
    "odir = '/data/satellite/Sentinel-2/projet/robert/L1C'\n",
    "tile = '30PYT'\n",
    "clon,clat = -0.66,11.6\n",
    "width, height = 35000, 35000\n",
    "complevel=5"
   ]
  },
  {
   "cell_type": "code",
   "execution_count": null,
   "id": "90a4e5a1-2423-47c3-8ff5-0c13c2a3d1ac",
   "metadata": {},
   "outputs": [],
   "source": [
    "year='2021'\n",
    "files = glob.glob(opj(datadir,tile,year,'*','*','*N05*SAFE'))"
   ]
  },
  {
   "cell_type": "code",
   "execution_count": null,
   "id": "772a8ff3-c31c-4c65-9aa7-0f0395d5d552",
   "metadata": {},
   "outputs": [],
   "source": [
    "ust = grstbx.utils.spatiotemp()\n",
    "\n",
    "for file in files:\n",
    "\n",
    "    box = ust.wktbox(clon, clat, width=width, height=height, ellps='WGS84')\n",
    "    bbox = gpd.GeoSeries.from_wkt([box]).set_crs(epsg=4326)\n",
    "    subset = bbox\n",
    "    \n",
    "   \n",
    "    file_nc = os.path.basename(file).replace('.SAFE', '.nc')\n",
    "    file_nc = opj(odir,year,file_nc)\n",
    "    odir_ = os.path.dirname(file_nc)\n",
    "    \n",
    "    if not os.path.exists(file_nc):\n",
    "        print(file_nc)\n",
    "    #if True:\n",
    "        l1c= S2.sentinel2_driver(file, band_idx=bandIds,subset=subset, resolution_angle=60,resolution=resolution)\n",
    "        l1c.load_product()\n",
    "        prod = product(l1c.prod)\n",
    "        encoding = {'bands': {'dtype': 'int16', 'scale_factor': 0.000022, 'add_offset': .3, '_FillValue': -32768,\"zlib\": True,\n",
    "                                           \"complevel\": complevel, 'grid_mapping': 'spatial_ref'},\n",
    "                    'vza': {'dtype': 'int16', 'scale_factor': 0.01, '_FillValue': -9999,\"zlib\": True,\n",
    "                                           \"complevel\": complevel, 'grid_mapping': 'spatial_ref'},\n",
    "                    'raa': {'dtype': 'int16', 'scale_factor': 0.1, '_FillValue': -9999,\"zlib\": True,\n",
    "                                           \"complevel\": complevel, 'grid_mapping': 'spatial_ref'},\n",
    "                    'sza': {'dtype': 'int16', 'scale_factor': 0.01, '_FillValue': -9999,\"zlib\": True,\n",
    "                                           \"complevel\": complevel, 'grid_mapping': 'spatial_ref'}\n",
    "                    }\n",
    "        \n",
    "        # apply cloud mask\n",
    "        bands = np.array([l1c.prod.bands.values.transpose((1,2,0))])\n",
    "        \n",
    "        cloud_detector = S2PixelCloudDetector(threshold=0.6, average_over=1, dilation_size=8, all_bands=True)\n",
    "        probability_maps = cloud_detector.get_cloud_probability_maps(bands)\n",
    "        cloud_mask = cloud_detector.get_mask_from_prob(probability_maps)\n",
    "        l1c.prod['cloud_p06'] = (('y','x'),cloud_mask[0])\n",
    "        cloud_detector = S2PixelCloudDetector(threshold=0.8, average_over=1, dilation_size=5, all_bands=True)\n",
    "        cloud_mask = cloud_detector.get_mask_from_prob(probability_maps)\n",
    "        l1c.prod['cloud_p08'] = (('y','x'),cloud_mask[0])\n",
    "        encoding['cloud_p06']={\"zlib\": True, \"complevel\": complevel, 'grid_mapping': 'spatial_ref'}\n",
    "        encoding['cloud_p08']={\"zlib\": True, \"complevel\": complevel, 'grid_mapping': 'spatial_ref'}\n",
    "        \n",
    "        if not os.path.exists(odir_):\n",
    "            os.makedirs(odir_)\n",
    "        l1c.prod.to_netcdf(file_nc, encoding=encoding)\n",
    "        l1c.prod.close()\n",
    "        del l1c\n",
    "        gc.collect()"
   ]
  },
  {
   "cell_type": "code",
   "execution_count": null,
   "id": "e7ec44f1-f6b0-4e98-a214-98a2bb997fbd",
   "metadata": {},
   "outputs": [],
   "source": [
    "\n",
    "\n",
    "file = '/data/satellite/Sentinel-2/L1C/30PYT/2021/05/11/S2B_MSIL1C_20210511T101559_N0500_R065_T30PYT_20230207T184732.SAFE'\n",
    "\n",
    "box = ust.wktbox(clon, clat, width=width, height=height, ellps='WGS84')\n",
    "bbox = gpd.GeoSeries.from_wkt([box]).set_crs(epsg=4326)\n",
    "subset = bbox\n",
    "\n",
    "\n",
    "file_nc = os.path.basename(file).replace('.SAFE', '.nc')\n",
    "file_nc = opj(odir,year,file_nc)\n",
    "odir_ = os.path.dirname(file_nc)\n",
    "\n",
    "\n",
    "l1c= S2.sentinel2_driver(file, band_idx=bandIds,subset=subset, resolution_angle=60,resolution=10)\n",
    "l1c.load_product()\n",
    "prod = product(l1c.prod)\n",
    "encoding = {'bands': {'dtype': 'int16', 'scale_factor': 0.000022, 'add_offset': .3, '_FillValue': -32768,\"zlib\": True,\n",
    "                                   \"complevel\": complevel, 'grid_mapping': 'spatial_ref'},\n",
    "            'vza': {'dtype': 'int16', 'scale_factor': 0.01, '_FillValue': -9999,\"zlib\": True,\n",
    "                                   \"complevel\": complevel, 'grid_mapping': 'spatial_ref'},\n",
    "            'raa': {'dtype': 'int16', 'scale_factor': 0.1, '_FillValue': -9999,\"zlib\": True,\n",
    "                                   \"complevel\": complevel, 'grid_mapping': 'spatial_ref'},\n",
    "            'sza': {'dtype': 'int16', 'scale_factor': 0.01, '_FillValue': -9999,\"zlib\": True,\n",
    "                                   \"complevel\": complevel, 'grid_mapping': 'spatial_ref'}\n",
    "            }"
   ]
  },
  {
   "cell_type": "code",
   "execution_count": null,
   "id": "c701da90-9edf-4c23-bdd7-d3cfa3108344",
   "metadata": {},
   "outputs": [],
   "source": [
    "# apply cloud mask\n",
    "bands = np.array([l1c.prod.bands.values.transpose((1,2,0))])\n",
    "\n",
    "cloud_detector = S2PixelCloudDetector(threshold=0.6, average_over=1, dilation_size=8, all_bands=True)\n",
    "probability_maps = cloud_detector.get_cloud_probability_maps(bands)\n",
    "cloud_mask = cloud_detector.get_mask_from_prob(probability_maps)\n",
    "l1c.prod['cloud_p06'] = (('y','x'),cloud_mask[0])\n",
    "cloud_detector = S2PixelCloudDetector(threshold=0.8, average_over=1, dilation_size=5, all_bands=True)\n",
    "cloud_mask = cloud_detector.get_mask_from_prob(probability_maps)\n",
    "l1c.prod['cloud_p08'] = (('y','x'),cloud_mask[0])\n",
    "encoding['cloud_p06']={\"zlib\": True, \"complevel\": complevel, 'grid_mapping': 'spatial_ref'}\n",
    "encoding['cloud_p08']={\"zlib\": True, \"complevel\": complevel, 'grid_mapping': 'spatial_ref'}\n",
    "\n",
    "\n",
    "if not os.path.exists(odir_):\n",
    "    os.makedirs(odir_)\n",
    "l1c.prod.to_netcdf(file_nc, encoding=encoding)\n",
    "#l1c.prod.close()\n",
    "#del l1c\n",
    "#gc.collect()"
   ]
  },
  {
   "cell_type": "code",
   "execution_count": null,
   "id": "ac5cd9f0-1e69-4531-b473-8fbfd5dd606c",
   "metadata": {},
   "outputs": [],
   "source": [
    "\n",
    "prod = product(l1c.prod)"
   ]
  },
  {
   "cell_type": "code",
   "execution_count": null,
   "id": "44ce2b20-b727-4209-b717-96fbac08b834",
   "metadata": {},
   "outputs": [],
   "source": [
    "v=visual.view_spectral(prod.raster.bands,reproject=True)\n",
    "v.title=\"## S2 L1C\"\n",
    "v.minmaxvalues=(0,0.3)\n",
    "v.minmax=[0,0.5]\n",
    "v.visu()"
   ]
  },
  {
   "cell_type": "code",
   "execution_count": null,
   "id": "c41ae1b2-743d-4637-88ba-cd2d7ba28168",
   "metadata": {},
   "outputs": [],
   "source": [
    "geom_ = v.get_geom(v.aoi_stream,crs=prod.raster.rio.crs)"
   ]
  },
  {
   "cell_type": "code",
   "execution_count": null,
   "id": "9d76753d-4bd7-4489-908c-f8a28aa43da8",
   "metadata": {},
   "outputs": [],
   "source": [
    "\n",
    "import cartopy.crs as ccrs\n",
    "str_epsg = str(l1c.prod.rio.crs)\n",
    "zone = str_epsg[-2:]\n",
    "is_south = str_epsg[2] == 7\n",
    "proj = ccrs.UTM(zone, is_south)\n",
    "plt.figure(figsize=(25,25))\n",
    "l1c.prod.bands.sel(wl=[665,560,490]).plot.imshow(rgb='wl', robust=True,subplot_kws=dict(projection=proj))"
   ]
  },
  {
   "cell_type": "code",
   "execution_count": null,
   "id": "4db958b3-8f73-4ffa-9154-81a6264cac22",
   "metadata": {},
   "outputs": [],
   "source": []
  }
 ],
 "metadata": {
  "kernelspec": {
   "display_name": "Python 3 (ipykernel)",
   "language": "python",
   "name": "python3"
  },
  "language_info": {
   "codemirror_mode": {
    "name": "ipython",
    "version": 3
   },
   "file_extension": ".py",
   "mimetype": "text/x-python",
   "name": "python",
   "nbconvert_exporter": "python",
   "pygments_lexer": "ipython3",
   "version": "3.9.15"
  }
 },
 "nbformat": 4,
 "nbformat_minor": 5
}
