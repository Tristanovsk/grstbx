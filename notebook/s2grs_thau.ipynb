{
 "cells": [
  {
   "cell_type": "markdown",
   "id": "6d9d6a8f-bfc4-401b-a209-26bcfc3a449c",
   "metadata": {},
   "source": [
    "# Explore GRS images"
   ]
  },
  {
   "cell_type": "markdown",
   "id": "77e62aa9-fd0f-44cd-bc83-9b5c03660456",
   "metadata": {},
   "source": [
    "## Load python libraries"
   ]
  },
  {
   "cell_type": "code",
   "execution_count": null,
   "id": "b8baeae6-5bc5-4243-ba7a-0c10257db2ee",
   "metadata": {
    "tags": []
   },
   "outputs": [],
   "source": [
    "\n",
    "import glob\n",
    "import os\n",
    "import numpy as np\n",
    "import pandas as pd\n",
    "import geopandas as gpd\n",
    "import xarray as xr\n",
    "import rioxarray  # activate the rio accessor\n",
    "\n",
    "#import cartopy\n",
    "import cartopy.crs as ccrs\n",
    "#import cartopy.feature as cfeature\n",
    "#import locale\n",
    "#locale.setlocale(locale.LC_ALL, 'en_US.utf8')\n",
    "import matplotlib.pyplot as plt\n",
    "import matplotlib as mpl\n",
    "#mpl.use('TkAgg')\n",
    "import hvplot.xarray\n",
    "\n",
    "import holoviews as hv\n",
    "import holoviews.operation.datashader as hd\n",
    "from holoviews import opts\n",
    "hv.extension('bokeh')\n",
    "import datashader as ds\n",
    "from datashader import transfer_functions as tf \n",
    "import colorcet as cc\n",
    "import panel as pn\n",
    "import panel.widgets as pnw\n",
    "#import ipywidgets as widgets\n",
    "\n",
    "import pyproj as ppj\n",
    "import rasterio\n",
    "from affine import Affine\n",
    "from shapely.geometry import box,Point, mapping\n",
    "from shapely.ops import transform\n",
    "\n",
    "\n",
    "import grstbx\n",
    "from grstbx import visual\n",
    "\n",
    "u = grstbx.utils\n",
    "opj = os.path.join\n"
   ]
  },
  {
   "cell_type": "markdown",
   "id": "8c491db3-e60a-49fe-b729-b0606206d401",
   "metadata": {},
   "source": [
    "## Set Dask local cluster"
   ]
  },
  {
   "cell_type": "code",
   "execution_count": null,
   "id": "b3bcde51-5a87-4803-9aa4-eb2939e97530",
   "metadata": {
    "tags": []
   },
   "outputs": [],
   "source": [
    "import dask.distributed\n",
    "cluster = dask.distributed.LocalCluster()\n",
    "client = dask.distributed.Client(cluster)\n",
    "client"
   ]
  },
  {
   "cell_type": "markdown",
   "id": "23387cde-9362-4b4e-8489-62717b47259a",
   "metadata": {},
   "source": [
    "## Set images to play with"
   ]
  },
  {
   "cell_type": "code",
   "execution_count": null,
   "id": "cb277565-c488-4a7b-89b2-acdec9211221",
   "metadata": {
    "tags": []
   },
   "outputs": [],
   "source": [
    "\n",
    "tile='31TEJ'\n",
    "select =grstbx.select_files()\n",
    "# if you need to change the root path\n",
    "select.root='/home/harmel/Dropbox/satellite/S2'\n",
    "\n",
    "select.list_tile(tile=tile,product='cnes')\n",
    "files = select.list_file_path(('2022-01','2022-04-15'))"
   ]
  },
  {
   "cell_type": "markdown",
   "id": "9ec9d0b1-752d-43bb-936d-9d08b2786414",
   "metadata": {},
   "source": [
    "## Check Bathymetry "
   ]
  },
  {
   "cell_type": "code",
   "execution_count": null,
   "id": "b37592cf-2455-4f94-acfc-8982fc3443ab",
   "metadata": {
    "tags": []
   },
   "outputs": [],
   "source": [
    "from matplotlib_scalebar.scalebar import ScaleBar\n",
    "bathyfile='/DATA/projet/magellium/malaigue/data/Bathymetrie_Region_LR_juillet-sept2009/isolignes_thau_20100625.shp'\n",
    "bathy = gpd.read_file(bathyfile)\n",
    "bathy =bathy.to_crs(3857) \n",
    "\n",
    "bathy.plot('CONTOUR',cmap=plt.cm.Spectral_r,vmin=-9,figsize=(10,10))"
   ]
  },
  {
   "cell_type": "markdown",
   "id": "c329b52b-3878-441c-a109-fd436dd5f831",
   "metadata": {},
   "source": [
    "## Load and subset image series"
   ]
  },
  {
   "cell_type": "code",
   "execution_count": null,
   "id": "9a65759f-4d55-44bb-8388-b4f8c8040699",
   "metadata": {
    "tags": []
   },
   "outputs": [],
   "source": [
    "bathy.explore(cmap=plt.cm.Spectral_r,height=500,width=600)\n"
   ]
  },
  {
   "cell_type": "code",
   "execution_count": null,
   "id": "42226f02-cfaf-435b-ab57-c5026e37b33a",
   "metadata": {
    "tags": []
   },
   "outputs": [],
   "source": [
    "# central coordinate\n",
    "lon, lat = 3.61, 43.4\n",
    "# size in meter of the rectangle of interest\n",
    "width, height = 10000, 10000\n",
    "\n",
    "ust = grstbx.utils.spatiotemp()\n",
    "box = ust.wktbox(lon,lat, width=width, height=height, ellps='WGS84')\n",
    "bbox = gpd.GeoSeries.from_wkt([box]).set_crs(epsg=4326)\n",
    "# reproject lon lat in xy coordinates\n",
    "bbox = bbox.to_crs(epsg=32631)\n",
    "\n",
    "# generate datacube\n",
    "dc = grstbx.l2grs(files)\n",
    "dc.load(subset=bbox)"
   ]
  },
  {
   "cell_type": "markdown",
   "id": "ae12cd7d-e2f2-4643-9c57-950fe66c6e52",
   "metadata": {},
   "source": [
    "## Check geographic bounds"
   ]
  },
  {
   "cell_type": "code",
   "execution_count": null,
   "id": "a1eec5c7-5eac-40d7-ac60-740aec24bff1",
   "metadata": {
    "tags": []
   },
   "outputs": [],
   "source": [
    " dc.bbox.to_crs(4326).bounds"
   ]
  },
  {
   "cell_type": "markdown",
   "id": "edeb6247-91dd-4347-935e-f385b411b29f",
   "metadata": {
    "tags": []
   },
   "source": [
    "## Check data/metadata"
   ]
  },
  {
   "cell_type": "code",
   "execution_count": null,
   "id": "93d2d86b-f5d6-44b8-b683-5c0cafce6f61",
   "metadata": {},
   "outputs": [],
   "source": [
    "dc.datacube"
   ]
  },
  {
   "cell_type": "markdown",
   "id": "24cd3073-687e-49a3-984a-d0af3d47b895",
   "metadata": {
    "tags": []
   },
   "source": [
    "## Check flags and masking"
   ]
  },
  {
   "cell_type": "code",
   "execution_count": null,
   "id": "64621866-e0e9-4df5-a122-5eb81a2a06f6",
   "metadata": {
    "tags": []
   },
   "outputs": [],
   "source": [
    "pn.widgets.DataFrame(pd.DataFrame.from_dict(dc.datacube.metadata.attrs,orient='index'),height=300)\n"
   ]
  },
  {
   "cell_type": "markdown",
   "id": "bfb52e15-c21e-4a16-837a-8cb658381492",
   "metadata": {
    "tags": []
   },
   "source": [
    "## Check flags and masking"
   ]
  },
  {
   "cell_type": "code",
   "execution_count": null,
   "id": "d46ab02e-c71d-4a24-b54a-0e1f24271459",
   "metadata": {
    "tags": []
   },
   "outputs": [],
   "source": [
    "masking_ = grstbx.masking(dc.datacube)\n",
    "masking_.print_info()"
   ]
  },
  {
   "cell_type": "code",
   "execution_count": null,
   "id": "407db889-6749-4472-890a-91b1245702b1",
   "metadata": {
    "tags": []
   },
   "outputs": [],
   "source": [
    "mask = (masking_.get_mask(high_nir=True) | masking_.get_mask(hicld=True)) \n",
    "aspect=1.5\n",
    "mask.plot.imshow(col='time',col_wrap=5,vmin=0,cmap=plt.cm.binary_r,aspect=aspect)"
   ]
  },
  {
   "cell_type": "markdown",
   "id": "0ad4be78-3f95-49ad-a93e-6595050e26f5",
   "metadata": {},
   "source": [
    "## Mask datacube\n",
    "Mask pixels from chosen flags and remove empty dates"
   ]
  },
  {
   "cell_type": "code",
   "execution_count": null,
   "id": "d41fbd79-fc99-49c1-b521-719e85e7af5c",
   "metadata": {
    "tags": []
   },
   "outputs": [],
   "source": [
    "Rrs_masked = dc.Rrs.Rrs.where(mask==0).dropna('time','all')\n",
    "BRDFg = dc.datacube.BRDFg.where(mask==0).dropna('time','all')\n",
    "BRDFg = BRDFg.where(masking_.get_mask(ndwi=False),drop=True)"
   ]
  },
  {
   "cell_type": "code",
   "execution_count": null,
   "id": "d4d9377c-0240-4b36-8d4c-23b97484b2fc",
   "metadata": {
    "tags": []
   },
   "outputs": [],
   "source": [
    "Rrs_masked"
   ]
  },
  {
   "cell_type": "code",
   "execution_count": null,
   "id": "d6f0fd43-0c2b-442b-b5ea-047064dd062c",
   "metadata": {
    "tags": []
   },
   "outputs": [],
   "source": [
    "Rrs_masked.isel(wl=2).plot(col='time',col_wrap=5,vmin=0,vmax=0.03, robust=True,cmap=plt.cm.Spectral_r,aspect=1.7)"
   ]
  },
  {
   "cell_type": "markdown",
   "id": "d350e2de-785c-4956-ace3-feaf04c4c0f6",
   "metadata": {},
   "source": [
    "## **Check spectral datacube** (i.e., Remote Sensing Reflectance, R<sub>rs</sub>, sr<sup>-1</sup>)"
   ]
  },
  {
   "cell_type": "markdown",
   "id": "d86d2783-016b-46be-b29f-542f7445948c",
   "metadata": {},
   "source": [
    "To quickly check your data visually, you can use the *visual* module of *grstbx*"
   ]
  },
  {
   "cell_type": "code",
   "execution_count": null,
   "id": "e3710741-a013-4673-b63b-9c49f8934252",
   "metadata": {
    "tags": []
   },
   "outputs": [],
   "source": [
    "visual.image_viewer().Rrs_date(Rrs_masked)"
   ]
  },
  {
   "cell_type": "markdown",
   "id": "c4408e3c-e3d1-49e3-b136-3cc18f5ab348",
   "metadata": {
    "tags": []
   },
   "source": [
    "## **Fast checking of the RGB images**"
   ]
  },
  {
   "cell_type": "code",
   "execution_count": null,
   "id": "2cad587a-c066-4b0c-9d76-6167f0f703de",
   "metadata": {
    "tags": []
   },
   "outputs": [],
   "source": [
    "bands=[4,2,1]\n",
    "bands=[3,2,1]\n",
    "Rrs_masked.isel(wl=bands).plot.imshow(col='time', col_wrap=4,robust=True,aspect=aspect)\n"
   ]
  },
  {
   "cell_type": "code",
   "execution_count": null,
   "id": "00881453-a93d-4a0e-8c43-e5b7f69e3f4b",
   "metadata": {},
   "outputs": [],
   "source": []
  },
  {
   "cell_type": "code",
   "execution_count": null,
   "id": "f2150601-867c-4500-a161-596cb43f85b3",
   "metadata": {
    "tags": []
   },
   "outputs": [],
   "source": [
    "import datashader as ds\n",
    "from datashader import transfer_functions as tf \n",
    "from colorcet import palette\n",
    "\n",
    "\n",
    "shaded = []\n",
    "for name, raster in Rrs_masked.isel(wl=2).groupby('time'):\n",
    "    img = tf.shade(raster.squeeze(),cmap=cc.kbc)\n",
    "    img.name = str(name)\n",
    "    shaded.append(img)\n",
    "\n",
    "imgs = tf.Images(*shaded)\n",
    "imgs.num_cols = 3\n",
    "imgs"
   ]
  },
  {
   "cell_type": "code",
   "execution_count": null,
   "id": "737fcd5e-5515-44c9-8ff7-d4561d026d1d",
   "metadata": {
    "tags": []
   },
   "outputs": [],
   "source": []
  },
  {
   "cell_type": "code",
   "execution_count": null,
   "id": "9ecdc668-122d-4755-a42b-9fe023f32f30",
   "metadata": {
    "tags": []
   },
   "outputs": [],
   "source": []
  },
  {
   "cell_type": "code",
   "execution_count": null,
   "id": "6601e7b8-778b-4918-9b33-a2d9b55ac5d8",
   "metadata": {},
   "outputs": [],
   "source": [
    "# set the parameter for spectra extraction\n",
    "hv.extension('bokeh')\n",
    "pn.extension()\n",
    "\n",
    "raster = Rrs_masked#.isel(time=-1,drop=True)\n",
    "ds = hv.Dataset(raster.persist())\n",
    "im= ds.to(hv.Image, ['x', 'y'], dynamic=True).opts(cmap= 'RdBu_r',colorbar=True)#.hist(bin_range=(0,0.02) ) \n",
    "widget = pn.widgets.RangeSlider(start=0, end=0.1,step=0.001)\n",
    "\n",
    "jscode = \"\"\"\n",
    "    color_mapper.low = cb_obj.value[0];\n",
    "    color_mapper.high = cb_obj.value[1];\n",
    "\"\"\"\n",
    "link = widget.jslink(im, code={'value': jscode})\n",
    "pn.Column(widget, im)"
   ]
  },
  {
   "cell_type": "code",
   "execution_count": null,
   "id": "a33ffa02-5ffa-473c-b732-5bd8b55c5270",
   "metadata": {},
   "outputs": [],
   "source": [
    "\n",
    "param = 'Rrs'\n",
    "third_dim = 'wl'\n",
    "raster = Rrs_masked.isel(time=-1,drop=True)\n",
    "wl= raster.wl.data\n",
    "Nwl = len(wl)\n",
    "ds = hv.Dataset(raster.persist())\n",
    "im= ds.to(hv.Image, ['x', 'y'], dynamic=True).opts(cmap= 'RdBu_r',colorbar=True,clim=(0,None)).hist(bin_range=(0,0.02) ) \n",
    "\n",
    "polys = hv.Polygons([])\n",
    "box_stream = hv.streams.BoxEdit(source=polys)\n",
    "dmap, dmap_std=[],[]\n",
    "\n",
    "def roi_curves(data,ds=ds):    \n",
    "    if not data or not any(len(d) for d in data.values()):\n",
    "        return hv.NdOverlay({0: hv.Curve([],'Wavelength (nm)', 'Rrs')})\n",
    "\n",
    "    curves,envelope = {},{}\n",
    "    data = zip(data['x0'], data['x1'], data['y0'], data['y1'])\n",
    "    for i, (x0, x1, y0, y1) in enumerate(data):\n",
    "        selection = ds.select(x=(x0, x1), y=(y0, y1))\n",
    "        mean = selection.aggregate(third_dim, np.mean).data\n",
    "        std = selection.aggregate(third_dim, np.std).data\n",
    "        wl = mean.wl\n",
    "\n",
    "        curves[i]= hv.Curve((wl,mean[param]),'Wavelength (nm)', 'Rrs') \n",
    "\n",
    "    return hv.NdOverlay(curves)\n",
    "\n",
    "\n",
    "# a bit dirty to have two similar function, but holoviews does not like mixing Curve and Spread for the same stream\n",
    "def roi_spreads(data,ds=ds):    \n",
    "    if not data or not any(len(d) for d in data.values()):\n",
    "        return hv.NdOverlay({0: hv.Curve([],'Wavelength (nm)', 'Rrs')})\n",
    "\n",
    "    curves,envelope = {},{}\n",
    "    data = zip(data['x0'], data['x1'], data['y0'], data['y1'])\n",
    "    for i, (x0, x1, y0, y1) in enumerate(data):\n",
    "        selection = ds.select(x=(x0, x1), y=(y0, y1))\n",
    "        mean = selection.aggregate(third_dim, np.mean).data\n",
    "        std = selection.aggregate(third_dim, np.std).data\n",
    "        wl = mean.wl\n",
    "\n",
    "        curves[i]=  hv.Spread((wl,mean[param],std[param]),fill_alpha=0.3)\n",
    "\n",
    "    return hv.NdOverlay(curves)\n",
    "\n",
    "mean=hv.DynamicMap(roi_curves,streams=[box_stream])\n",
    "std =hv.DynamicMap(roi_spreads, streams=[box_stream])    \n",
    "hlines = hv.HoloMap({wl[i]: hv.VLine(wl[i]) for i in range(Nwl)},third_dim )\n"
   ]
  },
  {
   "cell_type": "code",
   "execution_count": null,
   "id": "0270c0e3-8f5b-4ab1-ac4c-c471bae1a2b2",
   "metadata": {},
   "outputs": [],
   "source": [
    "from holoviews import opts\n",
    "\n",
    "opts.defaults(\n",
    "    opts.GridSpace(shared_xaxis=True, shared_yaxis=True),\n",
    "    opts.Image(cmap='binary_r', width=800, height=700),\n",
    "    opts.Labels(text_color='white', text_font_size='8pt', text_align='left', text_baseline='bottom'),\n",
    "    opts.Path(color='white'),\n",
    "    opts.Spread(width=900),\n",
    "    opts.Overlay(show_legend=True))\n",
    "# visualize and play\n",
    "graphs = ((mean* std *hlines).relabel('Rrs'))\n",
    "layout = (im * polys +graphs    ).opts(\n",
    "    opts.Curve(width=600, framewise=True,xlim=(400,1000)), \n",
    "    opts.Polygons(fill_alpha=0.2, color='green',line_color='black'), \n",
    "    opts.VLine(color='black')).cols(2)\n",
    "layout "
   ]
  },
  {
   "cell_type": "markdown",
   "id": "e077158e-5a5d-4e5b-aeca-58876edf8a06",
   "metadata": {},
   "source": [
    "# Check surface rugosity via sunglint BRDF"
   ]
  },
  {
   "cell_type": "code",
   "execution_count": null,
   "id": "b78f8501-eadd-4236-a7eb-cbad50ef1426",
   "metadata": {},
   "outputs": [],
   "source": [
    "\n",
    "raster = BRDFg#.isel(time=-1,drop=True)\n",
    "ds = hv.Dataset(raster.persist())\n",
    "im= ds.to(hv.Image, ['x', 'y'], dynamic=True).opts(cmap= 'gray',colorbar=True)#.hist(bin_range=(0,0.02) ) \n",
    "widget = pn.widgets.RangeSlider(start=0, end=0.01,step=0.001)\n",
    "\n",
    "jscode = \"\"\"\n",
    "    color_mapper.low = cb_obj.value[0];\n",
    "    color_mapper.high = cb_obj.value[1];\n",
    "\"\"\"\n",
    "link = widget.jslink(im, code={'value': jscode})\n",
    "pn.Column(widget, im)"
   ]
  },
  {
   "cell_type": "markdown",
   "id": "2e2e8cac-0963-4371-a422-3303dcc8c3f9",
   "metadata": {},
   "source": [
    "## Check blue over green ratio for Chl retrieval with OC2 from NASA\n",
    "$log_{10}(chlor\\_a) = a_0 + \\sum\\limits_{i=1}^4 a_i \\left(log_{10}\\left(\\frac{R_{rs}(\\lambda_{blue})}{R_{rs}(\\lambda_{green})}\\right)\\right)^i$"
   ]
  },
  {
   "cell_type": "code",
   "execution_count": null,
   "id": "38643734-3636-4bb5-8a5c-e652c2c24dbf",
   "metadata": {
    "tags": []
   },
   "outputs": [],
   "source": [
    "# NASA OC2 fro MODIS; bands 488, 547 nm\n",
    "a = [0.2500,-2.4752,1.4061,-2.8233,0.5405]\n",
    "# NASA OC2 for OCTS; bands 490, 565 nm\n",
    "a = [0.2236,-1.8296,1.9094,-2.9481,-0.1718]\n",
    "\n",
    "ratio = np.log10(Rrs_masked.isel(wl=1)/Rrs_masked.isel(wl=2))\n",
    "logchl=0\n",
    "for i in range(len(a)):\n",
    "    logchl+=a[i]*ratio**i\n",
    "chl = 10**(logchl)\n",
    "chl.name='chl in mg.m-3 from OC2'"
   ]
  },
  {
   "cell_type": "markdown",
   "id": "d0759105-1ce1-48dc-821f-a5f0fa86a79f",
   "metadata": {},
   "source": [
    "Set range of valid values"
   ]
  },
  {
   "cell_type": "code",
   "execution_count": null,
   "id": "c8b22982-0808-4f4b-9eab-f554e2d5c2d9",
   "metadata": {
    "tags": []
   },
   "outputs": [],
   "source": [
    "chl = chl.where((chl >= 0) & (chl <= 80))\n",
    "chl.persist()\n",
    "\n"
   ]
  },
  {
   "cell_type": "code",
   "execution_count": null,
   "id": "6590cdf6-552a-4b29-a53c-828954ac6f84",
   "metadata": {
    "tags": []
   },
   "outputs": [],
   "source": [
    "visual.image_viewer().param_date(chl,cmap='bgyw')"
   ]
  },
  {
   "cell_type": "code",
   "execution_count": null,
   "id": "63868209-1b65-428f-aac2-49bb1364676b",
   "metadata": {
    "tags": []
   },
   "outputs": [],
   "source": []
  },
  {
   "cell_type": "code",
   "execution_count": null,
   "id": "e522b9eb-dd9b-4013-bd8d-32621bdad31a",
   "metadata": {
    "tags": []
   },
   "outputs": [],
   "source": [
    "raster = chl\n",
    "\n",
    "shaded = []\n",
    "for name, raster in chl.groupby('time'):\n",
    "    img = tf.shade(raster.squeeze(),cmap=cc.bgyw, span=(0,10),how='log')\n",
    "    img.name = str(name)\n",
    "    shaded.append(img)\n",
    "\n",
    "imgs = tf.Images(*shaded)\n",
    "imgs.num_cols = 4\n",
    "imgs"
   ]
  },
  {
   "cell_type": "code",
   "execution_count": null,
   "id": "57a4eaf7-2578-440e-ae90-5e03c2aeb432",
   "metadata": {
    "tags": []
   },
   "outputs": [],
   "source": [
    "\n",
    "shaded = []\n",
    "for name, raster in dc.Rrs.Rrs.isel(time=-1).groupby('wl'):\n",
    "    img = tf.shade(raster,cmap=cc.kbc)\n",
    "    img.name = '{:.2f}'.format(name)+' nm'\n",
    "    shaded.append(img)\n",
    "\n",
    "imgs = tf.Images(*shaded)\n",
    "imgs.num_cols = 3\n",
    "imgs"
   ]
  },
  {
   "cell_type": "code",
   "execution_count": null,
   "id": "459a562c-51fa-43cf-86e4-8f1242dd2a09",
   "metadata": {},
   "outputs": [],
   "source": [
    "shaded = []\n",
    "for name, raster in BRDFg.groupby('time'):\n",
    "    img = tf.shade(raster,cmap=cc.gray, span=(0,0.025),how='log')\n",
    "    img.name = str(name)\n",
    "    shaded.append(img)\n",
    "\n",
    "imgs = tf.Images(*shaded)\n",
    "imgs.num_cols = 4\n",
    "imgs"
   ]
  },
  {
   "cell_type": "markdown",
   "id": "bc9eabfe-5853-42ec-8709-a5ad7d876787",
   "metadata": {},
   "source": [
    "# Play with time series"
   ]
  },
  {
   "cell_type": "code",
   "execution_count": null,
   "id": "ce351fe6-d256-461a-aaee-834a612d760d",
   "metadata": {},
   "outputs": [],
   "source": [
    "\n",
    "param = 'chl in mg.m-3 from OC2'\n",
    "third_dim = 'time'\n",
    "raster = chl\n",
    "time= raster.time.data\n",
    "Ntime = len(time)\n",
    "ds = hv.Dataset(raster.persist())\n",
    "im= ds.to(hv.Image, ['x', 'y'], dynamic=True).opts(cmap= 'RdBu_r',colorbar=True,clim=(0,10))#.hist(bin_range=(0,0.02) ) \n",
    "\n",
    "polys = hv.Polygons([])\n",
    "box_stream = hv.streams.BoxEdit(source=polys)\n",
    "dmap, dmap_std=[],[]\n",
    "\n",
    "def roi_curves(data,ds=ds):    \n",
    "    if not data or not any(len(d) for d in data.values()):\n",
    "        return hv.NdOverlay({0: hv.Curve([],'time', param)})\n",
    "\n",
    "    curves,envelope = {},{}\n",
    "    data = zip(data['x0'], data['x1'], data['y0'], data['y1'])\n",
    "    for i, (x0, x1, y0, y1) in enumerate(data):\n",
    "        selection = ds.select(x=(x0, x1), y=(y0, y1))\n",
    "        mean = selection.aggregate(third_dim, np.nanmean).data\n",
    "        #std = selection.aggregate(third_dim, np.std).data\n",
    "        time = mean[third_dim]\n",
    "\n",
    "        curves[i]= hv.Curve((time,mean[param]),'time', param) \n",
    "\n",
    "    return hv.NdOverlay(curves)\n",
    "\n",
    "\n",
    "# a bit dirty to have two similar function, but holoviews does not like mixing Curve and Spread for the same stream\n",
    "def roi_spreads(data,ds=ds):    \n",
    "    if not data or not any(len(d) for d in data.values()):\n",
    "        return hv.NdOverlay({0: hv.Curve([],'time', param)})\n",
    "\n",
    "    curves,envelope = {},{}\n",
    "    data = zip(data['x0'], data['x1'], data['y0'], data['y1'])\n",
    "    for i, (x0, x1, y0, y1) in enumerate(data):\n",
    "        selection = ds.select(x=(x0, x1), y=(y0, y1))\n",
    "        mean = selection.aggregate(third_dim, np.mean).data\n",
    "        std = selection.aggregate(third_dim, np.std).data\n",
    "        time = mean[third_dim]\n",
    "\n",
    "        curves[i]=  hv.Spread((time,mean[param],std[param]),fill_alpha=0.3)\n",
    "\n",
    "    return hv.NdOverlay(curves)\n",
    "\n",
    "mean=hv.DynamicMap(roi_curves,streams=[box_stream])\n",
    "std =hv.DynamicMap(roi_spreads, streams=[box_stream])    \n"
   ]
  },
  {
   "cell_type": "code",
   "execution_count": null,
   "id": "ed776ce8-c7ab-435c-aefd-001a75364062",
   "metadata": {},
   "outputs": [],
   "source": []
  },
  {
   "cell_type": "code",
   "execution_count": null,
   "id": "820ef8db-2f49-4b3b-823d-0bb47e08a7ef",
   "metadata": {},
   "outputs": [],
   "source": [
    "selection = ds.select(x=(0,10000000), y=(0, 10000000))\n",
    "mean = selection.aggregate(third_dim, np.nanmean).data\n",
    "std = selection.aggregate(third_dim, np.std).data\n",
    "time = mean[third_dim]\n",
    "curves={}\n",
    "for i in [0,1,2]:\n",
    "    curves[i]=hv.Curve((time,mean[param]),'time', param)\n",
    "\n",
    "hv.DynamicMap(hv.NdOverlay(curves))"
   ]
  },
  {
   "cell_type": "code",
   "execution_count": null,
   "id": "e564ea4e-ddbf-4f91-9c59-737b629cd5f7",
   "metadata": {},
   "outputs": [],
   "source": [
    "# visualize and play\n",
    "graphs = ((mean ).relabel(param))\n",
    "layout = (im * polys +graphs    ).opts(\n",
    "    opts.Curve(width=600, framewise=True,xlim=(400,1000)), \n",
    "    opts.Polygons(fill_alpha=0.2, color='green',line_color='black'), \n",
    "    ).cols(2)\n",
    "layout "
   ]
  },
  {
   "cell_type": "code",
   "execution_count": null,
   "id": "ddde8b98-e369-4b04-ac5d-33361240fbbe",
   "metadata": {},
   "outputs": [],
   "source": []
  }
 ],
 "metadata": {
  "kernelspec": {
   "display_name": "Python 3 (ipykernel)",
   "language": "python",
   "name": "python3"
  },
  "language_info": {
   "codemirror_mode": {
    "name": "ipython",
    "version": 3
   },
   "file_extension": ".py",
   "mimetype": "text/x-python",
   "name": "python",
   "nbconvert_exporter": "python",
   "pygments_lexer": "ipython3",
   "version": "3.9.12"
  }
 },
 "nbformat": 4,
 "nbformat_minor": 5
}
