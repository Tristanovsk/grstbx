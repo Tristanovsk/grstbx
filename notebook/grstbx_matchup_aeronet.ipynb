{
 "cells": [
  {
   "cell_type": "markdown",
   "id": "6d9d6a8f-bfc4-401b-a209-26bcfc3a449c",
   "metadata": {},
   "source": [
    "# Explore GRS images"
   ]
  },
  {
   "cell_type": "markdown",
   "id": "77e62aa9-fd0f-44cd-bc83-9b5c03660456",
   "metadata": {},
   "source": [
    "## Load python libraries"
   ]
  },
  {
   "cell_type": "code",
   "execution_count": null,
   "id": "b8baeae6-5bc5-4243-ba7a-0c10257db2ee",
   "metadata": {
    "tags": []
   },
   "outputs": [],
   "source": [
    "\n",
    "import glob\n",
    "import os\n",
    "import numpy as np\n",
    "import pandas as pd\n",
    "import geopandas as gpd\n",
    "import xarray as xr\n",
    "import rioxarray  # activate the rio accessor\n",
    "\n",
    "#import cartopy\n",
    "import cartopy.crs as ccrs\n",
    "#import cartopy.feature as cfeature\n",
    "#import locale\n",
    "#locale.setlocale(locale.LC_ALL, 'en_US.utf8')\n",
    "import matplotlib.pyplot as plt\n",
    "import matplotlib as mpl\n",
    "#mpl.use('TkAgg')\n",
    "import hvplot.xarray\n",
    "\n",
    "import holoviews as hv\n",
    "import holoviews.operation.datashader as hd\n",
    "from holoviews import opts\n",
    "hv.extension('bokeh')\n",
    "import datashader as ds\n",
    "from datashader import transfer_functions as tf \n",
    "import colorcet as cc\n",
    "import panel as pn\n",
    "import panel.widgets as pnw\n",
    "#import ipywidgets as widgets\n",
    "\n",
    "import pyproj as ppj\n",
    "import rasterio\n",
    "from affine import Affine\n",
    "from shapely.geometry import box,Point, mapping\n",
    "from shapely.ops import transform\n",
    "\n",
    "\n",
    "import grstbx\n",
    "from grstbx import visual\n",
    "\n",
    "u = grstbx.utils\n",
    "opj = os.path.join\n",
    "grstbx.__version__"
   ]
  },
  {
   "cell_type": "markdown",
   "id": "8c491db3-e60a-49fe-b729-b0606206d401",
   "metadata": {},
   "source": [
    "## Set Dask local cluster"
   ]
  },
  {
   "cell_type": "code",
   "execution_count": null,
   "id": "b3bcde51-5a87-4803-9aa4-eb2939e97530",
   "metadata": {
    "tags": []
   },
   "outputs": [],
   "source": [
    "import dask.distributed\n",
    "cluster = dask.distributed.LocalCluster()\n",
    "client = dask.distributed.Client(cluster)\n",
    "cluster.dashboard_link"
   ]
  },
  {
   "cell_type": "markdown",
   "id": "23387cde-9362-4b4e-8489-62717b47259a",
   "metadata": {},
   "source": [
    "## Set images to play with"
   ]
  },
  {
   "cell_type": "code",
   "execution_count": null,
   "id": "24c84fae-2508-4751-b5f3-50a682b91ab1",
   "metadata": {
    "tags": []
   },
   "outputs": [],
   "source": [
    "data_dir = '/home/harmel/Dropbox/satellite/S2/cnes/validation'\n",
    "aeronet_site = 'Bahia_Blanca'\n",
    "select =grstbx.select_files()\n",
    "# if you need to change the root path\n",
    "select.root= opj(data_dir,aeronet_site)\n",
    "pattern='*'+aeronet_site+'*.nc'\n",
    "select.select_pattern()\n",
    "select.file_list\n",
    "\n"
   ]
  },
  {
   "cell_type": "markdown",
   "id": "74c2d698-1a26-4d15-ba1d-15afba120ba2",
   "metadata": {},
   "source": [
    "### Select date range and maximum cloud cover (cc_max)"
   ]
  },
  {
   "cell_type": "code",
   "execution_count": null,
   "id": "cd2a21d0-d53d-44c4-85de-b5a7dca878c8",
   "metadata": {
    "tags": []
   },
   "outputs": [],
   "source": [
    "files = select.list_file_path(('2020-01','2022-02-15'),cc_max=80)\n",
    "select.file_list"
   ]
  },
  {
   "cell_type": "markdown",
   "id": "c329b52b-3878-441c-a109-fd436dd5f831",
   "metadata": {},
   "source": [
    "## Load and subset image series"
   ]
  },
  {
   "cell_type": "code",
   "execution_count": null,
   "id": "94168621-8799-4b0b-95cb-92a9c3e12ad5",
   "metadata": {
    "tags": []
   },
   "outputs": [],
   "source": [
    "\n",
    "# generate datacube\n",
    "dc = grstbx.l2grs(files)"
   ]
  },
  {
   "cell_type": "code",
   "execution_count": null,
   "id": "cb7d6f57-4568-47ca-a6f1-b1cfc0a24b68",
   "metadata": {
    "tags": []
   },
   "outputs": [],
   "source": [
    "dc.load(reshape=True)"
   ]
  },
  {
   "cell_type": "markdown",
   "id": "edeb6247-91dd-4347-935e-f385b411b29f",
   "metadata": {
    "tags": []
   },
   "source": [
    "## Check data/metadata"
   ]
  },
  {
   "cell_type": "code",
   "execution_count": null,
   "id": "93d2d86b-f5d6-44b8-b683-5c0cafce6f61",
   "metadata": {},
   "outputs": [],
   "source": [
    "dc.Rrs"
   ]
  },
  {
   "cell_type": "markdown",
   "id": "24cd3073-687e-49a3-984a-d0af3d47b895",
   "metadata": {
    "tags": []
   },
   "source": [
    "## Check flags and masking"
   ]
  },
  {
   "cell_type": "code",
   "execution_count": null,
   "id": "64621866-e0e9-4df5-a122-5eb81a2a06f6",
   "metadata": {
    "tags": []
   },
   "outputs": [],
   "source": [
    "pn.widgets.DataFrame(pd.DataFrame.from_dict(dc.datacube.metadata.attrs,orient='index'),height=300)\n"
   ]
  },
  {
   "cell_type": "markdown",
   "id": "bfb52e15-c21e-4a16-837a-8cb658381492",
   "metadata": {
    "tags": []
   },
   "source": [
    "## Check flags and masking"
   ]
  },
  {
   "cell_type": "code",
   "execution_count": null,
   "id": "d46ab02e-c71d-4a24-b54a-0e1f24271459",
   "metadata": {
    "tags": []
   },
   "outputs": [],
   "source": [
    "masking_ = grstbx.masking(dc.datacube)\n",
    "masking_.print_info()"
   ]
  },
  {
   "cell_type": "code",
   "execution_count": null,
   "id": "407db889-6749-4472-890a-91b1245702b1",
   "metadata": {
    "tags": []
   },
   "outputs": [],
   "source": [
    "mask = (masking_.get_mask(high_nir=True) | masking_.get_mask(hicld=True)) | (dc.Rrs.Rrs.isel(wl=2) < 0.0002)\n",
    "aspect=1.5\n",
    "#mask.plot.imshow(col='time',col_wrap=5,vmin=0,cmap=plt.cm.binary_r,aspect=aspect)"
   ]
  },
  {
   "cell_type": "markdown",
   "id": "0ad4be78-3f95-49ad-a93e-6595050e26f5",
   "metadata": {},
   "source": [
    "## Mask datacube\n",
    "Mask pixels from chosen flags and remove empty dates"
   ]
  },
  {
   "cell_type": "code",
   "execution_count": null,
   "id": "d41fbd79-fc99-49c1-b521-719e85e7af5c",
   "metadata": {
    "tags": []
   },
   "outputs": [],
   "source": [
    "Rrs_masked = dc.Rrs.Rrs.where(mask==0).dropna('time','all')\n",
    "BRDFg = dc.datacube.BRDFg.where(mask==0).dropna('time','all')\n",
    "BRDFg = BRDFg.where(masking_.get_mask(ndwi=False),drop=True)"
   ]
  },
  {
   "cell_type": "code",
   "execution_count": null,
   "id": "d4d9377c-0240-4b36-8d4c-23b97484b2fc",
   "metadata": {
    "tags": []
   },
   "outputs": [],
   "source": [
    "# Rrs_masked= Rrs_masked.as_numpy()"
   ]
  },
  {
   "cell_type": "markdown",
   "id": "5514fd3b-5c29-485e-8ef3-e609b2bb38e1",
   "metadata": {},
   "source": [
    "## Visualize and clip the raster image for the selected area of interest (last polygon drawn)"
   ]
  },
  {
   "cell_type": "code",
   "execution_count": null,
   "id": "343533d4-aec4-4a40-bb4d-4db9fc160fce",
   "metadata": {},
   "outputs": [],
   "source": [
    "v=visual.view_spectral(Rrs_masked,reproject=True)"
   ]
  },
  {
   "cell_type": "code",
   "execution_count": null,
   "id": "928988dc-9ff7-4fa1-859f-a30870a23bf4",
   "metadata": {},
   "outputs": [],
   "source": [
    "v.visu()"
   ]
  },
  {
   "cell_type": "code",
   "execution_count": null,
   "id": "d3e6c076-2454-4e1d-8599-b1b45c859a47",
   "metadata": {},
   "outputs": [],
   "source": [
    "v.aoi_stream.element.geom()"
   ]
  },
  {
   "cell_type": "markdown",
   "id": "d781c219-30f5-40a7-8994-9855882310f4",
   "metadata": {},
   "source": [
    "### Clip raster and compute statistics "
   ]
  },
  {
   "cell_type": "code",
   "execution_count": null,
   "id": "31ad5d1c-ebd0-4814-a10c-fa617fdea408",
   "metadata": {},
   "outputs": [],
   "source": [
    "from shapely.geometry import Polygon\n",
    "geom = v.aoi_stream.data\n",
    "ys,xs=geom['ys'][-1],geom['xs'][-1]\n",
    "polygon_geom = Polygon(zip(xs, ys))\n",
    "polygon = gpd.GeoDataFrame(index=[0], crs=3857, geometry=[polygon_geom]) \n",
    "geom_ = polygon.to_crs(3857)#Rrs_masked.rio.crs) #4326)#32631)#4326)\n",
    "geom_.to_crs(4326).bounds\n",
    "\n",
    "# if you want to subset within the box (defined from the polygon) uncomment the following lines\n",
    "#minx, miny, maxx, maxy = geom_.bounds.values[0]\n",
    "\n",
    "#Rrs_masked.sel(x=slice(minx, maxx), y=slice(maxy, miny))\n",
    "geom_=geom_.to_crs(Rrs_masked.rio.crs)\n"
   ]
  },
  {
   "cell_type": "code",
   "execution_count": null,
   "id": "1fd6a502-0573-47f1-84fa-58c653f6572f",
   "metadata": {},
   "outputs": [],
   "source": [
    "Rrs_clipped = Rrs_masked.rio.clip(geom_.geometry.values)"
   ]
  },
  {
   "cell_type": "code",
   "execution_count": null,
   "id": "c5a17027-4613-40a3-8b2e-899c0e3da962",
   "metadata": {},
   "outputs": [],
   "source": [
    "stacked = Rrs_clipped.stack(gridcell=[\"y\", \"x\"])#.dropna('gridcell',thresh=0)\n"
   ]
  },
  {
   "cell_type": "code",
   "execution_count": null,
   "id": "48e8f3e0-5bb5-408e-aecb-628cc3e0ee4b",
   "metadata": {},
   "outputs": [],
   "source": [
    "group_coord ='wl'\n",
    "stat_coord='gridcell'\n",
    "stats = xr.Dataset({'median':stacked.groupby(group_coord).median(stat_coord)})\n",
    "stats['q25'] = stacked.groupby(group_coord).quantile(0.25,dim=stat_coord)\n",
    "stats['q75'] = stacked.groupby(group_coord).quantile(0.75,dim=stat_coord)\n",
    "stats['min'] = stacked.groupby(group_coord).min(stat_coord)\n",
    "stats['max'] = stacked.groupby(group_coord).max(stat_coord)\n",
    "stats['mean'] = stacked.groupby(group_coord).mean(stat_coord)\n",
    "stats['std'] = stacked.groupby(group_coord).std(stat_coord)\n",
    "stats['pix_num'] = stacked.count(stat_coord)"
   ]
  },
  {
   "cell_type": "markdown",
   "id": "dc45a3fc-544d-411a-b91f-ecc39d11408c",
   "metadata": {},
   "source": [
    "### Based on statistics drop out bad dates (example: a least 50% of the selected pixels must be valid)"
   ]
  },
  {
   "cell_type": "code",
   "execution_count": null,
   "id": "f82638cd-0a29-426b-bd6d-a679070f8c2d",
   "metadata": {},
   "outputs": [],
   "source": [
    "pix_num_max = stats.pix_num.values.max()\n",
    "valid_thresh = 0.5\n",
    "date_to_remove = stats.time.values[stats.pix_num.isel(wl=1)<valid_thresh*pix_num_max]\n",
    "date_to_remove\n",
    "#stats.pix_num<valid_thresh*pix_num_max"
   ]
  },
  {
   "cell_type": "code",
   "execution_count": null,
   "id": "b962a78b-1b9f-4c6d-a553-280b4c958962",
   "metadata": {},
   "outputs": [],
   "source": [
    "Rrs_clipped = Rrs_clipped.drop_sel(time=date_to_remove)\n",
    "stats = stats.drop_sel(time=date_to_remove)"
   ]
  },
  {
   "cell_type": "markdown",
   "id": "9836cac9-5fc0-432c-9a0d-924ec9339ec6",
   "metadata": {},
   "source": [
    "### Check and analyze the time series"
   ]
  },
  {
   "cell_type": "code",
   "execution_count": null,
   "id": "ad04d98a-edc2-407c-9298-6c08bf2af6a1",
   "metadata": {},
   "outputs": [],
   "source": [
    "fig = Rrs_clipped.isel(wl=2).plot.imshow(col='time',col_wrap=10,vmin=0,cmap=cc.cm.bky,robust=True)\n",
    "for ax in fig.axs.flat:\n",
    "    ax.set(xticks=[], yticks=[])\n",
    "    ax.set_ylabel('')\n",
    "    ax.set_xlabel('')\n",
    "fig"
   ]
  },
  {
   "cell_type": "code",
   "execution_count": null,
   "id": "adf36e44-715b-410c-a67c-8d31f0f726c2",
   "metadata": {},
   "outputs": [],
   "source": [
    "%matplotlib inline\n",
    "num_items = len(stats.time)\n",
    "col_wrap=5\n",
    "rows=int(np.ceil(num_items/col_wrap))\n",
    "\n",
    "fig, axs = plt.subplots(nrows=rows,ncols=col_wrap, sharex=True,figsize=(20, rows*3.5),sharey=True)\n",
    "fig.subplots_adjust(hspace=0.1,wspace=0.1)\n",
    "axs_ = axs.ravel()\n",
    "[axi.set_axis_off() for axi in axs_]\n",
    "for iax,(_,group) in enumerate(stats.groupby('time')): \n",
    "    date = group.time.dt.date.values\n",
    "    \n",
    "    axs_[iax].set_axis_on()\n",
    "    axs_[iax].axhline(y=0,color='k',lw=1)\n",
    "    axs_[iax].plot(group.wl,group['median'],c='k')\n",
    "    axs_[iax].plot(group.wl,group['mean'],c='red',ls='--')\n",
    "    axs_[iax].fill_between(group.wl, group['q25'], group['q75'],alpha=0.3,color='grey')\n",
    "    axs_[iax].set_title(date)\n",
    "plt.show()"
   ]
  },
  {
   "cell_type": "code",
   "execution_count": null,
   "id": "0046c5e1-33e1-4122-ab2a-ccbd4e39a04f",
   "metadata": {},
   "outputs": [],
   "source": [
    "t = hv.Table(stats,['time','wl'])\n",
    "val='pix_num'\n",
    "c=t.to.curve('time',val)\n",
    "s=t.to.scatter('time',[val,'std'])\n",
    "(c*s).opts(\n",
    "    opts.Curve(color='k',width=1), \n",
    "    opts.Scatter(cmap='Blues', color='std', alpha=0.5,\n",
    "                 line_color='k', size=hv.dim('std')*1000),\n",
    "    opts.Text(text_font_size='13px'),\n",
    "    opts.Overlay(height=400, show_frame=False, width=1000)).opts(fontscale=1.4,padding=0.1)\n"
   ]
  },
  {
   "cell_type": "code",
   "execution_count": null,
   "id": "99082e15-741b-4eaa-a7c7-7ce41be5f6c7",
   "metadata": {},
   "outputs": [],
   "source": [
    "ds = hv.Dataset(stats)\n",
    "c = ds.to(hv.Curve, 'time','median','wl').overlay().opts(width=1200, height=400, legend_position='right')\n",
    "#env = ds.to(hv.Area, 'time','q25','q75').overlay()\n",
    "c#*env"
   ]
  },
  {
   "cell_type": "code",
   "execution_count": null,
   "id": "4912385c-ca80-496e-8530-33226a085201",
   "metadata": {},
   "outputs": [],
   "source": [
    "df = stats.to_dataframe().reset_index()\n",
    "pn.widgets.DataFrame(df,height=300,width=1000)"
   ]
  },
  {
   "cell_type": "code",
   "execution_count": null,
   "id": "810f6820-0b26-4425-ae7e-26d0b54f5606",
   "metadata": {},
   "outputs": [],
   "source": [
    "plt.figure()\n",
    "for name,group in stacked.isel(time=60).groupby('gridcell'):\n",
    "    g_=group\n",
    "    plt.plot(g_.wl,g_.values,c='k',alpha=0.1,lw=1)#plot(x='wl')\n",
    "plt.show()"
   ]
  },
  {
   "cell_type": "markdown",
   "id": "d350e2de-785c-4956-ace3-feaf04c4c0f6",
   "metadata": {},
   "source": [
    "## **Check spectral datacube** (i.e., Remote Sensing Reflectance, R<sub>rs</sub>, sr<sup>-1</sup>)"
   ]
  },
  {
   "cell_type": "markdown",
   "id": "d86d2783-016b-46be-b29f-542f7445948c",
   "metadata": {},
   "source": [
    "To quickly check your data visually, you can use the *visual* module of *grstbx*"
   ]
  },
  {
   "cell_type": "code",
   "execution_count": null,
   "id": "e3710741-a013-4673-b63b-9c49f8934252",
   "metadata": {
    "tags": []
   },
   "outputs": [],
   "source": [
    "visual.image_viewer().Rrs_date(Rrs_masked)"
   ]
  },
  {
   "cell_type": "markdown",
   "id": "c4408e3c-e3d1-49e3-b136-3cc18f5ab348",
   "metadata": {
    "tags": []
   },
   "source": [
    "## **Fast checking of the RGB images**"
   ]
  },
  {
   "cell_type": "code",
   "execution_count": null,
   "id": "2cad587a-c066-4b0c-9d76-6167f0f703de",
   "metadata": {
    "tags": []
   },
   "outputs": [],
   "source": [
    "bands=[4,2,1]\n",
    "bands=[3,2,1]\n",
    "fig = Rrs_clipped.isel(wl=bands).plot.imshow(col='time', col_wrap=8,robust=True)\n",
    "for ax in fig.axs.flat:\n",
    "    ax.set(xticks=[], yticks=[])\n",
    "    ax.set_ylabel('')\n",
    "    ax.set_xlabel('')\n",
    "fig\n"
   ]
  },
  {
   "cell_type": "code",
   "execution_count": null,
   "id": "00881453-a93d-4a0e-8c43-e5b7f69e3f4b",
   "metadata": {},
   "outputs": [],
   "source": []
  },
  {
   "cell_type": "code",
   "execution_count": null,
   "id": "f2150601-867c-4500-a161-596cb43f85b3",
   "metadata": {
    "tags": []
   },
   "outputs": [],
   "source": [
    "import datashader as ds\n",
    "from datashader import transfer_functions as tf \n",
    "from colorcet import palette\n",
    "\n",
    "\n",
    "shaded = []\n",
    "for name, raster in Rrs_masked.isel(wl=2).groupby('time'):\n",
    "    img = tf.shade(raster.squeeze(),cmap=cc.kbc)\n",
    "    img.name = str(name)\n",
    "    shaded.append(img)\n",
    "\n",
    "imgs = tf.Images(*shaded)\n",
    "imgs.num_cols = 3\n",
    "imgs"
   ]
  },
  {
   "cell_type": "code",
   "execution_count": null,
   "id": "737fcd5e-5515-44c9-8ff7-d4561d026d1d",
   "metadata": {
    "tags": []
   },
   "outputs": [],
   "source": []
  },
  {
   "cell_type": "code",
   "execution_count": null,
   "id": "9ecdc668-122d-4755-a42b-9fe023f32f30",
   "metadata": {
    "tags": []
   },
   "outputs": [],
   "source": []
  },
  {
   "cell_type": "code",
   "execution_count": null,
   "id": "6601e7b8-778b-4918-9b33-a2d9b55ac5d8",
   "metadata": {},
   "outputs": [],
   "source": [
    "from holoviews import opts\n",
    "\n",
    "opts.defaults(\n",
    "    opts.GridSpace(shared_xaxis=True, shared_yaxis=True),\n",
    "    opts.Image(cmap='binary_r', width=800, height=700),\n",
    "    opts.Labels(text_color='white', text_font_size='8pt', text_align='left', text_baseline='bottom'),\n",
    "    opts.Path(color='white'),\n",
    "    opts.Spread(width=900),\n",
    "    opts.Overlay(show_legend=True))\n",
    "# set the parameter for spectra extraction\n",
    "hv.extension('bokeh')\n",
    "pn.extension()\n",
    "\n",
    "raster = Rrs_masked#.isel(time=-1,drop=True)\n",
    "ds = hv.Dataset(raster.persist())\n",
    "im= ds.to(hv.Image, ['x', 'y'], dynamic=True).opts(cmap= 'RdBu_r',colorbar=True)#.hist(bin_range=(0,0.02) ) \n",
    "widget = pn.widgets.RangeSlider(start=0, end=0.1,step=0.001)\n",
    "\n",
    "jscode = \"\"\"\n",
    "    color_mapper.low = cb_obj.value[0];\n",
    "    color_mapper.high = cb_obj.value[1];\n",
    "\"\"\"\n",
    "link = widget.jslink(im, code={'value': jscode})\n",
    "pn.Column(widget, im)"
   ]
  },
  {
   "cell_type": "markdown",
   "id": "e077158e-5a5d-4e5b-aeca-58876edf8a06",
   "metadata": {},
   "source": [
    "# Check surface rugosity via sunglint BRDF"
   ]
  },
  {
   "cell_type": "code",
   "execution_count": null,
   "id": "b78f8501-eadd-4236-a7eb-cbad50ef1426",
   "metadata": {},
   "outputs": [],
   "source": [
    "\n",
    "raster = BRDFg#.isel(time=-1,drop=True)\n",
    "ds = hv.Dataset(raster.persist())\n",
    "im= ds.to(hv.Image, ['x', 'y'], dynamic=True).opts(cmap= 'gray',colorbar=True)#.hist(bin_range=(0,0.02) ) \n",
    "widget = pn.widgets.RangeSlider(start=0, end=0.01,step=0.0005)\n",
    "\n",
    "jscode = \"\"\"\n",
    "    color_mapper.low = cb_obj.value[0];\n",
    "    color_mapper.high = cb_obj.value[1];\n",
    "\"\"\"\n",
    "link = widget.jslink(im, code={'value': jscode})\n",
    "pn.Column(widget, im)"
   ]
  },
  {
   "cell_type": "code",
   "execution_count": null,
   "id": "2a29535a-715e-4fc6-a57c-08d68319018f",
   "metadata": {},
   "outputs": [],
   "source": [
    "\n",
    "shaded = []\n",
    "for name, raster in BRDFg.groupby('time'):\n",
    "    img = tf.shade(raster.squeeze(),cmap=cc.gray)\n",
    "    img.name = str(name)\n",
    "    shaded.append(img)\n",
    "\n",
    "imgs = tf.Images(*shaded)\n",
    "imgs.num_cols = 5\n",
    "imgs"
   ]
  },
  {
   "cell_type": "markdown",
   "id": "2e2e8cac-0963-4371-a422-3303dcc8c3f9",
   "metadata": {},
   "source": [
    "## Check blue over green ratio for Chl retrieval with OC2 from NASA\n",
    "$log_{10}(chlor\\_a) = a_0 + \\sum\\limits_{i=1}^4 a_i \\left(log_{10}\\left(\\frac{R_{rs}(\\lambda_{blue})}{R_{rs}(\\lambda_{green})}\\right)\\right)^i$"
   ]
  },
  {
   "cell_type": "code",
   "execution_count": null,
   "id": "38643734-3636-4bb5-8a5c-e652c2c24dbf",
   "metadata": {
    "tags": []
   },
   "outputs": [],
   "source": [
    "# NASA OC2 fro MODIS; bands 488, 547 nm\n",
    "a = [0.2500,-2.4752,1.4061,-2.8233,0.5405]\n",
    "# NASA OC2 for OCTS; bands 490, 565 nm\n",
    "a = [0.2236,-1.8296,1.9094,-2.9481,-0.1718]\n",
    "\n",
    "ratio = np.log10(Rrs_masked.isel(wl=1)/Rrs_masked.isel(wl=2))\n",
    "logchl=0\n",
    "for i in range(len(a)):\n",
    "    logchl+=a[i]*ratio**i\n",
    "chl = 10**(logchl)\n",
    "chl.name='chl in mg.m-3 from OC2'"
   ]
  },
  {
   "cell_type": "markdown",
   "id": "d0759105-1ce1-48dc-821f-a5f0fa86a79f",
   "metadata": {},
   "source": [
    "Set range of valid values"
   ]
  },
  {
   "cell_type": "code",
   "execution_count": null,
   "id": "c8b22982-0808-4f4b-9eab-f554e2d5c2d9",
   "metadata": {
    "tags": []
   },
   "outputs": [],
   "source": [
    "chl = chl.where((chl >= 0) & (chl <= 80))\n",
    "chl.persist()\n",
    "\n"
   ]
  },
  {
   "cell_type": "code",
   "execution_count": null,
   "id": "6590cdf6-552a-4b29-a53c-828954ac6f84",
   "metadata": {
    "tags": []
   },
   "outputs": [],
   "source": [
    "visual.image_viewer().param_date(chl,cmap='bgyw')"
   ]
  },
  {
   "cell_type": "code",
   "execution_count": null,
   "id": "63868209-1b65-428f-aac2-49bb1364676b",
   "metadata": {
    "tags": []
   },
   "outputs": [],
   "source": []
  },
  {
   "cell_type": "code",
   "execution_count": null,
   "id": "e522b9eb-dd9b-4013-bd8d-32621bdad31a",
   "metadata": {
    "tags": []
   },
   "outputs": [],
   "source": [
    "raster = chl\n",
    "\n",
    "shaded = []\n",
    "for name, raster in chl.groupby('time'):\n",
    "    img = tf.shade(raster.squeeze(),cmap=cc.bgyw, span=(0,10),how='log')\n",
    "    img.name = str(name)\n",
    "    shaded.append(img)\n",
    "\n",
    "imgs = tf.Images(*shaded)\n",
    "imgs.num_cols = 4\n",
    "imgs"
   ]
  },
  {
   "cell_type": "markdown",
   "id": "dcf69a64-654f-4426-ab82-e22b0cf4cd8b",
   "metadata": {},
   "source": [
    "# CDOM retrieval based on Brezonik et al, 2015\n"
   ]
  },
  {
   "cell_type": "code",
   "execution_count": null,
   "id": "97ecc081-cc39-4437-88a5-a5ce8526d218",
   "metadata": {},
   "outputs": [],
   "source": [
    "a = [1.872,-0.83]\n",
    "acdom = np.exp(a[0] + a[1] * np.log(Rrs_masked.isel(wl=1)/Rrs_masked.isel(wl=5)))\n",
    "acdom.name='CDOM absorption at 440 nm-1'\n",
    "acdom= acdom.where((acdom >= 0) & (acdom <= 10))\n",
    "acdom.persist()"
   ]
  },
  {
   "cell_type": "code",
   "execution_count": null,
   "id": "f68f5a42-6948-42b6-98d4-5693dc0366a0",
   "metadata": {},
   "outputs": [],
   "source": [
    "visual.image_viewer().param_date(acdom,cmap='bgyw')"
   ]
  },
  {
   "cell_type": "markdown",
   "id": "3be5aec8-4d6e-4d97-abdd-8a623e39d908",
   "metadata": {},
   "source": [
    "# Total suspended particulate matter (SPM) from Nechad et al., 2010, 2016 formulation\n",
    "spm in mg/L"
   ]
  },
  {
   "cell_type": "code",
   "execution_count": null,
   "id": "dd90de13-6855-44f9-98ae-434d7bfa8502",
   "metadata": {},
   "outputs": [],
   "source": [
    "a = [610.94*np.pi, 0.2324/np.pi]\n",
    "Rrs_ = Rrs_masked.isel(wl=3)\n",
    "spm = a[0] * Rrs_ / (1 - ( Rrs_/ a[1]))\n",
    "spm.name='CDOM absorption at 440 nm-1'\n",
    "spm= spm.where((spm >= 0) & (spm <= 150))\n",
    "spm.persist()"
   ]
  },
  {
   "cell_type": "code",
   "execution_count": null,
   "id": "28034374-73c6-45c9-b4c1-574960ec3761",
   "metadata": {},
   "outputs": [],
   "source": [
    "visual.image_viewer().param_date(spm,cmap='bgyw')"
   ]
  },
  {
   "cell_type": "code",
   "execution_count": null,
   "id": "57a4eaf7-2578-440e-ae90-5e03c2aeb432",
   "metadata": {
    "tags": []
   },
   "outputs": [],
   "source": [
    "\n",
    "shaded = []\n",
    "for name, raster in dc.Rrs.Rrs.isel(time=-1).groupby('wl'):\n",
    "    img = tf.shade(raster,cmap=cc.kbc)\n",
    "    img.name = '{:.2f}'.format(name)+' nm'\n",
    "    shaded.append(img)\n",
    "\n",
    "imgs = tf.Images(*shaded)\n",
    "imgs.num_cols = 3\n",
    "imgs"
   ]
  },
  {
   "cell_type": "code",
   "execution_count": null,
   "id": "459a562c-51fa-43cf-86e4-8f1242dd2a09",
   "metadata": {},
   "outputs": [],
   "source": [
    "shaded = []\n",
    "for name, raster in BRDFg.groupby('time'):\n",
    "    img = tf.shade(raster,cmap=cc.gray, span=(0,0.025),how='log')\n",
    "    img.name = str(name)\n",
    "    shaded.append(img)\n",
    "\n",
    "imgs = tf.Images(*shaded)\n",
    "imgs.num_cols = 4\n",
    "imgs"
   ]
  },
  {
   "cell_type": "markdown",
   "id": "bc9eabfe-5853-42ec-8709-a5ad7d876787",
   "metadata": {},
   "source": [
    "# Play with time series"
   ]
  },
  {
   "cell_type": "code",
   "execution_count": null,
   "id": "ce351fe6-d256-461a-aaee-834a612d760d",
   "metadata": {},
   "outputs": [],
   "source": [
    "raster = spm\n",
    "\n",
    "param = raster.name\n",
    "third_dim = 'time'\n",
    "time= raster.time.data\n",
    "Ntime = len(time)\n",
    "ds = hv.Dataset(raster.persist())\n",
    "im= ds.to(hv.Image, ['x', 'y'], dynamic=True).opts(cmap= 'RdBu_r',colorbar=True,clim=(0,10))#.hist(bin_range=(0,0.02) ) \n",
    "\n",
    "polys = hv.Polygons([])\n",
    "box_stream = hv.streams.BoxEdit(source=polys)\n",
    "dmap, dmap_std=[],[]\n",
    "\n",
    "def roi_curves(data,ds=ds):    \n",
    "    if not data or not any(len(d) for d in data.values()):\n",
    "        return hv.NdOverlay({0: hv.Curve([],'time', param)})\n",
    "\n",
    "    curves,envelope = {},{}\n",
    "    data = zip(data['x0'], data['x1'], data['y0'], data['y1'])\n",
    "    for i, (x0, x1, y0, y1) in enumerate(data):\n",
    "        selection = ds.select(x=(x0, x1), y=(y0, y1))\n",
    "        mean = selection.aggregate(third_dim, np.nanmean).data\n",
    "        print(mean)\n",
    "        #std = selection.aggregate(third_dim, np.std).data\n",
    "        time = mean[third_dim]\n",
    "\n",
    "        curves[i]= hv.Curve((time,mean[param]),'time', param) \n",
    "\n",
    "    return hv.NdOverlay(curves)\n",
    "\n",
    "\n",
    "# a bit dirty to have two similar function, but holoviews does not like mixing Curve and Spread for the same stream\n",
    "def roi_spreads(data,ds=ds):    \n",
    "    if not data or not any(len(d) for d in data.values()):\n",
    "        return hv.NdOverlay({0: hv.Curve([],'time', param)})\n",
    "\n",
    "    curves,envelope = {},{}\n",
    "    data = zip(data['x0'], data['x1'], data['y0'], data['y1'])\n",
    "    for i, (x0, x1, y0, y1) in enumerate(data):\n",
    "        selection = ds.select(x=(x0, x1), y=(y0, y1))\n",
    "        mean = selection.aggregate(third_dim, np.nanmean).data\n",
    "        std = selection.aggregate(third_dim, np.nanstd).data\n",
    "        time = mean[third_dim]\n",
    "\n",
    "        curves[i]=  hv.Spread((time,mean[param],std[param]),fill_alpha=0.3)\n",
    "\n",
    "    return hv.NdOverlay(curves)\n",
    "\n",
    "mean=hv.DynamicMap(roi_curves,streams=[box_stream])\n",
    "std =hv.DynamicMap(roi_spreads, streams=[box_stream])    \n"
   ]
  },
  {
   "cell_type": "code",
   "execution_count": null,
   "id": "e564ea4e-ddbf-4f91-9c59-737b629cd5f7",
   "metadata": {},
   "outputs": [],
   "source": [
    "# visualize and play\n",
    "graphs = ((mean*std ).relabel(param))\n",
    "layout = (im * polys +graphs    ).opts(\n",
    "    opts.Curve(width=600, framewise=True), \n",
    "    opts.Polygons(fill_alpha=0.2, color='green',line_color='black'), \n",
    "    ).cols(2)\n",
    "layout "
   ]
  },
  {
   "cell_type": "code",
   "execution_count": null,
   "id": "820ef8db-2f49-4b3b-823d-0bb47e08a7ef",
   "metadata": {},
   "outputs": [],
   "source": [
    "selection = ds.select(x=(547000,547200), y=(4802000, 4803000))\n",
    "mean = selection.aggregate(third_dim, np.nanmean).data\n",
    "std = selection.aggregate(third_dim, np.std).data\n",
    "time = mean[third_dim]\n",
    "curves={}\n",
    "for i in [0,1,2]:\n",
    "    curves[i]=hv.Curve((time,mean[param]),'time', param)\n",
    "\n",
    "hv.DynamicMap(hv.NdOverlay(curves)).opts(width=600)"
   ]
  },
  {
   "cell_type": "code",
   "execution_count": null,
   "id": "ddde8b98-e369-4b04-ac5d-33361240fbbe",
   "metadata": {},
   "outputs": [],
   "source": [
    "import bokeh\n",
    "from holoviews import streams\n",
    "import geoviews as gv\n",
    "from cartopy import crs\n",
    "\n",
    "\n",
    "    def __init__(self, raster, dates=None,\n",
    "                 bands=None,\n",
    "                 reproject=False,\n",
    "                 minmax=(0, 0.02)):\n",
    "\n",
    "        # layout settings\n",
    "        self.width, self.height = 1200, 700\n",
    "        self.key_dimensions = ['x', 'y']\n",
    "        self.minmax = minmax\n",
    "\n",
    "        # variables settings\n",
    "        self.dates = dates\n",
    "        if dates == None:\n",
    "            self.dates = raster.time.dt.date.values\n",
    "        self.bands = bands\n",
    "        if bands == None:\n",
    "            self.bands = raster.wl.values\n",
    "\n",
    "        # load raster\n",
    "        self.raster = raster\n",
    "        self.dataarrays = {}\n",
    "        self.aoi_polygons  = gv.Polygons([], crs=crs.epsg(3857))#.opts(opts.Polygons(fill_alpha=0.3,fill_color='white',line_width=1.5))#, active_tools=['poly_draw']))#.opts(crs.GOOGLE_MERCATOR)\n",
    "       \n",
    "        self.aoi_stream  = hv.streams.PolyDraw(source=self.aoi_polygons)#, drag=True)#, num_objects=1)#5,styles={'fill_color': aoi_colours})\n",
    "        self.edit_stream  = hv.streams.PolyEdit(source=self.aoi_polygons)#, drag=True)\n",
    "        \n",
    "        for itime, time in enumerate(raster.time.values):\n",
    "            raster_ = raster.sel(time=time)\n",
    "            for iband, band in enumerate(self.bands):\n",
    "                if reproject:\n",
    "                    self.dataarrays[itime, iband] = raster_.sel(wl=band).rio.reproject(3857, nodata=np.nan)\n",
    "                else:\n",
    "                    self.dataarrays[itime, iband] = raster_.sel(wl=band)\n",
    "            \n",
    "\n",
    "    @staticmethod\n",
    "    def custom_hover():\n",
    "        formatter_code = \"\"\"\n",
    "          var digits = 4;\n",
    "          var projections = Bokeh.require(\"core/util/projections\");\n",
    "          var x = special_vars.x; var y = special_vars.y;\n",
    "          var coords = projections.wgs84_mercator.invert(x, y);\n",
    "          return \"\" + (Math.round(coords[%d] * 10**digits) / 10**digits).toFixed(digits)+ \"\";\n",
    "        \"\"\"\n",
    "        formatter_code_x, formatter_code_y = formatter_code % 0, formatter_code % 1\n",
    "        custom_tooltips = [('Lon', '@x{custom}'), ('Lat', '@y{custom}'), ('Value', '@image{0.0000}')]\n",
    "        custom_formatters = {\n",
    "            '@x': bokeh.models.CustomJSHover(code=formatter_code_x),\n",
    "            '@y': bokeh.models.CustomJSHover(code=formatter_code_y)\n",
    "        }\n",
    "        return bokeh.models.HoverTool(tooltips=custom_tooltips, formatters=custom_formatters)\n",
    "    \n",
    "    def print_geom(self):\n",
    "            return self.aoi_stream\n",
    "\n",
    "    def visu(self):\n",
    "        dates = self.dates\n",
    "        bands = self.bands\n",
    "        hv.opts.defaults(\n",
    "            hv.opts.Image(height=self.height, width=self.width,\n",
    "                          colorbar=True, tools=[self.custom_hover()], active_tools=['wheel_zoom'],\n",
    "                          clipping_colors={'NaN': '#00000000'}),\n",
    "            hv.opts.Tiles(active_tools=['wheel_zoom'])\n",
    "        )\n",
    "        gopts = hv.opts.Tiles(xaxis=None, yaxis=None, bgcolor='black', show_grid=False)\n",
    "        \n",
    "        \n",
    "        \n",
    "       \n",
    "   \n",
    "        titles, images = {}, {}\n",
    "        for idate, date in enumerate(dates):\n",
    "            for iband, band in enumerate(bands):\n",
    "                titles[date, iband] = str(date) + ', wl = {:.2f} nm '.format(band)\n",
    "                datasets = hv.Dataset(self.dataarrays[idate, iband].squeeze(), kdims=self.key_dimensions)\n",
    "                images[date, iband] = hv.Image(datasets).opts(gopts)\n",
    "\n",
    "        bases = [name for name, ts in hv.element.tiles.tile_sources.items()]\n",
    "        pn_band = pn.widgets.RadioButtonGroup(value=2, options=list(range(len(bands))))\n",
    "        pn_colormap = pn.widgets.Select(value='CET_D13',\n",
    "                                        options=['kbc', 'blues_r', 'kb', 'rainbow', 'fire', 'kgy', 'bky', 'bjy',\n",
    "                                                 'CET_D13'])\n",
    "        pn_opacity = pn.widgets.FloatSlider(name='Opacity', value=0.95, start=0, end=1, step=0.05)\n",
    "        range_slider = pn.widgets.RangeSlider(name='Range Slider', start=0, end=.06, value=self.minmax, step=0.0001)\n",
    "        pn_basemaps = pn.widgets.Select(value='StamenTerrainRetina', options=bases)\n",
    "        pn_date = pn.widgets.DatePicker(value=dates[0], start=dates[0],\n",
    "                                        enabled_dates=dates.tolist())  # .date, end=dates[-1],value=dates[0])\n",
    "\n",
    "        @pn.depends(\n",
    "            pn_date_value=pn_date.param.value,\n",
    "            pn_band_value=pn_band.param.value,\n",
    "            pn_colormap_value=pn_colormap.param.value,\n",
    "            pn_opacity_value=pn_opacity.param.value,\n",
    "            range_slider_value=range_slider.param.value\n",
    "        )\n",
    "        def load_map(pn_date_value, pn_band_value,\n",
    "                     pn_colormap_value, pn_opacity_value, range_slider_value):\n",
    "            image = images[pn_date_value, pn_band_value]\n",
    "            used_colormap = cc.cm[pn_colormap_value]\n",
    "            image.opts(cmap=used_colormap, alpha=pn_opacity_value, clim=range_slider_value,\n",
    "                       title=titles[pn_date_value, pn_band_value])\n",
    "            return image\n",
    "\n",
    "        @pn.depends(\n",
    "            basemap_value=pn_basemaps.param.value)\n",
    "        def load_tiles(basemap_value):\n",
    "            tiles = hv.element.tiles.tile_sources[basemap_value]()\n",
    "            return tiles.options(height=self.height, width=self.width).opts(gopts)\n",
    "        \n",
    "        \n",
    "\n",
    "        dynmap = hd.regrid(hv.DynamicMap(load_map))  \n",
    "        combined = (hv.DynamicMap(load_tiles) * dynmap * self.aoi_polygons)#.opts(active_tools=['wheel_zoom','poly_draw'])\n",
    "        \n",
    "        return pn.Column(\n",
    "            pn.WidgetBox(\n",
    "                '## S2 L2A',\n",
    "                pn.Column(\n",
    "                    pn.Row(\n",
    "                        pn.Row('### Band', pn_band),\n",
    "                        pn.Row('### Date', pn_date),\n",
    "                        pn.Row('#### Basemap', pn_basemaps)\n",
    "                    ),\n",
    "                    pn.Row(\n",
    "                        pn.Row('', range_slider),\n",
    "                        pn.Row('#### Opacity', pn_opacity),\n",
    "                        pn.Row('#### Colormap', pn_colormap))\n",
    "                )),\n",
    "            combined\n",
    "        )\n"
   ]
  },
  {
   "cell_type": "code",
   "execution_count": null,
   "id": "54065564-4088-4a5b-8c23-cd6e18b24353",
   "metadata": {},
   "outputs": [],
   "source": [
    "points = hv.Points([(0.0, 0.0), (1.0, 1.0), (200000.0, 2000000.0)]).opts(size=10, min_height=500)\n",
    "\n",
    "annotator = hv.annotate.instance()\n",
    "layout = annotator(hv.element.tiles.Wikipedia() * points, annotations=['Label'], name=\"Point Annotations\")\n",
    "layout"
   ]
  },
  {
   "cell_type": "code",
   "execution_count": null,
   "id": "7a8677dc-4f14-44b0-8b6b-d9b43ca41385",
   "metadata": {},
   "outputs": [],
   "source": []
  }
 ],
 "metadata": {
  "kernelspec": {
   "display_name": "Python 3 (ipykernel)",
   "language": "python",
   "name": "python3"
  },
  "language_info": {
   "codemirror_mode": {
    "name": "ipython",
    "version": 3
   },
   "file_extension": ".py",
   "mimetype": "text/x-python",
   "name": "python",
   "nbconvert_exporter": "python",
   "pygments_lexer": "ipython3",
   "version": "3.9.15"
  }
 },
 "nbformat": 4,
 "nbformat_minor": 5
}
