{
 "cells": [
  {
   "cell_type": "markdown",
   "id": "6d9d6a8f-bfc4-401b-a209-26bcfc3a449c",
   "metadata": {},
   "source": [
    "# Explore GRS images"
   ]
  },
  {
   "cell_type": "markdown",
   "id": "77e62aa9-fd0f-44cd-bc83-9b5c03660456",
   "metadata": {},
   "source": [
    "## Load python libraries"
   ]
  },
  {
   "cell_type": "code",
   "execution_count": null,
   "id": "b8baeae6-5bc5-4243-ba7a-0c10257db2ee",
   "metadata": {},
   "outputs": [],
   "source": [
    "\n",
    "import glob\n",
    "import os\n",
    "import numpy as np\n",
    "import pandas as pd\n",
    "import geopandas as gpd\n",
    "import xarray as xr\n",
    "import rioxarray  # activate the rio accessor\n",
    "\n",
    "#import cartopy\n",
    "import cartopy.crs as ccrs\n",
    "#import cartopy.feature as cfeature\n",
    "#import locale\n",
    "#locale.setlocale(locale.LC_ALL, 'en_US.utf8')\n",
    "import matplotlib.pyplot as plt\n",
    "import matplotlib as mpl\n",
    "#mpl.use('TkAgg')\n",
    "import hvplot.xarray\n",
    "\n",
    "import holoviews as hv\n",
    "import holoviews.operation.datashader as hd\n",
    "hv.extension('bokeh')\n",
    "import datashader as ds\n",
    "import colorcet as cc\n",
    "import panel as pn\n",
    "import panel.widgets as pnw\n",
    "#import ipywidgets as widgets\n",
    "\n",
    "import pyproj as ppj\n",
    "import rasterio\n",
    "from affine import Affine\n",
    "from shapely.geometry import box,Point, mapping\n",
    "from shapely.ops import transform\n",
    "\n",
    "\n",
    "import grstbx\n",
    "from grstbx import visual\n",
    "\n",
    "u = grstbx.utils\n",
    "opj = os.path.join\n"
   ]
  },
  {
   "cell_type": "markdown",
   "id": "8c491db3-e60a-49fe-b729-b0606206d401",
   "metadata": {},
   "source": [
    "## Set Dask local cluster"
   ]
  },
  {
   "cell_type": "code",
   "execution_count": null,
   "id": "b3bcde51-5a87-4803-9aa4-eb2939e97530",
   "metadata": {},
   "outputs": [],
   "source": [
    "import dask.distributed\n",
    "cluster = dask.distributed.LocalCluster(processes=False)\n",
    "client = dask.distributed.Client(cluster)\n",
    "client"
   ]
  },
  {
   "cell_type": "markdown",
   "id": "23387cde-9362-4b4e-8489-62717b47259a",
   "metadata": {},
   "source": [
    "## Set images to play with"
   ]
  },
  {
   "cell_type": "code",
   "execution_count": null,
   "id": "cb277565-c488-4a7b-89b2-acdec9211221",
   "metadata": {},
   "outputs": [],
   "source": [
    "\n",
    "satdir = '/sat_data/satellite/sentinel2/L2A/GRS/31TGM'\n",
    "\n",
    "\n",
    "image='S2*_v14.nc'\n",
    "files = glob.glob(opj(satdir, image))\n",
    "files"
   ]
  },
  {
   "cell_type": "code",
   "execution_count": null,
   "id": "873c5441-129f-400c-9bb3-4fad12c5f9ee",
   "metadata": {},
   "outputs": [],
   "source": [
    "files = pn.widgets.FileSelector(satdir,file_pattern='*.nc')\n",
    "files"
   ]
  },
  {
   "cell_type": "markdown",
   "id": "c329b52b-3878-441c-a109-fd436dd5f831",
   "metadata": {},
   "source": [
    "## Load and subset image series"
   ]
  },
  {
   "cell_type": "code",
   "execution_count": null,
   "id": "52fdb0a3-653d-473d-bdbd-b2ea31d440f4",
   "metadata": {},
   "outputs": [],
   "source": [
    "# central coordinate\n",
    "lon, lat = 6.58, 46.35\n",
    "# size in meter of the rectangle of interest\n",
    "width, height = 40000, 18000\n",
    "\n",
    "ust = grstbx.utils.spatiotemp()\n",
    "box = ust.wktbox(lon,lat, width=width, height=height, ellps='WGS84')\n",
    "bbox = gpd.GeoSeries.from_wkt([box]).set_crs(epsg=4326)\n",
    "# reproject lon lat in xy coordinates\n",
    "bbox = bbox.to_crs(epsg=32631)\n",
    "\n",
    "# generate datacube\n",
    "dc = grstbx.l2grs(files.value)\n",
    "dc.load(subset=bbox.bounds.values[0])\n",
    "\n",
    "#bbox = bbox.to_crs(epsg=3857)\n",
    "#dc.load(reproject=True, subset=bbox.bounds.values[0])\n"
   ]
  },
  {
   "cell_type": "markdown",
   "id": "ae12cd7d-e2f2-4643-9c57-950fe66c6e52",
   "metadata": {},
   "source": [
    "check bounds"
   ]
  },
  {
   "cell_type": "code",
   "execution_count": null,
   "id": "a1eec5c7-5eac-40d7-ac60-740aec24bff1",
   "metadata": {},
   "outputs": [],
   "source": [
    " dc.bbox.to_crs(4326).bounds"
   ]
  },
  {
   "cell_type": "markdown",
   "id": "edeb6247-91dd-4347-935e-f385b411b29f",
   "metadata": {},
   "source": [
    "## Check metadata"
   ]
  },
  {
   "cell_type": "code",
   "execution_count": null,
   "id": "64621866-e0e9-4df5-a122-5eb81a2a06f6",
   "metadata": {},
   "outputs": [],
   "source": [
    "pn.widgets.DataFrame(pd.DataFrame.from_dict(dc.datacube.metadata.attrs,orient='index'),height=300)"
   ]
  },
  {
   "cell_type": "markdown",
   "id": "d350e2de-785c-4956-ace3-feaf04c4c0f6",
   "metadata": {},
   "source": [
    "## **Check spectral datacube** (i.e., Remote Sensing Reflectance, R<sub>rs</sub>, sr<sup>-1</sup>)"
   ]
  },
  {
   "cell_type": "code",
   "execution_count": null,
   "id": "e8066d6c-f720-4e9e-a335-610cf9bb1f7c",
   "metadata": {},
   "outputs": [],
   "source": [
    "dc.Rrs"
   ]
  },
  {
   "cell_type": "markdown",
   "id": "d86d2783-016b-46be-b29f-542f7445948c",
   "metadata": {},
   "source": [
    "To quickly check your data visually, you can use the *visual* module of *grstbx*"
   ]
  },
  {
   "cell_type": "code",
   "execution_count": null,
   "id": "e3710741-a013-4673-b63b-9c49f8934252",
   "metadata": {},
   "outputs": [],
   "source": [
    "visual.image_viewer().Rrs_date(dc.Rrs.Rrs)"
   ]
  },
  {
   "cell_type": "markdown",
   "id": "24cd3073-687e-49a3-984a-d0af3d47b895",
   "metadata": {
    "tags": []
   },
   "source": [
    "## Check flags and masking"
   ]
  },
  {
   "cell_type": "code",
   "execution_count": null,
   "id": "427cd7e6-e3c2-485d-8c3d-41c884bad3ac",
   "metadata": {},
   "outputs": [],
   "source": [
    "masking_ = grstbx.masking(dc.Rrs)\n",
    "pn.widgets.DataFrame(masking_.print_info(),height=400)"
   ]
  },
  {
   "cell_type": "code",
   "execution_count": null,
   "id": "d1d0c771-4a2a-4c1d-bb4e-d632aebd35df",
   "metadata": {},
   "outputs": [],
   "source": [
    "#mask_ = masking_.get_mask(negative=True)\n",
    "#mask_\n",
    "#hv.Image(hv.Dataset(mask_,  kdims=['x','y']))\n",
    "Rrs_masked = dc.Rrs.Rrs.where(dc.Rrs.Rrs.isel(wl=1)>0).where(dc.Rrs.Rrs.isel(wl=8)>0)"
   ]
  },
  {
   "cell_type": "markdown",
   "id": "0a2abd79-5cd3-457a-b51c-cbe20c664ce2",
   "metadata": {},
   "source": [
    "## Masking pixels from flags"
   ]
  },
  {
   "cell_type": "code",
   "execution_count": null,
   "id": "7f30d458-bd1e-4dda-bb69-45e07f7b99ff",
   "metadata": {},
   "outputs": [],
   "source": [
    "#p_ = p_.where(p_.mask_ndwi_corr_mask)\n",
    "#p_.mask_ndwi_corr_mask"
   ]
  },
  {
   "cell_type": "markdown",
   "id": "c4408e3c-e3d1-49e3-b136-3cc18f5ab348",
   "metadata": {
    "tags": []
   },
   "source": [
    "## **Fast checking of the RGB images**"
   ]
  },
  {
   "cell_type": "code",
   "execution_count": null,
   "id": "2cad587a-c066-4b0c-9d76-6167f0f703de",
   "metadata": {},
   "outputs": [],
   "source": [
    "bands=[3,2,1]\n",
    "Rrs_masked.isel(wl=bands).plot.imshow(col='time', robust=True, figsize=(18, 6))\n"
   ]
  },
  {
   "cell_type": "code",
   "execution_count": null,
   "id": "00881453-a93d-4a0e-8c43-e5b7f69e3f4b",
   "metadata": {},
   "outputs": [],
   "source": [
    "bands=[4,2,1]\n",
    "Rrs_masked.isel(wl=bands).plot.imshow(col='time', robust=True, figsize=(18, 6))"
   ]
  },
  {
   "cell_type": "code",
   "execution_count": null,
   "id": "f2150601-867c-4500-a161-596cb43f85b3",
   "metadata": {},
   "outputs": [],
   "source": [
    "import datashader as ds\n",
    "from datashader import transfer_functions as tf \n",
    "from colorcet import palette\n",
    "\n",
    "\n",
    "shaded = []\n",
    "for name, raster in Rrs_masked.isel(wl=2).groupby('time'):\n",
    "    img = tf.shade(raster.squeeze(),cmap=cc.kbc)\n",
    "    img.name = str(name)\n",
    "    shaded.append(img)\n",
    "\n",
    "imgs = tf.Images(*shaded)\n",
    "imgs.num_cols = 3\n",
    "imgs"
   ]
  },
  {
   "cell_type": "markdown",
   "id": "2e2e8cac-0963-4371-a422-3303dcc8c3f9",
   "metadata": {},
   "source": [
    "# L2B algorithm to get biogeochemical parameters\n",
    "## Check blue over green ratio for Chl retrieval with OC2 from NASA\n",
    "$log_{10}(chlor\\_a) = a_0 + \\sum\\limits_{i=1}^4 a_i \\left(log_{10}\\left(\\frac{R_{rs}(\\lambda_{blue})}{R_{rs}(\\lambda_{green})}\\right)\\right)^i$"
   ]
  },
  {
   "cell_type": "code",
   "execution_count": null,
   "id": "38643734-3636-4bb5-8a5c-e652c2c24dbf",
   "metadata": {},
   "outputs": [],
   "source": [
    "# NASA OC2 fro MODIS; bands 488, 547 nm\n",
    "a = [0.2500,-2.4752,1.4061,-2.8233,0.5405]\n",
    "# NASA OC2 for OCTS; bands 490, 565 nm\n",
    "a = [0.2236,-1.8296,1.9094,-2.9481,-0.1718]\n",
    "\n",
    "ratio = np.log10(Rrs_masked.isel(wl=1)/Rrs_masked.isel(wl=2))\n",
    "logchl=0\n",
    "for i in range(len(a)):\n",
    "    logchl+=a[i]*ratio**i\n",
    "chl = 10**(logchl)\n",
    "chl.name='chl in mg.m-3 from OC2'"
   ]
  },
  {
   "cell_type": "markdown",
   "id": "d0759105-1ce1-48dc-821f-a5f0fa86a79f",
   "metadata": {},
   "source": [
    "Set range of valid values"
   ]
  },
  {
   "cell_type": "code",
   "execution_count": null,
   "id": "c8b22982-0808-4f4b-9eab-f554e2d5c2d9",
   "metadata": {},
   "outputs": [],
   "source": [
    "chl = chl.where((chl >= 0) & (chl <= 300))\n",
    "chl.compute()"
   ]
  },
  {
   "cell_type": "code",
   "execution_count": null,
   "id": "6590cdf6-552a-4b29-a53c-828954ac6f84",
   "metadata": {},
   "outputs": [],
   "source": [
    "visual.image_viewer().param_date(chl)"
   ]
  },
  {
   "cell_type": "code",
   "execution_count": null,
   "id": "63868209-1b65-428f-aac2-49bb1364676b",
   "metadata": {},
   "outputs": [],
   "source": [
    "raster = chl\n",
    "\n",
    "\n",
    "img = hv.Image(raster.squeeze().isel(time=2))#,cmap=cc.bgyw)\n",
    "img"
   ]
  },
  {
   "cell_type": "code",
   "execution_count": null,
   "id": "e522b9eb-dd9b-4013-bd8d-32621bdad31a",
   "metadata": {},
   "outputs": [],
   "source": [
    "raster = chl\n",
    "\n",
    "shaded = []\n",
    "for name, raster in chl.groupby('time'):\n",
    "    img = tf.shade(raster.squeeze(),cmap=cc.bgyw)\n",
    "    img.name = str(name)\n",
    "    shaded.append(img)\n",
    "\n",
    "imgs = tf.Images(*shaded)\n",
    "imgs.num_cols = 3\n",
    "imgs"
   ]
  },
  {
   "cell_type": "code",
   "execution_count": null,
   "id": "57a4eaf7-2578-440e-ae90-5e03c2aeb432",
   "metadata": {
    "tags": []
   },
   "outputs": [],
   "source": [
    "\n",
    "import datashader.transfer_functions as tf\n",
    "shaded = []\n",
    "for name, raster in dc.Rrs.Rrs.isel(time=0).groupby('wl'):\n",
    "    img = tf.shade(raster,cmap=cc.kbc)\n",
    "    img.name = '{:.2f}'.format(name)+' nm'\n",
    "    shaded.append(img)\n",
    "\n",
    "imgs = tf.Images(*shaded)\n",
    "imgs.num_cols = 3\n",
    "imgs"
   ]
  },
  {
   "cell_type": "code",
   "execution_count": null,
   "id": "5bf04f09-848d-4ecb-85ed-bb197dd23e26",
   "metadata": {
    "tags": []
   },
   "outputs": [],
   "source": [
    "import datashader as ds\n",
    "ds.utils.export_image(imgs.images, \"lake_geneva_blue.png\", export_path=\"../illustration\",background=None)\n",
    "\n",
    "\n"
   ]
  },
  {
   "cell_type": "code",
   "execution_count": null,
   "id": "9b10152c-cf4e-4e81-9abe-ccda5626e0c0",
   "metadata": {},
   "outputs": [],
   "source": [
    "\n",
    "Rrs_render.hvplot.quadmesh(groupby='wl',\n",
    "                           geo=True, crs=Rrs_render.rio.crs.to_proj4(),\n",
    "                           widget_location='bottom',height=500,width=800,clim=(0,0.07))\n"
   ]
  },
  {
   "cell_type": "code",
   "execution_count": null,
   "id": "14df6ee0-00d5-42c8-85d0-72e6f6ff440f",
   "metadata": {},
   "outputs": [],
   "source": []
  },
  {
   "cell_type": "code",
   "execution_count": null,
   "id": "973492e8-8e39-4dac-8792-a5f8ffbfe498",
   "metadata": {},
   "outputs": [],
   "source": [
    "cmap = 'RdBu_r'\n",
    "hv.Layout([hv.Image(Rrs_render.isel(wl=ib),['lon','lat']).relabel(str(Rrs_render.wl.data[ib])+' nm')\\\n",
    "           .opts(cmap=cmap, \\\n",
    "                 width=300, height=300) for ib in range(9)]).redim.range(value=(-.3, .3)).cols(4) #.opts(colorbar=True, )"
   ]
  },
  {
   "cell_type": "code",
   "execution_count": null,
   "id": "a8722d10-e46d-404b-a31c-7c701aacab44",
   "metadata": {},
   "outputs": [],
   "source": [
    "image=rgb\n",
    "edge=regb\n",
    "cmaps = [cmap for cmap in hv.plotting.list_cmaps() if (cmap.endswith(\"_r\") and cmap.islower())]\n",
    "\n",
    "cmap = pn.widgets.Select(\n",
    "    value=\"binary_r\", options=cmaps, name=\"Color Map\"\n",
    ")\n",
    "\n",
    "before_img = hv.Image(image, ).apply.opts(\n",
    "    cmap=cmap, title=\"Before\", active_tools=[\"box_zoom\"], responsive=True\n",
    ")\n",
    "after_img = hv.Image(edges, ).apply.opts(\n",
    "    cmap=cmap, title=\"After\", active_tools=[\"box_zoom\"], responsive=True\n",
    ")\n",
    "\n",
    "before = pn.panel(before_img)\n",
    "after = pn.panel(after_img)\n",
    "\n",
    "component = pn.Row(before, after, height=2 * height)"
   ]
  },
  {
   "cell_type": "code",
   "execution_count": null,
   "id": "19717b9d-8a8d-47ab-a1bf-6ee214f01108",
   "metadata": {},
   "outputs": [],
   "source": [
    "import geoviews as gv\n",
    "gv_dataset = gv.Dataset(dc.Rrs.Rrs, kdims=['wl','y','x'], vdims=['Raster'] , crs=ccrs.UTM(17))\n",
    "#hd.regrid(gv_dataset.to(gv.Image, kdims=['x','y']))\n",
    "image = hd.regrid(gv_dataset.to(gv.Image, kdims=['x','y']))\n",
    "image"
   ]
  },
  {
   "cell_type": "code",
   "execution_count": null,
   "id": "a0e0c0bf-f153-4c4b-bad1-4e572cf546f7",
   "metadata": {},
   "outputs": [],
   "source": [
    "import geoviews as gv\n",
    "import geoviews.feature as gf\n",
    "\n",
    "from geoviews import opts\n",
    "from cartopy import crs\n",
    "\n",
    "gv.extension('bokeh', 'matplotlib')\n",
    "\n",
    "features = gv.Overlay([gf.ocean, gf.land, gf.rivers, gf.lakes, gf.borders, gf.coastline])\n",
    "\n",
    "gv.output(features, backend='matplotlib', fig='svg', size=300)\n"
   ]
  },
  {
   "cell_type": "code",
   "execution_count": null,
   "id": "ce351fe6-d256-461a-aaee-834a612d760d",
   "metadata": {},
   "outputs": [],
   "source": []
  }
 ],
 "metadata": {
  "kernelspec": {
   "display_name": "Python 3 (ipykernel)",
   "language": "python",
   "name": "python3"
  },
  "language_info": {
   "codemirror_mode": {
    "name": "ipython",
    "version": 3
   },
   "file_extension": ".py",
   "mimetype": "text/x-python",
   "name": "python",
   "nbconvert_exporter": "python",
   "pygments_lexer": "ipython3",
   "version": "3.9.12"
  }
 },
 "nbformat": 4,
 "nbformat_minor": 5
}
