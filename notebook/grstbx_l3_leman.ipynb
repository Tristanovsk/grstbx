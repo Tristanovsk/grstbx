{
 "cells": [
  {
   "cell_type": "markdown",
   "id": "6d9d6a8f-bfc4-401b-a209-26bcfc3a449c",
   "metadata": {},
   "source": [
    "# Explore GRS images"
   ]
  },
  {
   "cell_type": "markdown",
   "id": "77e62aa9-fd0f-44cd-bc83-9b5c03660456",
   "metadata": {},
   "source": [
    "## Load python libraries"
   ]
  },
  {
   "cell_type": "code",
   "execution_count": null,
   "id": "b8baeae6-5bc5-4243-ba7a-0c10257db2ee",
   "metadata": {
    "tags": []
   },
   "outputs": [],
   "source": [
    "\n",
    "import glob\n",
    "import os\n",
    "import numpy as np\n",
    "import pandas as pd\n",
    "import geopandas as gpd\n",
    "import xarray as xr\n",
    "import rioxarray as xrio # activate the rio accessor\n",
    "\n",
    "#import cartopy\n",
    "import cartopy.crs as ccrs\n",
    "#import cartopy.feature as cfeature\n",
    "#import locale\n",
    "#locale.setlocale(locale.LC_ALL, 'en_US.utf8')\n",
    "import matplotlib.pyplot as plt\n",
    "import matplotlib as mpl\n",
    "#mpl.use('TkAgg')\n",
    "import hvplot.xarray\n",
    "\n",
    "import holoviews as hv\n",
    "import holoviews.operation.datashader as hd\n",
    "from holoviews import opts\n",
    "hv.extension('bokeh')\n",
    "import datashader as ds\n",
    "from datashader import transfer_functions as tf \n",
    "import colorcet as cc\n",
    "import panel as pn\n",
    "import panel.widgets as pnw\n",
    "#import ipywidgets as widgets\n",
    "\n",
    "import pyproj as ppj\n",
    "import rasterio\n",
    "from affine import Affine\n",
    "from shapely.geometry import box,Point, mapping\n",
    "from shapely.ops import transform\n",
    "\n",
    "\n",
    "import grstbx\n",
    "from grstbx import visual\n",
    "\n",
    "u = grstbx.utils\n",
    "opj = os.path.join\n",
    "\n",
    "grstbx.__version__"
   ]
  },
  {
   "cell_type": "code",
   "execution_count": null,
   "id": "42280173-bf18-4dd7-82dd-3acc2a320916",
   "metadata": {},
   "outputs": [],
   "source": [
    "pn.__version__"
   ]
  },
  {
   "cell_type": "markdown",
   "id": "8c491db3-e60a-49fe-b729-b0606206d401",
   "metadata": {
    "tags": []
   },
   "source": [
    "## Set Dask local cluster"
   ]
  },
  {
   "cell_type": "code",
   "execution_count": null,
   "id": "b3bcde51-5a87-4803-9aa4-eb2939e97530",
   "metadata": {
    "tags": []
   },
   "outputs": [],
   "source": [
    "#import dask.distributed\n",
    "#cluster = dask.distributed.LocalCluster()\n",
    "#client = dask.distributed.Client(cluster)\n",
    "#cluster.dashboard_link"
   ]
  },
  {
   "cell_type": "markdown",
   "id": "f8b337f6-4f0e-4d45-befc-fb142f8a83e8",
   "metadata": {},
   "source": [
    "## Set PROJ path if necessary"
   ]
  },
  {
   "cell_type": "code",
   "execution_count": null,
   "id": "2039dd1e-7c7d-43e0-95bc-9c1100781ec9",
   "metadata": {},
   "outputs": [],
   "source": [
    "ppj.datadir.get_data_dir()\n",
    "#ppj.datadir.set_data_dir('/work/scratch/harmelt/envs/grstbx/share/proj')"
   ]
  },
  {
   "cell_type": "markdown",
   "id": "23387cde-9362-4b4e-8489-62717b47259a",
   "metadata": {},
   "source": [
    "## Set the images you want to play with"
   ]
  },
  {
   "cell_type": "code",
   "execution_count": null,
   "id": "cb277565-c488-4a7b-89b2-acdec9211221",
   "metadata": {
    "tags": []
   },
   "outputs": [],
   "source": [
    "file = '/sat_data/satellite/sentinel2/L3/test_abhe_2022_nov-dec.nc'#]\n",
    "file = '/home/harmel/Dropbox/Dropbox/satellite/S2/datacube/31TGM_2023-06_leman.nc'\n",
    "raster = xr.open_dataset(file, decode_coords='all').set_coords('spatial_ref')\n",
    "dc =grstbx.l2grs(file)\n",
    "dc.raster=raster\n",
    "dc.raster "
   ]
  },
  {
   "cell_type": "code",
   "execution_count": null,
   "id": "6d6817d9-226a-439d-b878-92daaf2763df",
   "metadata": {},
   "outputs": [],
   "source": [
    "dc.raster.rio.crs #.rio.crs#.rio.write_crs(3857)\n"
   ]
  },
  {
   "cell_type": "markdown",
   "id": "0bac4b55-3162-49fc-aea9-09fc0c1af2a1",
   "metadata": {},
   "source": [
    "## **Fast checking of the RGB images**"
   ]
  },
  {
   "cell_type": "code",
   "execution_count": null,
   "id": "fb006788-3d0e-4c73-9ecb-45c0446bc7b1",
   "metadata": {},
   "outputs": [],
   "source": [
    "bands=[4,2,1]\n",
    "#bands=[3,2,1]\n",
    "coarsening = 1\n",
    "\n",
    "gamma=1\n",
    "fig = (dc.raster.Rrs.isel(wl=bands)[:,:,::coarsening, ::coarsening]**(1/gamma)).plot.imshow(col='time', col_wrap=4,robust=True)\n",
    "for ax in fig.axes.flat:\n",
    "    ax.set(xticks=[], yticks=[])\n",
    "    ax.set_ylabel('')\n",
    "    ax.set_xlabel('')\n",
    "fig\n"
   ]
  },
  {
   "cell_type": "markdown",
   "id": "d350e2de-785c-4956-ace3-feaf04c4c0f6",
   "metadata": {},
   "source": [
    "## **Check spectral datacube** (i.e., Remote Sensing Reflectance, R<sub>rs</sub>, sr<sup>-1</sup>)"
   ]
  },
  {
   "cell_type": "markdown",
   "id": "d86d2783-016b-46be-b29f-542f7445948c",
   "metadata": {},
   "source": [
    "To quickly check your data visually, you can use the *visual* module of *grstbx*. Please use the polygon tool to select and extract you region of interest for further analyses."
   ]
  },
  {
   "cell_type": "code",
   "execution_count": null,
   "id": "632955e0-f90b-41b4-b5cf-d2d23a927021",
   "metadata": {},
   "outputs": [],
   "source": [
    "\n",
    "v=visual.view_spectral(dc.raster.Rrs)\n",
    "v.visu()"
   ]
  },
  {
   "cell_type": "code",
   "execution_count": null,
   "id": "185e3154-aa46-48b2-b2e8-195d552f5d27",
   "metadata": {},
   "outputs": [],
   "source": [
    "geom_ = v.get_geom(v.aoi_stream,crs=dc.raster.rio.crs)\n",
    "Rrs_clipped = dc.raster.Rrs.rio.clip(geom_.geometry.values)"
   ]
  },
  {
   "cell_type": "code",
   "execution_count": null,
   "id": "b5fbc371-d989-42b1-ad03-ae49d989db69",
   "metadata": {},
   "outputs": [],
   "source": [
    "bands=[4,2,1]\n",
    "bands=[3,2,1]\n",
    "\n",
    "fig = Rrs_clipped.isel(wl=bands).plot.imshow(col='time', col_wrap=4,robust=True)\n",
    "for ax in fig.axes.flat:\n",
    "    ax.set(xticks=[], yticks=[])\n",
    "    ax.set_ylabel('')\n",
    "    ax.set_xlabel('')\n",
    "fig\n"
   ]
  },
  {
   "cell_type": "markdown",
   "id": "6081be24-0feb-41db-bdd9-1baded95cd68",
   "metadata": {},
   "source": [
    "## **Check water quality parameters** (e.g., Chl-a concentration from diverse \"algorithms\")"
   ]
  },
  {
   "cell_type": "markdown",
   "id": "991357a1-fcfc-4e87-ae97-a713ac5cde97",
   "metadata": {},
   "source": [
    "## First construct datacube of parameters\n",
    "Choose between full image or clipped one:"
   ]
  },
  {
   "cell_type": "code",
   "execution_count": null,
   "id": "32f24e93-aa30-4ae5-b2d0-3f66261d05ee",
   "metadata": {},
   "outputs": [],
   "source": [
    "# if full image:\n",
    "Rrs = dc.raster.Rrs\n",
    "# or extracted region:\n",
    "#Rrs = Rrs_clipped"
   ]
  },
  {
   "cell_type": "markdown",
   "id": "bc76c1bc-dbb8-4ce3-beb9-3bd2686fd560",
   "metadata": {},
   "source": [
    "### Check blue over green ratio for Chl retrieval with OC2 from NASA\n",
    "$log_{10}(chlor\\_a) = a_0 + \\sum\\limits_{i=1}^4 a_i \\left(log_{10}\\left(\\frac{R_{rs}(\\lambda_{blue})}{R_{rs}(\\lambda_{green})}\\right)\\right)^i$"
   ]
  },
  {
   "cell_type": "code",
   "execution_count": null,
   "id": "38643734-3636-4bb5-8a5c-e652c2c24dbf",
   "metadata": {
    "tags": []
   },
   "outputs": [],
   "source": [
    "\n",
    "# NASA OC2 fro MODIS; bands 488, 547 nm\n",
    "a = [0.2500,-2.4752,1.4061,-2.8233,0.5405]\n",
    "# NASA OC2 for OCTS; bands 490, 565 nm\n",
    "a = [0.2236,-1.8296,1.9094,-2.9481,-0.1718]\n",
    "\n",
    "ratio = np.log10(Rrs.isel(wl=1)/Rrs.isel(wl=2))\n",
    "logchl=0\n",
    "for i in range(len(a)):\n",
    "    logchl+=a[i]*ratio**i\n",
    "chl = 10**(logchl)\n",
    "chl.name='Chl-a_OC2'\n",
    "chl.attrs['units']='mg.m-3'\n",
    "chl.attrs['description']= 'Chl-a concentration from NASA OC2 with OCTS parameterization, bands 490, 565 nm',\n",
    "chl = chl.where((chl >= 0) & (chl <= 60))\n"
   ]
  },
  {
   "cell_type": "markdown",
   "id": "dcf69a64-654f-4426-ab82-e22b0cf4cd8b",
   "metadata": {},
   "source": [
    "### CDOM retrieval based on Brezonik et al, 2015\n"
   ]
  },
  {
   "cell_type": "code",
   "execution_count": null,
   "id": "97ecc081-cc39-4437-88a5-a5ce8526d218",
   "metadata": {},
   "outputs": [],
   "source": [
    "a = [1.872,-0.83]\n",
    "acdom = np.exp(a[0] + a[1] * np.log(Rrs.isel(wl=1)/Rrs.isel(wl=5)))\n",
    "acdom.name='a_cdom_b2015'\n",
    "acdom.attrs['units']='m-1'\n",
    "acdom.attrs['description']='CDOM absorption at 440 nm-1'\n",
    "acdom= acdom.where((acdom >= 0) & (acdom <= 10))\n"
   ]
  },
  {
   "cell_type": "markdown",
   "id": "3be5aec8-4d6e-4d97-abdd-8a623e39d908",
   "metadata": {},
   "source": [
    "### Total suspended particulate matter (SPM) from Nechad et al., 2010, 2016 formulation\n",
    "spm in mg/L"
   ]
  },
  {
   "cell_type": "code",
   "execution_count": null,
   "id": "dd90de13-6855-44f9-98ae-434d7bfa8502",
   "metadata": {},
   "outputs": [],
   "source": [
    "a = [610.94*np.pi, 0.2324/np.pi]\n",
    "Rrs_ = Rrs.isel(wl=3)\n",
    "spm = a[0] * Rrs_ / (1 - ( Rrs_/ a[1]))\n",
    "spm.name='SPM_N2016'\n",
    "spm.attrs['units']='mg/L'\n",
    "spm.attrs['description']='Concentration of suspended particulate matter from band 665 nm'\n",
    "spm= spm.where((spm >= 0) & (spm <= 150))\n"
   ]
  },
  {
   "cell_type": "code",
   "execution_count": null,
   "id": "bc3399e8-1f93-4857-9ac6-673ec89d9265",
   "metadata": {},
   "outputs": [],
   "source": [
    "watqual = xr.merge([chl,acdom,spm])"
   ]
  },
  {
   "cell_type": "code",
   "execution_count": null,
   "id": "d3b47f84-7cd8-4da0-9da7-38c1ff1306ca",
   "metadata": {},
   "outputs": [],
   "source": [
    "v2b=visual.view_param(watqual)\n",
    "v2b.visu()"
   ]
  },
  {
   "cell_type": "markdown",
   "id": "26aebc07-76ed-44c0-be81-b263a90b7218",
   "metadata": {},
   "source": [
    "\n",
    "\n",
    "\n",
    "# Further analyses and time series"
   ]
  },
  {
   "cell_type": "code",
   "execution_count": null,
   "id": "2c2fb0d6-5b1b-44fc-9d46-e5b95c6edc89",
   "metadata": {},
   "outputs": [],
   "source": [
    "stacked = Rrs_clipped.dropna('time',thresh=0).stack(gridcell=[\"y\", \"x\"]).dropna('gridcell',thresh=0)\n"
   ]
  },
  {
   "cell_type": "code",
   "execution_count": null,
   "id": "5b762b1d-73a7-4c11-bf39-2a2baaa43b64",
   "metadata": {},
   "outputs": [],
   "source": [
    "group_coord ='wl'\n",
    "stat_coord='gridcell'\n",
    "stats = xr.Dataset({'median':stacked.groupby(group_coord).median(stat_coord)})\n",
    "stats['q25'] = stacked.groupby(group_coord).quantile(0.25,dim=stat_coord)\n",
    "stats['q75'] = stacked.groupby(group_coord).quantile(0.75,dim=stat_coord)\n",
    "stats['min'] = stacked.groupby(group_coord).min(stat_coord)\n",
    "stats['max'] = stacked.groupby(group_coord).max(stat_coord)\n",
    "stats['mean'] = stacked.groupby(group_coord).mean(stat_coord)\n",
    "stats['std'] = stacked.groupby(group_coord).std(stat_coord)\n",
    "stats['pix_num'] = stacked.count(stat_coord)"
   ]
  },
  {
   "cell_type": "code",
   "execution_count": null,
   "id": "d41a0cdf-18e4-4418-9e2c-074ca6ff76a8",
   "metadata": {},
   "outputs": [],
   "source": [
    "%matplotlib inline\n",
    "num_items = len(stats.time)\n",
    "col_wrap=4\n",
    "rows=int(np.ceil(num_items/col_wrap))\n",
    "\n",
    "fig, axs = plt.subplots(nrows=rows,ncols=col_wrap, sharex=True,sharey=True, figsize=(20, rows*3.5))#,sharey=True\n",
    "fig.subplots_adjust(hspace=0.1,wspace=0.1)\n",
    "axs_ = axs.ravel()\n",
    "[axi.set_axis_off() for axi in axs_]\n",
    "for iax,(_,group) in enumerate(stats.groupby('time')): \n",
    "    date = group.time.dt.date.values\n",
    "    \n",
    "    axs_[iax].set_axis_on()\n",
    "    axs_[iax].axhline(y=0,color='k',lw=1)\n",
    "    axs_[iax].plot(group.wl,group['median'],c='k')\n",
    "    axs_[iax].plot(group.wl,group['mean'],c='red',ls='--')\n",
    "    axs_[iax].fill_between(group.wl, group['q25'], group['q75'],alpha=0.3,color='grey')\n",
    "    axs_[iax].set_title(date)\n",
    "plt.show()"
   ]
  },
  {
   "cell_type": "code",
   "execution_count": null,
   "id": "c4f467df-fe37-40c6-8ba5-7623da53f9b1",
   "metadata": {},
   "outputs": [],
   "source": [
    "import geopandas as gpd\n",
    "def get_buffer_box(p_lat, p_long, distance_m):\n",
    "    # distance is d/2 of the square buffer around the point,\n",
    "    # from center to corner;\n",
    "    # find buffer width in meters\n",
    "    buffer_width_m = distance_m  / np.sqrt(2)\n",
    "\n",
    "    # EPSG:4326 sets Coordinate Reference System to WGS84 to match input\n",
    "    wgs84_pt_gdf = gpd.GeoDataFrame(geometry=gpd.points_from_xy([p_long], [p_lat], crs='4326'))\n",
    "\n",
    "    # find suitable projected coordinate system for distance\n",
    "    utm_crs = wgs84_pt_gdf.estimate_utm_crs()\n",
    "    # reproject to UTM -> create square buffer (cap_style = 3) around point -> reproject back to WGS84\n",
    "    wgs84_buffer = wgs84_pt_gdf.to_crs(utm_crs).buffer(buffer_width_m, cap_style=3).to_crs('EPSG:4326')\n",
    "    # wgs84_buffer.bounds returns bounding box as pandas dataframe,\n",
    "    # .values[0] will extract first row as an array\n",
    "    return wgs84_buffer#.bounds"
   ]
  },
  {
   "cell_type": "code",
   "execution_count": null,
   "id": "5e018c43-48bc-4b76-8dfa-70690644fc02",
   "metadata": {},
   "outputs": [],
   "source": [
    "#set location, geom coordinate system and extent\n",
    "lat,lon= 46.5002275, 6.6608353\n",
    "extent=100\n",
    "# set subset (Area of interest)\n",
    "buffer = get_buffer_box(lat, lon, extent)\n",
    "\n",
    "# wkt = misc.wktbox(lon, lat,width=width,height=height)\n",
    "lon_min, lat_min, lon_max, lat_max = buffer.bounds.values[0]\n",
    "\n",
    "print(buffer.bounds)"
   ]
  },
  {
   "cell_type": "code",
   "execution_count": null,
   "id": "eac9db99-71a8-41cc-97ef-63ecb8914ecd",
   "metadata": {},
   "outputs": [],
   "source": [
    "minx, miny, maxx, maxy = buffer.to_crs(3857).bounds.values[0]\n",
    "print(minx, miny, maxx, maxy)"
   ]
  },
  {
   "cell_type": "code",
   "execution_count": null,
   "id": "399a7e9b-093b-48cc-97f1-1fd9616697bd",
   "metadata": {},
   "outputs": [],
   "source": [
    "clipped = dc.raster.Rrs.rio.clip_box(minx, miny, maxx, maxy)"
   ]
  },
  {
   "cell_type": "code",
   "execution_count": null,
   "id": "b46d5394-2f60-49cd-8988-798865ceb42a",
   "metadata": {},
   "outputs": [],
   "source": [
    "clipped"
   ]
  },
  {
   "cell_type": "markdown",
   "id": "e077158e-5a5d-4e5b-aeca-58876edf8a06",
   "metadata": {},
   "source": [
    "# Check surface rugosity via sunglint BRDF"
   ]
  },
  {
   "cell_type": "code",
   "execution_count": null,
   "id": "b78f8501-eadd-4236-a7eb-cbad50ef1426",
   "metadata": {},
   "outputs": [],
   "source": [
    "\n",
    "raster = dc.raster.BRDFg#.isel(time=-1,drop=True)\n",
    "ds = hv.Dataset(raster.persist())\n",
    "im= ds.to(hv.Image, ['x', 'y'], dynamic=True).opts(cmap= 'gray',colorbar=True)#.hist(bin_range=(0,0.02) ) \n",
    "widget = pn.widgets.RangeSlider(start=0, end=0.1,step=0.0005)\n",
    "\n",
    "jscode = \"\"\"\n",
    "    color_mapper.low = cb_obj.value[0];\n",
    "    color_mapper.high = cb_obj.value[1];\n",
    "\"\"\"\n",
    "link = widget.jslink(im, code={'value': jscode})\n",
    "pn.Column(widget, im)"
   ]
  },
  {
   "cell_type": "code",
   "execution_count": null,
   "id": "2a29535a-715e-4fc6-a57c-08d68319018f",
   "metadata": {},
   "outputs": [],
   "source": [
    "\n",
    "shaded = []\n",
    "for name, raster in dc.raster.BRDFg.groupby('time'):\n",
    "    img = tf.shade(raster.squeeze()[::-1],cmap=cc.gray)\n",
    "    img.name = str(name)\n",
    "    shaded.append(img)\n",
    "\n",
    "imgs = tf.Images(*shaded)\n",
    "imgs.num_cols = 3\n",
    "imgs"
   ]
  },
  {
   "cell_type": "code",
   "execution_count": null,
   "id": "28034374-73c6-45c9-b4c1-574960ec3761",
   "metadata": {},
   "outputs": [],
   "source": [
    "visual.image_viewer().param_date(spm,cmap='bgyw')"
   ]
  },
  {
   "cell_type": "code",
   "execution_count": null,
   "id": "57a4eaf7-2578-440e-ae90-5e03c2aeb432",
   "metadata": {
    "tags": []
   },
   "outputs": [],
   "source": [
    "\n",
    "shaded = []\n",
    "for name, raster in dc.Rrs.Rrs.isel(time=-1).groupby('wl'):\n",
    "    img = tf.shade(raster,cmap=cc.kbc)\n",
    "    img.name = '{:.2f}'.format(name)+' nm'\n",
    "    shaded.append(img)\n",
    "\n",
    "imgs = tf.Images(*shaded)\n",
    "imgs.num_cols = 5\n",
    "imgs"
   ]
  },
  {
   "cell_type": "code",
   "execution_count": null,
   "id": "459a562c-51fa-43cf-86e4-8f1242dd2a09",
   "metadata": {},
   "outputs": [],
   "source": [
    "shaded = []\n",
    "for name, raster in BRDFg.groupby('time'):\n",
    "    img = tf.shade(raster,cmap=cc.gray, span=(0,0.025),how='log')\n",
    "    img.name = str(name)\n",
    "    shaded.append(img)\n",
    "\n",
    "imgs = tf.Images(*shaded)\n",
    "imgs.num_cols = 4\n",
    "imgs"
   ]
  },
  {
   "cell_type": "markdown",
   "id": "bc9eabfe-5853-42ec-8709-a5ad7d876787",
   "metadata": {},
   "source": [
    "# Play with time series"
   ]
  },
  {
   "cell_type": "code",
   "execution_count": null,
   "id": "ce351fe6-d256-461a-aaee-834a612d760d",
   "metadata": {},
   "outputs": [],
   "source": [
    "raster = chl\n",
    "\n",
    "param = raster.name\n",
    "third_dim = 'time'\n",
    "time= raster.time.data\n",
    "Ntime = len(time)\n",
    "ds = hv.Dataset(raster.persist())\n",
    "im= ds.to(hv.Image, ['x', 'y'], dynamic=True).opts(cmap= 'RdBu_r',colorbar=True,clim=(0,100))#.hist(bin_range=(0,0.02) ) \n",
    "\n",
    "polys = hv.Polygons([])\n",
    "box_stream = hv.streams.BoxEdit(source=polys)\n",
    "dmap, dmap_std=[],[]\n",
    "\n",
    "def roi_curves(data,ds=ds):    \n",
    "    if not data or not any(len(d) for d in data.values()):\n",
    "        return hv.NdOverlay({0: hv.Curve([],'time', param)})\n",
    "\n",
    "    curves,envelope = {},{}\n",
    "    data = zip(data['x0'], data['x1'], data['y0'], data['y1'])\n",
    "    for i, (x0, x1, y0, y1) in enumerate(data):\n",
    "        selection = ds.select(x=(x0, x1), y=(y0, y1))\n",
    "        mean = selection.aggregate(third_dim, np.nanmean).data\n",
    "        print(mean)\n",
    "        #std = selection.aggregate(third_dim, np.std).data\n",
    "        time = mean[third_dim]\n",
    "\n",
    "        curves[i]= hv.Curve((time,mean[param]),'time', param) \n",
    "\n",
    "    return hv.NdOverlay(curves)\n",
    "\n",
    "\n",
    "# a bit dirty to have two similar function, but holoviews does not like mixing Curve and Spread for the same stream\n",
    "def roi_spreads(data,ds=ds):    \n",
    "    if not data or not any(len(d) for d in data.values()):\n",
    "        return hv.NdOverlay({0: hv.Curve([],'time', param)})\n",
    "\n",
    "    curves,envelope = {},{}\n",
    "    data = zip(data['x0'], data['x1'], data['y0'], data['y1'])\n",
    "    for i, (x0, x1, y0, y1) in enumerate(data):\n",
    "        selection = ds.select(x=(x0, x1), y=(y0, y1))\n",
    "        mean = selection.aggregate(third_dim, np.nanmean).data\n",
    "        std = selection.aggregate(third_dim, np.nanstd).data\n",
    "        time = mean[third_dim]\n",
    "\n",
    "        curves[i]=  hv.Spread((time,mean[param],std[param]),fill_alpha=0.3)\n",
    "\n",
    "    return hv.NdOverlay(curves)\n",
    "\n",
    "mean=hv.DynamicMap(roi_curves,streams=[box_stream])\n",
    "std =hv.DynamicMap(roi_spreads, streams=[box_stream])    \n"
   ]
  },
  {
   "cell_type": "code",
   "execution_count": null,
   "id": "e564ea4e-ddbf-4f91-9c59-737b629cd5f7",
   "metadata": {},
   "outputs": [],
   "source": [
    "# visualize and play\n",
    "graphs = ((mean*std ).relabel(param))\n",
    "layout = (im * polys +graphs    ).opts(\n",
    "    opts.Curve(width=1200,height=600, framewise=True), \n",
    "    opts.Polygons(fill_alpha=0.2, color='green',line_color='black'), \n",
    "    ).cols(1)\n",
    "layout "
   ]
  },
  {
   "cell_type": "code",
   "execution_count": null,
   "id": "ddde8b98-e369-4b04-ac5d-33361240fbbe",
   "metadata": {},
   "outputs": [],
   "source": []
  }
 ],
 "metadata": {
  "kernelspec": {
   "display_name": "Python 3 (ipykernel)",
   "language": "python",
   "name": "python3"
  },
  "language_info": {
   "codemirror_mode": {
    "name": "ipython",
    "version": 3
   },
   "file_extension": ".py",
   "mimetype": "text/x-python",
   "name": "python",
   "nbconvert_exporter": "python",
   "pygments_lexer": "ipython3",
   "version": "3.9.15"
  }
 },
 "nbformat": 4,
 "nbformat_minor": 5
}
